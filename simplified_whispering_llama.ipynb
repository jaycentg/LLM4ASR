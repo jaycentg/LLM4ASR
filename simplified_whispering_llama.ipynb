{
  "nbformat": 4,
  "nbformat_minor": 0,
  "metadata": {
    "colab": {
      "provenance": [],
      "gpuType": "T4"
    },
    "kernelspec": {
      "name": "python3",
      "display_name": "Python 3"
    },
    "language_info": {
      "name": "python"
    },
    "accelerator": "GPU",
    "widgets": {
      "application/vnd.jupyter.widget-state+json": {
        "802bafb1cc5b4a4e85e067922eb21e84": {
          "model_module": "@jupyter-widgets/controls",
          "model_name": "HBoxModel",
          "model_module_version": "1.5.0",
          "state": {
            "_dom_classes": [],
            "_model_module": "@jupyter-widgets/controls",
            "_model_module_version": "1.5.0",
            "_model_name": "HBoxModel",
            "_view_count": null,
            "_view_module": "@jupyter-widgets/controls",
            "_view_module_version": "1.5.0",
            "_view_name": "HBoxView",
            "box_style": "",
            "children": [
              "IPY_MODEL_25fcd7f6f6f841a29da016b9c1de55b3",
              "IPY_MODEL_88481aed0dc048f5af99dbd2e367a530",
              "IPY_MODEL_e3dedf3f737344c3878709038ad31bd1"
            ],
            "layout": "IPY_MODEL_c8dd9653729f464096cad534a113fbca"
          }
        },
        "25fcd7f6f6f841a29da016b9c1de55b3": {
          "model_module": "@jupyter-widgets/controls",
          "model_name": "HTMLModel",
          "model_module_version": "1.5.0",
          "state": {
            "_dom_classes": [],
            "_model_module": "@jupyter-widgets/controls",
            "_model_module_version": "1.5.0",
            "_model_name": "HTMLModel",
            "_view_count": null,
            "_view_module": "@jupyter-widgets/controls",
            "_view_module_version": "1.5.0",
            "_view_name": "HTMLView",
            "description": "",
            "description_tooltip": null,
            "layout": "IPY_MODEL_af64c7538b3a43f0beda32fd5570b861",
            "placeholder": "​",
            "style": "IPY_MODEL_7717d98a6828403a8ebc705f28d95a4a",
            "value": "README.md: 100%"
          }
        },
        "88481aed0dc048f5af99dbd2e367a530": {
          "model_module": "@jupyter-widgets/controls",
          "model_name": "FloatProgressModel",
          "model_module_version": "1.5.0",
          "state": {
            "_dom_classes": [],
            "_model_module": "@jupyter-widgets/controls",
            "_model_module_version": "1.5.0",
            "_model_name": "FloatProgressModel",
            "_view_count": null,
            "_view_module": "@jupyter-widgets/controls",
            "_view_module_version": "1.5.0",
            "_view_name": "ProgressView",
            "bar_style": "success",
            "description": "",
            "description_tooltip": null,
            "layout": "IPY_MODEL_8ca34dd5220a4f31b0277a8735eb4a25",
            "max": 2186,
            "min": 0,
            "orientation": "horizontal",
            "style": "IPY_MODEL_8886133630f5464dac434d429c48df99",
            "value": 2186
          }
        },
        "e3dedf3f737344c3878709038ad31bd1": {
          "model_module": "@jupyter-widgets/controls",
          "model_name": "HTMLModel",
          "model_module_version": "1.5.0",
          "state": {
            "_dom_classes": [],
            "_model_module": "@jupyter-widgets/controls",
            "_model_module_version": "1.5.0",
            "_model_name": "HTMLModel",
            "_view_count": null,
            "_view_module": "@jupyter-widgets/controls",
            "_view_module_version": "1.5.0",
            "_view_name": "HTMLView",
            "description": "",
            "description_tooltip": null,
            "layout": "IPY_MODEL_6aeb193673004a1695cb90f63a3d4d64",
            "placeholder": "​",
            "style": "IPY_MODEL_5aa7a42224b34f0ab3d905e39a6fb167",
            "value": " 2.19k/2.19k [00:00&lt;00:00, 86.3kB/s]"
          }
        },
        "c8dd9653729f464096cad534a113fbca": {
          "model_module": "@jupyter-widgets/base",
          "model_name": "LayoutModel",
          "model_module_version": "1.2.0",
          "state": {
            "_model_module": "@jupyter-widgets/base",
            "_model_module_version": "1.2.0",
            "_model_name": "LayoutModel",
            "_view_count": null,
            "_view_module": "@jupyter-widgets/base",
            "_view_module_version": "1.2.0",
            "_view_name": "LayoutView",
            "align_content": null,
            "align_items": null,
            "align_self": null,
            "border": null,
            "bottom": null,
            "display": null,
            "flex": null,
            "flex_flow": null,
            "grid_area": null,
            "grid_auto_columns": null,
            "grid_auto_flow": null,
            "grid_auto_rows": null,
            "grid_column": null,
            "grid_gap": null,
            "grid_row": null,
            "grid_template_areas": null,
            "grid_template_columns": null,
            "grid_template_rows": null,
            "height": null,
            "justify_content": null,
            "justify_items": null,
            "left": null,
            "margin": null,
            "max_height": null,
            "max_width": null,
            "min_height": null,
            "min_width": null,
            "object_fit": null,
            "object_position": null,
            "order": null,
            "overflow": null,
            "overflow_x": null,
            "overflow_y": null,
            "padding": null,
            "right": null,
            "top": null,
            "visibility": null,
            "width": null
          }
        },
        "af64c7538b3a43f0beda32fd5570b861": {
          "model_module": "@jupyter-widgets/base",
          "model_name": "LayoutModel",
          "model_module_version": "1.2.0",
          "state": {
            "_model_module": "@jupyter-widgets/base",
            "_model_module_version": "1.2.0",
            "_model_name": "LayoutModel",
            "_view_count": null,
            "_view_module": "@jupyter-widgets/base",
            "_view_module_version": "1.2.0",
            "_view_name": "LayoutView",
            "align_content": null,
            "align_items": null,
            "align_self": null,
            "border": null,
            "bottom": null,
            "display": null,
            "flex": null,
            "flex_flow": null,
            "grid_area": null,
            "grid_auto_columns": null,
            "grid_auto_flow": null,
            "grid_auto_rows": null,
            "grid_column": null,
            "grid_gap": null,
            "grid_row": null,
            "grid_template_areas": null,
            "grid_template_columns": null,
            "grid_template_rows": null,
            "height": null,
            "justify_content": null,
            "justify_items": null,
            "left": null,
            "margin": null,
            "max_height": null,
            "max_width": null,
            "min_height": null,
            "min_width": null,
            "object_fit": null,
            "object_position": null,
            "order": null,
            "overflow": null,
            "overflow_x": null,
            "overflow_y": null,
            "padding": null,
            "right": null,
            "top": null,
            "visibility": null,
            "width": null
          }
        },
        "7717d98a6828403a8ebc705f28d95a4a": {
          "model_module": "@jupyter-widgets/controls",
          "model_name": "DescriptionStyleModel",
          "model_module_version": "1.5.0",
          "state": {
            "_model_module": "@jupyter-widgets/controls",
            "_model_module_version": "1.5.0",
            "_model_name": "DescriptionStyleModel",
            "_view_count": null,
            "_view_module": "@jupyter-widgets/base",
            "_view_module_version": "1.2.0",
            "_view_name": "StyleView",
            "description_width": ""
          }
        },
        "8ca34dd5220a4f31b0277a8735eb4a25": {
          "model_module": "@jupyter-widgets/base",
          "model_name": "LayoutModel",
          "model_module_version": "1.2.0",
          "state": {
            "_model_module": "@jupyter-widgets/base",
            "_model_module_version": "1.2.0",
            "_model_name": "LayoutModel",
            "_view_count": null,
            "_view_module": "@jupyter-widgets/base",
            "_view_module_version": "1.2.0",
            "_view_name": "LayoutView",
            "align_content": null,
            "align_items": null,
            "align_self": null,
            "border": null,
            "bottom": null,
            "display": null,
            "flex": null,
            "flex_flow": null,
            "grid_area": null,
            "grid_auto_columns": null,
            "grid_auto_flow": null,
            "grid_auto_rows": null,
            "grid_column": null,
            "grid_gap": null,
            "grid_row": null,
            "grid_template_areas": null,
            "grid_template_columns": null,
            "grid_template_rows": null,
            "height": null,
            "justify_content": null,
            "justify_items": null,
            "left": null,
            "margin": null,
            "max_height": null,
            "max_width": null,
            "min_height": null,
            "min_width": null,
            "object_fit": null,
            "object_position": null,
            "order": null,
            "overflow": null,
            "overflow_x": null,
            "overflow_y": null,
            "padding": null,
            "right": null,
            "top": null,
            "visibility": null,
            "width": null
          }
        },
        "8886133630f5464dac434d429c48df99": {
          "model_module": "@jupyter-widgets/controls",
          "model_name": "ProgressStyleModel",
          "model_module_version": "1.5.0",
          "state": {
            "_model_module": "@jupyter-widgets/controls",
            "_model_module_version": "1.5.0",
            "_model_name": "ProgressStyleModel",
            "_view_count": null,
            "_view_module": "@jupyter-widgets/base",
            "_view_module_version": "1.2.0",
            "_view_name": "StyleView",
            "bar_color": null,
            "description_width": ""
          }
        },
        "6aeb193673004a1695cb90f63a3d4d64": {
          "model_module": "@jupyter-widgets/base",
          "model_name": "LayoutModel",
          "model_module_version": "1.2.0",
          "state": {
            "_model_module": "@jupyter-widgets/base",
            "_model_module_version": "1.2.0",
            "_model_name": "LayoutModel",
            "_view_count": null,
            "_view_module": "@jupyter-widgets/base",
            "_view_module_version": "1.2.0",
            "_view_name": "LayoutView",
            "align_content": null,
            "align_items": null,
            "align_self": null,
            "border": null,
            "bottom": null,
            "display": null,
            "flex": null,
            "flex_flow": null,
            "grid_area": null,
            "grid_auto_columns": null,
            "grid_auto_flow": null,
            "grid_auto_rows": null,
            "grid_column": null,
            "grid_gap": null,
            "grid_row": null,
            "grid_template_areas": null,
            "grid_template_columns": null,
            "grid_template_rows": null,
            "height": null,
            "justify_content": null,
            "justify_items": null,
            "left": null,
            "margin": null,
            "max_height": null,
            "max_width": null,
            "min_height": null,
            "min_width": null,
            "object_fit": null,
            "object_position": null,
            "order": null,
            "overflow": null,
            "overflow_x": null,
            "overflow_y": null,
            "padding": null,
            "right": null,
            "top": null,
            "visibility": null,
            "width": null
          }
        },
        "5aa7a42224b34f0ab3d905e39a6fb167": {
          "model_module": "@jupyter-widgets/controls",
          "model_name": "DescriptionStyleModel",
          "model_module_version": "1.5.0",
          "state": {
            "_model_module": "@jupyter-widgets/controls",
            "_model_module_version": "1.5.0",
            "_model_name": "DescriptionStyleModel",
            "_view_count": null,
            "_view_module": "@jupyter-widgets/base",
            "_view_module_version": "1.2.0",
            "_view_name": "StyleView",
            "description_width": ""
          }
        },
        "408233a8657c494480dc03add691e22d": {
          "model_module": "@jupyter-widgets/controls",
          "model_name": "HBoxModel",
          "model_module_version": "1.5.0",
          "state": {
            "_dom_classes": [],
            "_model_module": "@jupyter-widgets/controls",
            "_model_module_version": "1.5.0",
            "_model_name": "HBoxModel",
            "_view_count": null,
            "_view_module": "@jupyter-widgets/controls",
            "_view_module_version": "1.5.0",
            "_view_name": "HBoxView",
            "box_style": "",
            "children": [
              "IPY_MODEL_7d2b1257fcbe41559b3c0c8d1fdeabd7",
              "IPY_MODEL_dc3fe444fa39410a954a0682edd44fbd",
              "IPY_MODEL_f9a8d88dd5d94b188bdcb8b3919b6e1c"
            ],
            "layout": "IPY_MODEL_d50040a9357d4441bd9ae60b64618945"
          }
        },
        "7d2b1257fcbe41559b3c0c8d1fdeabd7": {
          "model_module": "@jupyter-widgets/controls",
          "model_name": "HTMLModel",
          "model_module_version": "1.5.0",
          "state": {
            "_dom_classes": [],
            "_model_module": "@jupyter-widgets/controls",
            "_model_module_version": "1.5.0",
            "_model_name": "HTMLModel",
            "_view_count": null,
            "_view_module": "@jupyter-widgets/controls",
            "_view_module_version": "1.5.0",
            "_view_name": "HTMLView",
            "description": "",
            "description_tooltip": null,
            "layout": "IPY_MODEL_ababc05d3d9e4ff1ace369d128a99200",
            "placeholder": "​",
            "style": "IPY_MODEL_2aff0a21eda348f29935779117f6a245",
            "value": "(…)speech_test_clean-00000-of-00002.parquet: 100%"
          }
        },
        "dc3fe444fa39410a954a0682edd44fbd": {
          "model_module": "@jupyter-widgets/controls",
          "model_name": "FloatProgressModel",
          "model_module_version": "1.5.0",
          "state": {
            "_dom_classes": [],
            "_model_module": "@jupyter-widgets/controls",
            "_model_module_version": "1.5.0",
            "_model_name": "FloatProgressModel",
            "_view_count": null,
            "_view_module": "@jupyter-widgets/controls",
            "_view_module_version": "1.5.0",
            "_view_name": "ProgressView",
            "bar_style": "success",
            "description": "",
            "description_tooltip": null,
            "layout": "IPY_MODEL_afaacb15fad24632b1c606db1af4e50a",
            "max": 312347389,
            "min": 0,
            "orientation": "horizontal",
            "style": "IPY_MODEL_645ba8e5c3434fc1b577dfee9118ea11",
            "value": 312347389
          }
        },
        "f9a8d88dd5d94b188bdcb8b3919b6e1c": {
          "model_module": "@jupyter-widgets/controls",
          "model_name": "HTMLModel",
          "model_module_version": "1.5.0",
          "state": {
            "_dom_classes": [],
            "_model_module": "@jupyter-widgets/controls",
            "_model_module_version": "1.5.0",
            "_model_name": "HTMLModel",
            "_view_count": null,
            "_view_module": "@jupyter-widgets/controls",
            "_view_module_version": "1.5.0",
            "_view_name": "HTMLView",
            "description": "",
            "description_tooltip": null,
            "layout": "IPY_MODEL_a8370fbd0e0f4db79eca9294a722b1dd",
            "placeholder": "​",
            "style": "IPY_MODEL_73cb619098ca4e05851c03a5b55f6af0",
            "value": " 312M/312M [00:07&lt;00:00, 42.5MB/s]"
          }
        },
        "d50040a9357d4441bd9ae60b64618945": {
          "model_module": "@jupyter-widgets/base",
          "model_name": "LayoutModel",
          "model_module_version": "1.2.0",
          "state": {
            "_model_module": "@jupyter-widgets/base",
            "_model_module_version": "1.2.0",
            "_model_name": "LayoutModel",
            "_view_count": null,
            "_view_module": "@jupyter-widgets/base",
            "_view_module_version": "1.2.0",
            "_view_name": "LayoutView",
            "align_content": null,
            "align_items": null,
            "align_self": null,
            "border": null,
            "bottom": null,
            "display": null,
            "flex": null,
            "flex_flow": null,
            "grid_area": null,
            "grid_auto_columns": null,
            "grid_auto_flow": null,
            "grid_auto_rows": null,
            "grid_column": null,
            "grid_gap": null,
            "grid_row": null,
            "grid_template_areas": null,
            "grid_template_columns": null,
            "grid_template_rows": null,
            "height": null,
            "justify_content": null,
            "justify_items": null,
            "left": null,
            "margin": null,
            "max_height": null,
            "max_width": null,
            "min_height": null,
            "min_width": null,
            "object_fit": null,
            "object_position": null,
            "order": null,
            "overflow": null,
            "overflow_x": null,
            "overflow_y": null,
            "padding": null,
            "right": null,
            "top": null,
            "visibility": null,
            "width": null
          }
        },
        "ababc05d3d9e4ff1ace369d128a99200": {
          "model_module": "@jupyter-widgets/base",
          "model_name": "LayoutModel",
          "model_module_version": "1.2.0",
          "state": {
            "_model_module": "@jupyter-widgets/base",
            "_model_module_version": "1.2.0",
            "_model_name": "LayoutModel",
            "_view_count": null,
            "_view_module": "@jupyter-widgets/base",
            "_view_module_version": "1.2.0",
            "_view_name": "LayoutView",
            "align_content": null,
            "align_items": null,
            "align_self": null,
            "border": null,
            "bottom": null,
            "display": null,
            "flex": null,
            "flex_flow": null,
            "grid_area": null,
            "grid_auto_columns": null,
            "grid_auto_flow": null,
            "grid_auto_rows": null,
            "grid_column": null,
            "grid_gap": null,
            "grid_row": null,
            "grid_template_areas": null,
            "grid_template_columns": null,
            "grid_template_rows": null,
            "height": null,
            "justify_content": null,
            "justify_items": null,
            "left": null,
            "margin": null,
            "max_height": null,
            "max_width": null,
            "min_height": null,
            "min_width": null,
            "object_fit": null,
            "object_position": null,
            "order": null,
            "overflow": null,
            "overflow_x": null,
            "overflow_y": null,
            "padding": null,
            "right": null,
            "top": null,
            "visibility": null,
            "width": null
          }
        },
        "2aff0a21eda348f29935779117f6a245": {
          "model_module": "@jupyter-widgets/controls",
          "model_name": "DescriptionStyleModel",
          "model_module_version": "1.5.0",
          "state": {
            "_model_module": "@jupyter-widgets/controls",
            "_model_module_version": "1.5.0",
            "_model_name": "DescriptionStyleModel",
            "_view_count": null,
            "_view_module": "@jupyter-widgets/base",
            "_view_module_version": "1.2.0",
            "_view_name": "StyleView",
            "description_width": ""
          }
        },
        "afaacb15fad24632b1c606db1af4e50a": {
          "model_module": "@jupyter-widgets/base",
          "model_name": "LayoutModel",
          "model_module_version": "1.2.0",
          "state": {
            "_model_module": "@jupyter-widgets/base",
            "_model_module_version": "1.2.0",
            "_model_name": "LayoutModel",
            "_view_count": null,
            "_view_module": "@jupyter-widgets/base",
            "_view_module_version": "1.2.0",
            "_view_name": "LayoutView",
            "align_content": null,
            "align_items": null,
            "align_self": null,
            "border": null,
            "bottom": null,
            "display": null,
            "flex": null,
            "flex_flow": null,
            "grid_area": null,
            "grid_auto_columns": null,
            "grid_auto_flow": null,
            "grid_auto_rows": null,
            "grid_column": null,
            "grid_gap": null,
            "grid_row": null,
            "grid_template_areas": null,
            "grid_template_columns": null,
            "grid_template_rows": null,
            "height": null,
            "justify_content": null,
            "justify_items": null,
            "left": null,
            "margin": null,
            "max_height": null,
            "max_width": null,
            "min_height": null,
            "min_width": null,
            "object_fit": null,
            "object_position": null,
            "order": null,
            "overflow": null,
            "overflow_x": null,
            "overflow_y": null,
            "padding": null,
            "right": null,
            "top": null,
            "visibility": null,
            "width": null
          }
        },
        "645ba8e5c3434fc1b577dfee9118ea11": {
          "model_module": "@jupyter-widgets/controls",
          "model_name": "ProgressStyleModel",
          "model_module_version": "1.5.0",
          "state": {
            "_model_module": "@jupyter-widgets/controls",
            "_model_module_version": "1.5.0",
            "_model_name": "ProgressStyleModel",
            "_view_count": null,
            "_view_module": "@jupyter-widgets/base",
            "_view_module_version": "1.2.0",
            "_view_name": "StyleView",
            "bar_color": null,
            "description_width": ""
          }
        },
        "a8370fbd0e0f4db79eca9294a722b1dd": {
          "model_module": "@jupyter-widgets/base",
          "model_name": "LayoutModel",
          "model_module_version": "1.2.0",
          "state": {
            "_model_module": "@jupyter-widgets/base",
            "_model_module_version": "1.2.0",
            "_model_name": "LayoutModel",
            "_view_count": null,
            "_view_module": "@jupyter-widgets/base",
            "_view_module_version": "1.2.0",
            "_view_name": "LayoutView",
            "align_content": null,
            "align_items": null,
            "align_self": null,
            "border": null,
            "bottom": null,
            "display": null,
            "flex": null,
            "flex_flow": null,
            "grid_area": null,
            "grid_auto_columns": null,
            "grid_auto_flow": null,
            "grid_auto_rows": null,
            "grid_column": null,
            "grid_gap": null,
            "grid_row": null,
            "grid_template_areas": null,
            "grid_template_columns": null,
            "grid_template_rows": null,
            "height": null,
            "justify_content": null,
            "justify_items": null,
            "left": null,
            "margin": null,
            "max_height": null,
            "max_width": null,
            "min_height": null,
            "min_width": null,
            "object_fit": null,
            "object_position": null,
            "order": null,
            "overflow": null,
            "overflow_x": null,
            "overflow_y": null,
            "padding": null,
            "right": null,
            "top": null,
            "visibility": null,
            "width": null
          }
        },
        "73cb619098ca4e05851c03a5b55f6af0": {
          "model_module": "@jupyter-widgets/controls",
          "model_name": "DescriptionStyleModel",
          "model_module_version": "1.5.0",
          "state": {
            "_model_module": "@jupyter-widgets/controls",
            "_model_module_version": "1.5.0",
            "_model_name": "DescriptionStyleModel",
            "_view_count": null,
            "_view_module": "@jupyter-widgets/base",
            "_view_module_version": "1.2.0",
            "_view_name": "StyleView",
            "description_width": ""
          }
        },
        "50c64ba3d2394a43b89271f6fac9d699": {
          "model_module": "@jupyter-widgets/controls",
          "model_name": "HBoxModel",
          "model_module_version": "1.5.0",
          "state": {
            "_dom_classes": [],
            "_model_module": "@jupyter-widgets/controls",
            "_model_module_version": "1.5.0",
            "_model_name": "HBoxModel",
            "_view_count": null,
            "_view_module": "@jupyter-widgets/controls",
            "_view_module_version": "1.5.0",
            "_view_name": "HBoxView",
            "box_style": "",
            "children": [
              "IPY_MODEL_bcf58b187a9745b0938d57493414ebcf",
              "IPY_MODEL_b1b125741c7f41ce9b69139f1caa1ff0",
              "IPY_MODEL_eba8557d4f3e4cf89b804f9985e42268"
            ],
            "layout": "IPY_MODEL_b2521c5daa304ea998a615ffc44f7808"
          }
        },
        "bcf58b187a9745b0938d57493414ebcf": {
          "model_module": "@jupyter-widgets/controls",
          "model_name": "HTMLModel",
          "model_module_version": "1.5.0",
          "state": {
            "_dom_classes": [],
            "_model_module": "@jupyter-widgets/controls",
            "_model_module_version": "1.5.0",
            "_model_name": "HTMLModel",
            "_view_count": null,
            "_view_module": "@jupyter-widgets/controls",
            "_view_module_version": "1.5.0",
            "_view_name": "HTMLView",
            "description": "",
            "description_tooltip": null,
            "layout": "IPY_MODEL_0514bd73eace4d93ab215734f3eeb314",
            "placeholder": "​",
            "style": "IPY_MODEL_08e63eab79224662a5ab22afd4e8b44f",
            "value": "(…)speech_test_clean-00001-of-00002.parquet: 100%"
          }
        },
        "b1b125741c7f41ce9b69139f1caa1ff0": {
          "model_module": "@jupyter-widgets/controls",
          "model_name": "FloatProgressModel",
          "model_module_version": "1.5.0",
          "state": {
            "_dom_classes": [],
            "_model_module": "@jupyter-widgets/controls",
            "_model_module_version": "1.5.0",
            "_model_name": "FloatProgressModel",
            "_view_count": null,
            "_view_module": "@jupyter-widgets/controls",
            "_view_module_version": "1.5.0",
            "_view_name": "ProgressView",
            "bar_style": "success",
            "description": "",
            "description_tooltip": null,
            "layout": "IPY_MODEL_09bbe86bf0f34c6ea2a926366e3e7dee",
            "max": 300916428,
            "min": 0,
            "orientation": "horizontal",
            "style": "IPY_MODEL_e83d976dc78d49d888b9929f36f173d8",
            "value": 300916428
          }
        },
        "eba8557d4f3e4cf89b804f9985e42268": {
          "model_module": "@jupyter-widgets/controls",
          "model_name": "HTMLModel",
          "model_module_version": "1.5.0",
          "state": {
            "_dom_classes": [],
            "_model_module": "@jupyter-widgets/controls",
            "_model_module_version": "1.5.0",
            "_model_name": "HTMLModel",
            "_view_count": null,
            "_view_module": "@jupyter-widgets/controls",
            "_view_module_version": "1.5.0",
            "_view_name": "HTMLView",
            "description": "",
            "description_tooltip": null,
            "layout": "IPY_MODEL_336eb98b927c4ef6a84fbddf0e275ae9",
            "placeholder": "​",
            "style": "IPY_MODEL_06ca7f063bff450c9059703dfdc3dc0e",
            "value": " 301M/301M [00:07&lt;00:00, 42.8MB/s]"
          }
        },
        "b2521c5daa304ea998a615ffc44f7808": {
          "model_module": "@jupyter-widgets/base",
          "model_name": "LayoutModel",
          "model_module_version": "1.2.0",
          "state": {
            "_model_module": "@jupyter-widgets/base",
            "_model_module_version": "1.2.0",
            "_model_name": "LayoutModel",
            "_view_count": null,
            "_view_module": "@jupyter-widgets/base",
            "_view_module_version": "1.2.0",
            "_view_name": "LayoutView",
            "align_content": null,
            "align_items": null,
            "align_self": null,
            "border": null,
            "bottom": null,
            "display": null,
            "flex": null,
            "flex_flow": null,
            "grid_area": null,
            "grid_auto_columns": null,
            "grid_auto_flow": null,
            "grid_auto_rows": null,
            "grid_column": null,
            "grid_gap": null,
            "grid_row": null,
            "grid_template_areas": null,
            "grid_template_columns": null,
            "grid_template_rows": null,
            "height": null,
            "justify_content": null,
            "justify_items": null,
            "left": null,
            "margin": null,
            "max_height": null,
            "max_width": null,
            "min_height": null,
            "min_width": null,
            "object_fit": null,
            "object_position": null,
            "order": null,
            "overflow": null,
            "overflow_x": null,
            "overflow_y": null,
            "padding": null,
            "right": null,
            "top": null,
            "visibility": null,
            "width": null
          }
        },
        "0514bd73eace4d93ab215734f3eeb314": {
          "model_module": "@jupyter-widgets/base",
          "model_name": "LayoutModel",
          "model_module_version": "1.2.0",
          "state": {
            "_model_module": "@jupyter-widgets/base",
            "_model_module_version": "1.2.0",
            "_model_name": "LayoutModel",
            "_view_count": null,
            "_view_module": "@jupyter-widgets/base",
            "_view_module_version": "1.2.0",
            "_view_name": "LayoutView",
            "align_content": null,
            "align_items": null,
            "align_self": null,
            "border": null,
            "bottom": null,
            "display": null,
            "flex": null,
            "flex_flow": null,
            "grid_area": null,
            "grid_auto_columns": null,
            "grid_auto_flow": null,
            "grid_auto_rows": null,
            "grid_column": null,
            "grid_gap": null,
            "grid_row": null,
            "grid_template_areas": null,
            "grid_template_columns": null,
            "grid_template_rows": null,
            "height": null,
            "justify_content": null,
            "justify_items": null,
            "left": null,
            "margin": null,
            "max_height": null,
            "max_width": null,
            "min_height": null,
            "min_width": null,
            "object_fit": null,
            "object_position": null,
            "order": null,
            "overflow": null,
            "overflow_x": null,
            "overflow_y": null,
            "padding": null,
            "right": null,
            "top": null,
            "visibility": null,
            "width": null
          }
        },
        "08e63eab79224662a5ab22afd4e8b44f": {
          "model_module": "@jupyter-widgets/controls",
          "model_name": "DescriptionStyleModel",
          "model_module_version": "1.5.0",
          "state": {
            "_model_module": "@jupyter-widgets/controls",
            "_model_module_version": "1.5.0",
            "_model_name": "DescriptionStyleModel",
            "_view_count": null,
            "_view_module": "@jupyter-widgets/base",
            "_view_module_version": "1.2.0",
            "_view_name": "StyleView",
            "description_width": ""
          }
        },
        "09bbe86bf0f34c6ea2a926366e3e7dee": {
          "model_module": "@jupyter-widgets/base",
          "model_name": "LayoutModel",
          "model_module_version": "1.2.0",
          "state": {
            "_model_module": "@jupyter-widgets/base",
            "_model_module_version": "1.2.0",
            "_model_name": "LayoutModel",
            "_view_count": null,
            "_view_module": "@jupyter-widgets/base",
            "_view_module_version": "1.2.0",
            "_view_name": "LayoutView",
            "align_content": null,
            "align_items": null,
            "align_self": null,
            "border": null,
            "bottom": null,
            "display": null,
            "flex": null,
            "flex_flow": null,
            "grid_area": null,
            "grid_auto_columns": null,
            "grid_auto_flow": null,
            "grid_auto_rows": null,
            "grid_column": null,
            "grid_gap": null,
            "grid_row": null,
            "grid_template_areas": null,
            "grid_template_columns": null,
            "grid_template_rows": null,
            "height": null,
            "justify_content": null,
            "justify_items": null,
            "left": null,
            "margin": null,
            "max_height": null,
            "max_width": null,
            "min_height": null,
            "min_width": null,
            "object_fit": null,
            "object_position": null,
            "order": null,
            "overflow": null,
            "overflow_x": null,
            "overflow_y": null,
            "padding": null,
            "right": null,
            "top": null,
            "visibility": null,
            "width": null
          }
        },
        "e83d976dc78d49d888b9929f36f173d8": {
          "model_module": "@jupyter-widgets/controls",
          "model_name": "ProgressStyleModel",
          "model_module_version": "1.5.0",
          "state": {
            "_model_module": "@jupyter-widgets/controls",
            "_model_module_version": "1.5.0",
            "_model_name": "ProgressStyleModel",
            "_view_count": null,
            "_view_module": "@jupyter-widgets/base",
            "_view_module_version": "1.2.0",
            "_view_name": "StyleView",
            "bar_color": null,
            "description_width": ""
          }
        },
        "336eb98b927c4ef6a84fbddf0e275ae9": {
          "model_module": "@jupyter-widgets/base",
          "model_name": "LayoutModel",
          "model_module_version": "1.2.0",
          "state": {
            "_model_module": "@jupyter-widgets/base",
            "_model_module_version": "1.2.0",
            "_model_name": "LayoutModel",
            "_view_count": null,
            "_view_module": "@jupyter-widgets/base",
            "_view_module_version": "1.2.0",
            "_view_name": "LayoutView",
            "align_content": null,
            "align_items": null,
            "align_self": null,
            "border": null,
            "bottom": null,
            "display": null,
            "flex": null,
            "flex_flow": null,
            "grid_area": null,
            "grid_auto_columns": null,
            "grid_auto_flow": null,
            "grid_auto_rows": null,
            "grid_column": null,
            "grid_gap": null,
            "grid_row": null,
            "grid_template_areas": null,
            "grid_template_columns": null,
            "grid_template_rows": null,
            "height": null,
            "justify_content": null,
            "justify_items": null,
            "left": null,
            "margin": null,
            "max_height": null,
            "max_width": null,
            "min_height": null,
            "min_width": null,
            "object_fit": null,
            "object_position": null,
            "order": null,
            "overflow": null,
            "overflow_x": null,
            "overflow_y": null,
            "padding": null,
            "right": null,
            "top": null,
            "visibility": null,
            "width": null
          }
        },
        "06ca7f063bff450c9059703dfdc3dc0e": {
          "model_module": "@jupyter-widgets/controls",
          "model_name": "DescriptionStyleModel",
          "model_module_version": "1.5.0",
          "state": {
            "_model_module": "@jupyter-widgets/controls",
            "_model_module_version": "1.5.0",
            "_model_name": "DescriptionStyleModel",
            "_view_count": null,
            "_view_module": "@jupyter-widgets/base",
            "_view_module_version": "1.2.0",
            "_view_name": "StyleView",
            "description_width": ""
          }
        },
        "10b01eabefb84477818c6572f7ebc1d6": {
          "model_module": "@jupyter-widgets/controls",
          "model_name": "HBoxModel",
          "model_module_version": "1.5.0",
          "state": {
            "_dom_classes": [],
            "_model_module": "@jupyter-widgets/controls",
            "_model_module_version": "1.5.0",
            "_model_name": "HBoxModel",
            "_view_count": null,
            "_view_module": "@jupyter-widgets/controls",
            "_view_module_version": "1.5.0",
            "_view_name": "HBoxView",
            "box_style": "",
            "children": [
              "IPY_MODEL_cb126bfc8bb14f8989fa72b4fd9c6700",
              "IPY_MODEL_16922b40fd4b409e821e4823768a852a",
              "IPY_MODEL_444c8586c59d43f6931b1a2b544d44d7"
            ],
            "layout": "IPY_MODEL_8b10a170979947ac97501ecab6262230"
          }
        },
        "cb126bfc8bb14f8989fa72b4fd9c6700": {
          "model_module": "@jupyter-widgets/controls",
          "model_name": "HTMLModel",
          "model_module_version": "1.5.0",
          "state": {
            "_dom_classes": [],
            "_model_module": "@jupyter-widgets/controls",
            "_model_module_version": "1.5.0",
            "_model_name": "HTMLModel",
            "_view_count": null,
            "_view_module": "@jupyter-widgets/controls",
            "_view_module_version": "1.5.0",
            "_view_name": "HTMLView",
            "description": "",
            "description_tooltip": null,
            "layout": "IPY_MODEL_4f12767ca5714fe4981196112d3f4cb5",
            "placeholder": "​",
            "style": "IPY_MODEL_4aa7c696564245d5948930950b12cc35",
            "value": "Generating librispeech_test_clean split: 100%"
          }
        },
        "16922b40fd4b409e821e4823768a852a": {
          "model_module": "@jupyter-widgets/controls",
          "model_name": "FloatProgressModel",
          "model_module_version": "1.5.0",
          "state": {
            "_dom_classes": [],
            "_model_module": "@jupyter-widgets/controls",
            "_model_module_version": "1.5.0",
            "_model_name": "FloatProgressModel",
            "_view_count": null,
            "_view_module": "@jupyter-widgets/controls",
            "_view_module_version": "1.5.0",
            "_view_name": "ProgressView",
            "bar_style": "success",
            "description": "",
            "description_tooltip": null,
            "layout": "IPY_MODEL_53e7b35b57fc478fae1b6a4f8638d0f2",
            "max": 2620,
            "min": 0,
            "orientation": "horizontal",
            "style": "IPY_MODEL_bf442348e137458b8099a7ad61fff69f",
            "value": 2620
          }
        },
        "444c8586c59d43f6931b1a2b544d44d7": {
          "model_module": "@jupyter-widgets/controls",
          "model_name": "HTMLModel",
          "model_module_version": "1.5.0",
          "state": {
            "_dom_classes": [],
            "_model_module": "@jupyter-widgets/controls",
            "_model_module_version": "1.5.0",
            "_model_name": "HTMLModel",
            "_view_count": null,
            "_view_module": "@jupyter-widgets/controls",
            "_view_module_version": "1.5.0",
            "_view_name": "HTMLView",
            "description": "",
            "description_tooltip": null,
            "layout": "IPY_MODEL_3f82f513423e4949af3ea5e018cc9150",
            "placeholder": "​",
            "style": "IPY_MODEL_b22409afab924d2fa23cad44c1f31a73",
            "value": " 2620/2620 [00:02&lt;00:00, 1064.51 examples/s]"
          }
        },
        "8b10a170979947ac97501ecab6262230": {
          "model_module": "@jupyter-widgets/base",
          "model_name": "LayoutModel",
          "model_module_version": "1.2.0",
          "state": {
            "_model_module": "@jupyter-widgets/base",
            "_model_module_version": "1.2.0",
            "_model_name": "LayoutModel",
            "_view_count": null,
            "_view_module": "@jupyter-widgets/base",
            "_view_module_version": "1.2.0",
            "_view_name": "LayoutView",
            "align_content": null,
            "align_items": null,
            "align_self": null,
            "border": null,
            "bottom": null,
            "display": null,
            "flex": null,
            "flex_flow": null,
            "grid_area": null,
            "grid_auto_columns": null,
            "grid_auto_flow": null,
            "grid_auto_rows": null,
            "grid_column": null,
            "grid_gap": null,
            "grid_row": null,
            "grid_template_areas": null,
            "grid_template_columns": null,
            "grid_template_rows": null,
            "height": null,
            "justify_content": null,
            "justify_items": null,
            "left": null,
            "margin": null,
            "max_height": null,
            "max_width": null,
            "min_height": null,
            "min_width": null,
            "object_fit": null,
            "object_position": null,
            "order": null,
            "overflow": null,
            "overflow_x": null,
            "overflow_y": null,
            "padding": null,
            "right": null,
            "top": null,
            "visibility": null,
            "width": null
          }
        },
        "4f12767ca5714fe4981196112d3f4cb5": {
          "model_module": "@jupyter-widgets/base",
          "model_name": "LayoutModel",
          "model_module_version": "1.2.0",
          "state": {
            "_model_module": "@jupyter-widgets/base",
            "_model_module_version": "1.2.0",
            "_model_name": "LayoutModel",
            "_view_count": null,
            "_view_module": "@jupyter-widgets/base",
            "_view_module_version": "1.2.0",
            "_view_name": "LayoutView",
            "align_content": null,
            "align_items": null,
            "align_self": null,
            "border": null,
            "bottom": null,
            "display": null,
            "flex": null,
            "flex_flow": null,
            "grid_area": null,
            "grid_auto_columns": null,
            "grid_auto_flow": null,
            "grid_auto_rows": null,
            "grid_column": null,
            "grid_gap": null,
            "grid_row": null,
            "grid_template_areas": null,
            "grid_template_columns": null,
            "grid_template_rows": null,
            "height": null,
            "justify_content": null,
            "justify_items": null,
            "left": null,
            "margin": null,
            "max_height": null,
            "max_width": null,
            "min_height": null,
            "min_width": null,
            "object_fit": null,
            "object_position": null,
            "order": null,
            "overflow": null,
            "overflow_x": null,
            "overflow_y": null,
            "padding": null,
            "right": null,
            "top": null,
            "visibility": null,
            "width": null
          }
        },
        "4aa7c696564245d5948930950b12cc35": {
          "model_module": "@jupyter-widgets/controls",
          "model_name": "DescriptionStyleModel",
          "model_module_version": "1.5.0",
          "state": {
            "_model_module": "@jupyter-widgets/controls",
            "_model_module_version": "1.5.0",
            "_model_name": "DescriptionStyleModel",
            "_view_count": null,
            "_view_module": "@jupyter-widgets/base",
            "_view_module_version": "1.2.0",
            "_view_name": "StyleView",
            "description_width": ""
          }
        },
        "53e7b35b57fc478fae1b6a4f8638d0f2": {
          "model_module": "@jupyter-widgets/base",
          "model_name": "LayoutModel",
          "model_module_version": "1.2.0",
          "state": {
            "_model_module": "@jupyter-widgets/base",
            "_model_module_version": "1.2.0",
            "_model_name": "LayoutModel",
            "_view_count": null,
            "_view_module": "@jupyter-widgets/base",
            "_view_module_version": "1.2.0",
            "_view_name": "LayoutView",
            "align_content": null,
            "align_items": null,
            "align_self": null,
            "border": null,
            "bottom": null,
            "display": null,
            "flex": null,
            "flex_flow": null,
            "grid_area": null,
            "grid_auto_columns": null,
            "grid_auto_flow": null,
            "grid_auto_rows": null,
            "grid_column": null,
            "grid_gap": null,
            "grid_row": null,
            "grid_template_areas": null,
            "grid_template_columns": null,
            "grid_template_rows": null,
            "height": null,
            "justify_content": null,
            "justify_items": null,
            "left": null,
            "margin": null,
            "max_height": null,
            "max_width": null,
            "min_height": null,
            "min_width": null,
            "object_fit": null,
            "object_position": null,
            "order": null,
            "overflow": null,
            "overflow_x": null,
            "overflow_y": null,
            "padding": null,
            "right": null,
            "top": null,
            "visibility": null,
            "width": null
          }
        },
        "bf442348e137458b8099a7ad61fff69f": {
          "model_module": "@jupyter-widgets/controls",
          "model_name": "ProgressStyleModel",
          "model_module_version": "1.5.0",
          "state": {
            "_model_module": "@jupyter-widgets/controls",
            "_model_module_version": "1.5.0",
            "_model_name": "ProgressStyleModel",
            "_view_count": null,
            "_view_module": "@jupyter-widgets/base",
            "_view_module_version": "1.2.0",
            "_view_name": "StyleView",
            "bar_color": null,
            "description_width": ""
          }
        },
        "3f82f513423e4949af3ea5e018cc9150": {
          "model_module": "@jupyter-widgets/base",
          "model_name": "LayoutModel",
          "model_module_version": "1.2.0",
          "state": {
            "_model_module": "@jupyter-widgets/base",
            "_model_module_version": "1.2.0",
            "_model_name": "LayoutModel",
            "_view_count": null,
            "_view_module": "@jupyter-widgets/base",
            "_view_module_version": "1.2.0",
            "_view_name": "LayoutView",
            "align_content": null,
            "align_items": null,
            "align_self": null,
            "border": null,
            "bottom": null,
            "display": null,
            "flex": null,
            "flex_flow": null,
            "grid_area": null,
            "grid_auto_columns": null,
            "grid_auto_flow": null,
            "grid_auto_rows": null,
            "grid_column": null,
            "grid_gap": null,
            "grid_row": null,
            "grid_template_areas": null,
            "grid_template_columns": null,
            "grid_template_rows": null,
            "height": null,
            "justify_content": null,
            "justify_items": null,
            "left": null,
            "margin": null,
            "max_height": null,
            "max_width": null,
            "min_height": null,
            "min_width": null,
            "object_fit": null,
            "object_position": null,
            "order": null,
            "overflow": null,
            "overflow_x": null,
            "overflow_y": null,
            "padding": null,
            "right": null,
            "top": null,
            "visibility": null,
            "width": null
          }
        },
        "b22409afab924d2fa23cad44c1f31a73": {
          "model_module": "@jupyter-widgets/controls",
          "model_name": "DescriptionStyleModel",
          "model_module_version": "1.5.0",
          "state": {
            "_model_module": "@jupyter-widgets/controls",
            "_model_module_version": "1.5.0",
            "_model_name": "DescriptionStyleModel",
            "_view_count": null,
            "_view_module": "@jupyter-widgets/base",
            "_view_module_version": "1.2.0",
            "_view_name": "StyleView",
            "description_width": ""
          }
        },
        "09822f715ed64814a4c835ce41f92e1e": {
          "model_module": "@jupyter-widgets/controls",
          "model_name": "HBoxModel",
          "model_module_version": "1.5.0",
          "state": {
            "_dom_classes": [],
            "_model_module": "@jupyter-widgets/controls",
            "_model_module_version": "1.5.0",
            "_model_name": "HBoxModel",
            "_view_count": null,
            "_view_module": "@jupyter-widgets/controls",
            "_view_module_version": "1.5.0",
            "_view_name": "HBoxView",
            "box_style": "",
            "children": [
              "IPY_MODEL_b0adf1ab38d447fcb74f47e1b68634f3",
              "IPY_MODEL_79579dc065b64be3899f4847b8f46a6f",
              "IPY_MODEL_7bbc429ebdc444d69082b88b91e62c40"
            ],
            "layout": "IPY_MODEL_cb07b3632db84a8cbc6d321e159c4505"
          }
        },
        "b0adf1ab38d447fcb74f47e1b68634f3": {
          "model_module": "@jupyter-widgets/controls",
          "model_name": "HTMLModel",
          "model_module_version": "1.5.0",
          "state": {
            "_dom_classes": [],
            "_model_module": "@jupyter-widgets/controls",
            "_model_module_version": "1.5.0",
            "_model_name": "HTMLModel",
            "_view_count": null,
            "_view_module": "@jupyter-widgets/controls",
            "_view_module_version": "1.5.0",
            "_view_name": "HTMLView",
            "description": "",
            "description_tooltip": null,
            "layout": "IPY_MODEL_6b72b5f4d5df4860968450bd64336de4",
            "placeholder": "​",
            "style": "IPY_MODEL_8bf9e5ae4d654dc7876dc8766cc379b2",
            "value": ""
          }
        },
        "79579dc065b64be3899f4847b8f46a6f": {
          "model_module": "@jupyter-widgets/controls",
          "model_name": "FloatProgressModel",
          "model_module_version": "1.5.0",
          "state": {
            "_dom_classes": [],
            "_model_module": "@jupyter-widgets/controls",
            "_model_module_version": "1.5.0",
            "_model_name": "FloatProgressModel",
            "_view_count": null,
            "_view_module": "@jupyter-widgets/controls",
            "_view_module_version": "1.5.0",
            "_view_name": "ProgressView",
            "bar_style": "success",
            "description": "",
            "description_tooltip": null,
            "layout": "IPY_MODEL_87a91817b3ef4b6198158c7e1e8465d9",
            "max": 1,
            "min": 0,
            "orientation": "horizontal",
            "style": "IPY_MODEL_da8e94c7d5e04dd4ae0ce058ca5c295a",
            "value": 0
          }
        },
        "7bbc429ebdc444d69082b88b91e62c40": {
          "model_module": "@jupyter-widgets/controls",
          "model_name": "HTMLModel",
          "model_module_version": "1.5.0",
          "state": {
            "_dom_classes": [],
            "_model_module": "@jupyter-widgets/controls",
            "_model_module_version": "1.5.0",
            "_model_name": "HTMLModel",
            "_view_count": null,
            "_view_module": "@jupyter-widgets/controls",
            "_view_module_version": "1.5.0",
            "_view_name": "HTMLView",
            "description": "",
            "description_tooltip": null,
            "layout": "IPY_MODEL_f6778070cbaa4fb3935bed6bae7c9741",
            "placeholder": "​",
            "style": "IPY_MODEL_eef6c72354d54c08a7c58461b71e963e",
            "value": " 0/0 [00:00&lt;?, ?it/s]"
          }
        },
        "cb07b3632db84a8cbc6d321e159c4505": {
          "model_module": "@jupyter-widgets/base",
          "model_name": "LayoutModel",
          "model_module_version": "1.2.0",
          "state": {
            "_model_module": "@jupyter-widgets/base",
            "_model_module_version": "1.2.0",
            "_model_name": "LayoutModel",
            "_view_count": null,
            "_view_module": "@jupyter-widgets/base",
            "_view_module_version": "1.2.0",
            "_view_name": "LayoutView",
            "align_content": null,
            "align_items": null,
            "align_self": null,
            "border": null,
            "bottom": null,
            "display": null,
            "flex": null,
            "flex_flow": null,
            "grid_area": null,
            "grid_auto_columns": null,
            "grid_auto_flow": null,
            "grid_auto_rows": null,
            "grid_column": null,
            "grid_gap": null,
            "grid_row": null,
            "grid_template_areas": null,
            "grid_template_columns": null,
            "grid_template_rows": null,
            "height": null,
            "justify_content": null,
            "justify_items": null,
            "left": null,
            "margin": null,
            "max_height": null,
            "max_width": null,
            "min_height": null,
            "min_width": null,
            "object_fit": null,
            "object_position": null,
            "order": null,
            "overflow": null,
            "overflow_x": null,
            "overflow_y": null,
            "padding": null,
            "right": null,
            "top": null,
            "visibility": null,
            "width": null
          }
        },
        "6b72b5f4d5df4860968450bd64336de4": {
          "model_module": "@jupyter-widgets/base",
          "model_name": "LayoutModel",
          "model_module_version": "1.2.0",
          "state": {
            "_model_module": "@jupyter-widgets/base",
            "_model_module_version": "1.2.0",
            "_model_name": "LayoutModel",
            "_view_count": null,
            "_view_module": "@jupyter-widgets/base",
            "_view_module_version": "1.2.0",
            "_view_name": "LayoutView",
            "align_content": null,
            "align_items": null,
            "align_self": null,
            "border": null,
            "bottom": null,
            "display": null,
            "flex": null,
            "flex_flow": null,
            "grid_area": null,
            "grid_auto_columns": null,
            "grid_auto_flow": null,
            "grid_auto_rows": null,
            "grid_column": null,
            "grid_gap": null,
            "grid_row": null,
            "grid_template_areas": null,
            "grid_template_columns": null,
            "grid_template_rows": null,
            "height": null,
            "justify_content": null,
            "justify_items": null,
            "left": null,
            "margin": null,
            "max_height": null,
            "max_width": null,
            "min_height": null,
            "min_width": null,
            "object_fit": null,
            "object_position": null,
            "order": null,
            "overflow": null,
            "overflow_x": null,
            "overflow_y": null,
            "padding": null,
            "right": null,
            "top": null,
            "visibility": null,
            "width": null
          }
        },
        "8bf9e5ae4d654dc7876dc8766cc379b2": {
          "model_module": "@jupyter-widgets/controls",
          "model_name": "DescriptionStyleModel",
          "model_module_version": "1.5.0",
          "state": {
            "_model_module": "@jupyter-widgets/controls",
            "_model_module_version": "1.5.0",
            "_model_name": "DescriptionStyleModel",
            "_view_count": null,
            "_view_module": "@jupyter-widgets/base",
            "_view_module_version": "1.2.0",
            "_view_name": "StyleView",
            "description_width": ""
          }
        },
        "87a91817b3ef4b6198158c7e1e8465d9": {
          "model_module": "@jupyter-widgets/base",
          "model_name": "LayoutModel",
          "model_module_version": "1.2.0",
          "state": {
            "_model_module": "@jupyter-widgets/base",
            "_model_module_version": "1.2.0",
            "_model_name": "LayoutModel",
            "_view_count": null,
            "_view_module": "@jupyter-widgets/base",
            "_view_module_version": "1.2.0",
            "_view_name": "LayoutView",
            "align_content": null,
            "align_items": null,
            "align_self": null,
            "border": null,
            "bottom": null,
            "display": null,
            "flex": null,
            "flex_flow": null,
            "grid_area": null,
            "grid_auto_columns": null,
            "grid_auto_flow": null,
            "grid_auto_rows": null,
            "grid_column": null,
            "grid_gap": null,
            "grid_row": null,
            "grid_template_areas": null,
            "grid_template_columns": null,
            "grid_template_rows": null,
            "height": null,
            "justify_content": null,
            "justify_items": null,
            "left": null,
            "margin": null,
            "max_height": null,
            "max_width": null,
            "min_height": null,
            "min_width": null,
            "object_fit": null,
            "object_position": null,
            "order": null,
            "overflow": null,
            "overflow_x": null,
            "overflow_y": null,
            "padding": null,
            "right": null,
            "top": null,
            "visibility": null,
            "width": "20px"
          }
        },
        "da8e94c7d5e04dd4ae0ce058ca5c295a": {
          "model_module": "@jupyter-widgets/controls",
          "model_name": "ProgressStyleModel",
          "model_module_version": "1.5.0",
          "state": {
            "_model_module": "@jupyter-widgets/controls",
            "_model_module_version": "1.5.0",
            "_model_name": "ProgressStyleModel",
            "_view_count": null,
            "_view_module": "@jupyter-widgets/base",
            "_view_module_version": "1.2.0",
            "_view_name": "StyleView",
            "bar_color": null,
            "description_width": ""
          }
        },
        "f6778070cbaa4fb3935bed6bae7c9741": {
          "model_module": "@jupyter-widgets/base",
          "model_name": "LayoutModel",
          "model_module_version": "1.2.0",
          "state": {
            "_model_module": "@jupyter-widgets/base",
            "_model_module_version": "1.2.0",
            "_model_name": "LayoutModel",
            "_view_count": null,
            "_view_module": "@jupyter-widgets/base",
            "_view_module_version": "1.2.0",
            "_view_name": "LayoutView",
            "align_content": null,
            "align_items": null,
            "align_self": null,
            "border": null,
            "bottom": null,
            "display": null,
            "flex": null,
            "flex_flow": null,
            "grid_area": null,
            "grid_auto_columns": null,
            "grid_auto_flow": null,
            "grid_auto_rows": null,
            "grid_column": null,
            "grid_gap": null,
            "grid_row": null,
            "grid_template_areas": null,
            "grid_template_columns": null,
            "grid_template_rows": null,
            "height": null,
            "justify_content": null,
            "justify_items": null,
            "left": null,
            "margin": null,
            "max_height": null,
            "max_width": null,
            "min_height": null,
            "min_width": null,
            "object_fit": null,
            "object_position": null,
            "order": null,
            "overflow": null,
            "overflow_x": null,
            "overflow_y": null,
            "padding": null,
            "right": null,
            "top": null,
            "visibility": null,
            "width": null
          }
        },
        "eef6c72354d54c08a7c58461b71e963e": {
          "model_module": "@jupyter-widgets/controls",
          "model_name": "DescriptionStyleModel",
          "model_module_version": "1.5.0",
          "state": {
            "_model_module": "@jupyter-widgets/controls",
            "_model_module_version": "1.5.0",
            "_model_name": "DescriptionStyleModel",
            "_view_count": null,
            "_view_module": "@jupyter-widgets/base",
            "_view_module_version": "1.2.0",
            "_view_name": "StyleView",
            "description_width": ""
          }
        },
        "89240b3b06094d919c7a24b9a3861396": {
          "model_module": "@jupyter-widgets/controls",
          "model_name": "HBoxModel",
          "model_module_version": "1.5.0",
          "state": {
            "_dom_classes": [],
            "_model_module": "@jupyter-widgets/controls",
            "_model_module_version": "1.5.0",
            "_model_name": "HBoxModel",
            "_view_count": null,
            "_view_module": "@jupyter-widgets/controls",
            "_view_module_version": "1.5.0",
            "_view_name": "HBoxView",
            "box_style": "",
            "children": [
              "IPY_MODEL_cdb36dc8edf04cdcbad1c8e35854e946",
              "IPY_MODEL_8bdc058fb3bb4c859ffcd409c46f6c5e",
              "IPY_MODEL_4cb1ce0dca7b4043aac869fc1cee059a"
            ],
            "layout": "IPY_MODEL_b63d62bc37d44728915c2be00ecc7613"
          }
        },
        "cdb36dc8edf04cdcbad1c8e35854e946": {
          "model_module": "@jupyter-widgets/controls",
          "model_name": "HTMLModel",
          "model_module_version": "1.5.0",
          "state": {
            "_dom_classes": [],
            "_model_module": "@jupyter-widgets/controls",
            "_model_module_version": "1.5.0",
            "_model_name": "HTMLModel",
            "_view_count": null,
            "_view_module": "@jupyter-widgets/controls",
            "_view_module_version": "1.5.0",
            "_view_name": "HTMLView",
            "description": "",
            "description_tooltip": null,
            "layout": "IPY_MODEL_49f0f097ade54cd1a71a9030616bc3ee",
            "placeholder": "​",
            "style": "IPY_MODEL_94a3616014904e309aecf95b421830b2",
            "value": "preprocessor_config.json: 100%"
          }
        },
        "8bdc058fb3bb4c859ffcd409c46f6c5e": {
          "model_module": "@jupyter-widgets/controls",
          "model_name": "FloatProgressModel",
          "model_module_version": "1.5.0",
          "state": {
            "_dom_classes": [],
            "_model_module": "@jupyter-widgets/controls",
            "_model_module_version": "1.5.0",
            "_model_name": "FloatProgressModel",
            "_view_count": null,
            "_view_module": "@jupyter-widgets/controls",
            "_view_module_version": "1.5.0",
            "_view_name": "ProgressView",
            "bar_style": "success",
            "description": "",
            "description_tooltip": null,
            "layout": "IPY_MODEL_52d642820f294920834d4aec5e318bd6",
            "max": 184990,
            "min": 0,
            "orientation": "horizontal",
            "style": "IPY_MODEL_38f9698c449e48e793c773e02026349d",
            "value": 184990
          }
        },
        "4cb1ce0dca7b4043aac869fc1cee059a": {
          "model_module": "@jupyter-widgets/controls",
          "model_name": "HTMLModel",
          "model_module_version": "1.5.0",
          "state": {
            "_dom_classes": [],
            "_model_module": "@jupyter-widgets/controls",
            "_model_module_version": "1.5.0",
            "_model_name": "HTMLModel",
            "_view_count": null,
            "_view_module": "@jupyter-widgets/controls",
            "_view_module_version": "1.5.0",
            "_view_name": "HTMLView",
            "description": "",
            "description_tooltip": null,
            "layout": "IPY_MODEL_0465eb1c2fcf4950afa2dbddaea4c503",
            "placeholder": "​",
            "style": "IPY_MODEL_6a85693f0ea2499494a1a31d5cdf4c03",
            "value": " 185k/185k [00:00&lt;00:00, 9.18MB/s]"
          }
        },
        "b63d62bc37d44728915c2be00ecc7613": {
          "model_module": "@jupyter-widgets/base",
          "model_name": "LayoutModel",
          "model_module_version": "1.2.0",
          "state": {
            "_model_module": "@jupyter-widgets/base",
            "_model_module_version": "1.2.0",
            "_model_name": "LayoutModel",
            "_view_count": null,
            "_view_module": "@jupyter-widgets/base",
            "_view_module_version": "1.2.0",
            "_view_name": "LayoutView",
            "align_content": null,
            "align_items": null,
            "align_self": null,
            "border": null,
            "bottom": null,
            "display": null,
            "flex": null,
            "flex_flow": null,
            "grid_area": null,
            "grid_auto_columns": null,
            "grid_auto_flow": null,
            "grid_auto_rows": null,
            "grid_column": null,
            "grid_gap": null,
            "grid_row": null,
            "grid_template_areas": null,
            "grid_template_columns": null,
            "grid_template_rows": null,
            "height": null,
            "justify_content": null,
            "justify_items": null,
            "left": null,
            "margin": null,
            "max_height": null,
            "max_width": null,
            "min_height": null,
            "min_width": null,
            "object_fit": null,
            "object_position": null,
            "order": null,
            "overflow": null,
            "overflow_x": null,
            "overflow_y": null,
            "padding": null,
            "right": null,
            "top": null,
            "visibility": null,
            "width": null
          }
        },
        "49f0f097ade54cd1a71a9030616bc3ee": {
          "model_module": "@jupyter-widgets/base",
          "model_name": "LayoutModel",
          "model_module_version": "1.2.0",
          "state": {
            "_model_module": "@jupyter-widgets/base",
            "_model_module_version": "1.2.0",
            "_model_name": "LayoutModel",
            "_view_count": null,
            "_view_module": "@jupyter-widgets/base",
            "_view_module_version": "1.2.0",
            "_view_name": "LayoutView",
            "align_content": null,
            "align_items": null,
            "align_self": null,
            "border": null,
            "bottom": null,
            "display": null,
            "flex": null,
            "flex_flow": null,
            "grid_area": null,
            "grid_auto_columns": null,
            "grid_auto_flow": null,
            "grid_auto_rows": null,
            "grid_column": null,
            "grid_gap": null,
            "grid_row": null,
            "grid_template_areas": null,
            "grid_template_columns": null,
            "grid_template_rows": null,
            "height": null,
            "justify_content": null,
            "justify_items": null,
            "left": null,
            "margin": null,
            "max_height": null,
            "max_width": null,
            "min_height": null,
            "min_width": null,
            "object_fit": null,
            "object_position": null,
            "order": null,
            "overflow": null,
            "overflow_x": null,
            "overflow_y": null,
            "padding": null,
            "right": null,
            "top": null,
            "visibility": null,
            "width": null
          }
        },
        "94a3616014904e309aecf95b421830b2": {
          "model_module": "@jupyter-widgets/controls",
          "model_name": "DescriptionStyleModel",
          "model_module_version": "1.5.0",
          "state": {
            "_model_module": "@jupyter-widgets/controls",
            "_model_module_version": "1.5.0",
            "_model_name": "DescriptionStyleModel",
            "_view_count": null,
            "_view_module": "@jupyter-widgets/base",
            "_view_module_version": "1.2.0",
            "_view_name": "StyleView",
            "description_width": ""
          }
        },
        "52d642820f294920834d4aec5e318bd6": {
          "model_module": "@jupyter-widgets/base",
          "model_name": "LayoutModel",
          "model_module_version": "1.2.0",
          "state": {
            "_model_module": "@jupyter-widgets/base",
            "_model_module_version": "1.2.0",
            "_model_name": "LayoutModel",
            "_view_count": null,
            "_view_module": "@jupyter-widgets/base",
            "_view_module_version": "1.2.0",
            "_view_name": "LayoutView",
            "align_content": null,
            "align_items": null,
            "align_self": null,
            "border": null,
            "bottom": null,
            "display": null,
            "flex": null,
            "flex_flow": null,
            "grid_area": null,
            "grid_auto_columns": null,
            "grid_auto_flow": null,
            "grid_auto_rows": null,
            "grid_column": null,
            "grid_gap": null,
            "grid_row": null,
            "grid_template_areas": null,
            "grid_template_columns": null,
            "grid_template_rows": null,
            "height": null,
            "justify_content": null,
            "justify_items": null,
            "left": null,
            "margin": null,
            "max_height": null,
            "max_width": null,
            "min_height": null,
            "min_width": null,
            "object_fit": null,
            "object_position": null,
            "order": null,
            "overflow": null,
            "overflow_x": null,
            "overflow_y": null,
            "padding": null,
            "right": null,
            "top": null,
            "visibility": null,
            "width": null
          }
        },
        "38f9698c449e48e793c773e02026349d": {
          "model_module": "@jupyter-widgets/controls",
          "model_name": "ProgressStyleModel",
          "model_module_version": "1.5.0",
          "state": {
            "_model_module": "@jupyter-widgets/controls",
            "_model_module_version": "1.5.0",
            "_model_name": "ProgressStyleModel",
            "_view_count": null,
            "_view_module": "@jupyter-widgets/base",
            "_view_module_version": "1.2.0",
            "_view_name": "StyleView",
            "bar_color": null,
            "description_width": ""
          }
        },
        "0465eb1c2fcf4950afa2dbddaea4c503": {
          "model_module": "@jupyter-widgets/base",
          "model_name": "LayoutModel",
          "model_module_version": "1.2.0",
          "state": {
            "_model_module": "@jupyter-widgets/base",
            "_model_module_version": "1.2.0",
            "_model_name": "LayoutModel",
            "_view_count": null,
            "_view_module": "@jupyter-widgets/base",
            "_view_module_version": "1.2.0",
            "_view_name": "LayoutView",
            "align_content": null,
            "align_items": null,
            "align_self": null,
            "border": null,
            "bottom": null,
            "display": null,
            "flex": null,
            "flex_flow": null,
            "grid_area": null,
            "grid_auto_columns": null,
            "grid_auto_flow": null,
            "grid_auto_rows": null,
            "grid_column": null,
            "grid_gap": null,
            "grid_row": null,
            "grid_template_areas": null,
            "grid_template_columns": null,
            "grid_template_rows": null,
            "height": null,
            "justify_content": null,
            "justify_items": null,
            "left": null,
            "margin": null,
            "max_height": null,
            "max_width": null,
            "min_height": null,
            "min_width": null,
            "object_fit": null,
            "object_position": null,
            "order": null,
            "overflow": null,
            "overflow_x": null,
            "overflow_y": null,
            "padding": null,
            "right": null,
            "top": null,
            "visibility": null,
            "width": null
          }
        },
        "6a85693f0ea2499494a1a31d5cdf4c03": {
          "model_module": "@jupyter-widgets/controls",
          "model_name": "DescriptionStyleModel",
          "model_module_version": "1.5.0",
          "state": {
            "_model_module": "@jupyter-widgets/controls",
            "_model_module_version": "1.5.0",
            "_model_name": "DescriptionStyleModel",
            "_view_count": null,
            "_view_module": "@jupyter-widgets/base",
            "_view_module_version": "1.2.0",
            "_view_name": "StyleView",
            "description_width": ""
          }
        },
        "22621f4988aa4d95abeb2f816636c36b": {
          "model_module": "@jupyter-widgets/controls",
          "model_name": "HBoxModel",
          "model_module_version": "1.5.0",
          "state": {
            "_dom_classes": [],
            "_model_module": "@jupyter-widgets/controls",
            "_model_module_version": "1.5.0",
            "_model_name": "HBoxModel",
            "_view_count": null,
            "_view_module": "@jupyter-widgets/controls",
            "_view_module_version": "1.5.0",
            "_view_name": "HBoxView",
            "box_style": "",
            "children": [
              "IPY_MODEL_f73988726ec246fb98020bbabf652659",
              "IPY_MODEL_7428419b37ae4b818cf032a762b01f0a",
              "IPY_MODEL_4e7e6c168e1c469d9c44a3c9561c50fd"
            ],
            "layout": "IPY_MODEL_dcc08916eb284449813554e10658e5e8"
          }
        },
        "f73988726ec246fb98020bbabf652659": {
          "model_module": "@jupyter-widgets/controls",
          "model_name": "HTMLModel",
          "model_module_version": "1.5.0",
          "state": {
            "_dom_classes": [],
            "_model_module": "@jupyter-widgets/controls",
            "_model_module_version": "1.5.0",
            "_model_name": "HTMLModel",
            "_view_count": null,
            "_view_module": "@jupyter-widgets/controls",
            "_view_module_version": "1.5.0",
            "_view_name": "HTMLView",
            "description": "",
            "description_tooltip": null,
            "layout": "IPY_MODEL_2746bbfafb7247278c26e464863d0703",
            "placeholder": "​",
            "style": "IPY_MODEL_63b07c3c9e814688bd6fab4387a77bdd",
            "value": "tokenizer_config.json: 100%"
          }
        },
        "7428419b37ae4b818cf032a762b01f0a": {
          "model_module": "@jupyter-widgets/controls",
          "model_name": "FloatProgressModel",
          "model_module_version": "1.5.0",
          "state": {
            "_dom_classes": [],
            "_model_module": "@jupyter-widgets/controls",
            "_model_module_version": "1.5.0",
            "_model_name": "FloatProgressModel",
            "_view_count": null,
            "_view_module": "@jupyter-widgets/controls",
            "_view_module_version": "1.5.0",
            "_view_name": "ProgressView",
            "bar_style": "success",
            "description": "",
            "description_tooltip": null,
            "layout": "IPY_MODEL_252ec1056d98466dbb6caa5ceac745dd",
            "max": 805,
            "min": 0,
            "orientation": "horizontal",
            "style": "IPY_MODEL_6f54e14703d8413483631b555909e01d",
            "value": 805
          }
        },
        "4e7e6c168e1c469d9c44a3c9561c50fd": {
          "model_module": "@jupyter-widgets/controls",
          "model_name": "HTMLModel",
          "model_module_version": "1.5.0",
          "state": {
            "_dom_classes": [],
            "_model_module": "@jupyter-widgets/controls",
            "_model_module_version": "1.5.0",
            "_model_name": "HTMLModel",
            "_view_count": null,
            "_view_module": "@jupyter-widgets/controls",
            "_view_module_version": "1.5.0",
            "_view_name": "HTMLView",
            "description": "",
            "description_tooltip": null,
            "layout": "IPY_MODEL_88a047ee493c4c6b8760f12a300d62ff",
            "placeholder": "​",
            "style": "IPY_MODEL_ab96ceaef5ed49889d65551f05e10550",
            "value": " 805/805 [00:00&lt;00:00, 32.9kB/s]"
          }
        },
        "dcc08916eb284449813554e10658e5e8": {
          "model_module": "@jupyter-widgets/base",
          "model_name": "LayoutModel",
          "model_module_version": "1.2.0",
          "state": {
            "_model_module": "@jupyter-widgets/base",
            "_model_module_version": "1.2.0",
            "_model_name": "LayoutModel",
            "_view_count": null,
            "_view_module": "@jupyter-widgets/base",
            "_view_module_version": "1.2.0",
            "_view_name": "LayoutView",
            "align_content": null,
            "align_items": null,
            "align_self": null,
            "border": null,
            "bottom": null,
            "display": null,
            "flex": null,
            "flex_flow": null,
            "grid_area": null,
            "grid_auto_columns": null,
            "grid_auto_flow": null,
            "grid_auto_rows": null,
            "grid_column": null,
            "grid_gap": null,
            "grid_row": null,
            "grid_template_areas": null,
            "grid_template_columns": null,
            "grid_template_rows": null,
            "height": null,
            "justify_content": null,
            "justify_items": null,
            "left": null,
            "margin": null,
            "max_height": null,
            "max_width": null,
            "min_height": null,
            "min_width": null,
            "object_fit": null,
            "object_position": null,
            "order": null,
            "overflow": null,
            "overflow_x": null,
            "overflow_y": null,
            "padding": null,
            "right": null,
            "top": null,
            "visibility": null,
            "width": null
          }
        },
        "2746bbfafb7247278c26e464863d0703": {
          "model_module": "@jupyter-widgets/base",
          "model_name": "LayoutModel",
          "model_module_version": "1.2.0",
          "state": {
            "_model_module": "@jupyter-widgets/base",
            "_model_module_version": "1.2.0",
            "_model_name": "LayoutModel",
            "_view_count": null,
            "_view_module": "@jupyter-widgets/base",
            "_view_module_version": "1.2.0",
            "_view_name": "LayoutView",
            "align_content": null,
            "align_items": null,
            "align_self": null,
            "border": null,
            "bottom": null,
            "display": null,
            "flex": null,
            "flex_flow": null,
            "grid_area": null,
            "grid_auto_columns": null,
            "grid_auto_flow": null,
            "grid_auto_rows": null,
            "grid_column": null,
            "grid_gap": null,
            "grid_row": null,
            "grid_template_areas": null,
            "grid_template_columns": null,
            "grid_template_rows": null,
            "height": null,
            "justify_content": null,
            "justify_items": null,
            "left": null,
            "margin": null,
            "max_height": null,
            "max_width": null,
            "min_height": null,
            "min_width": null,
            "object_fit": null,
            "object_position": null,
            "order": null,
            "overflow": null,
            "overflow_x": null,
            "overflow_y": null,
            "padding": null,
            "right": null,
            "top": null,
            "visibility": null,
            "width": null
          }
        },
        "63b07c3c9e814688bd6fab4387a77bdd": {
          "model_module": "@jupyter-widgets/controls",
          "model_name": "DescriptionStyleModel",
          "model_module_version": "1.5.0",
          "state": {
            "_model_module": "@jupyter-widgets/controls",
            "_model_module_version": "1.5.0",
            "_model_name": "DescriptionStyleModel",
            "_view_count": null,
            "_view_module": "@jupyter-widgets/base",
            "_view_module_version": "1.2.0",
            "_view_name": "StyleView",
            "description_width": ""
          }
        },
        "252ec1056d98466dbb6caa5ceac745dd": {
          "model_module": "@jupyter-widgets/base",
          "model_name": "LayoutModel",
          "model_module_version": "1.2.0",
          "state": {
            "_model_module": "@jupyter-widgets/base",
            "_model_module_version": "1.2.0",
            "_model_name": "LayoutModel",
            "_view_count": null,
            "_view_module": "@jupyter-widgets/base",
            "_view_module_version": "1.2.0",
            "_view_name": "LayoutView",
            "align_content": null,
            "align_items": null,
            "align_self": null,
            "border": null,
            "bottom": null,
            "display": null,
            "flex": null,
            "flex_flow": null,
            "grid_area": null,
            "grid_auto_columns": null,
            "grid_auto_flow": null,
            "grid_auto_rows": null,
            "grid_column": null,
            "grid_gap": null,
            "grid_row": null,
            "grid_template_areas": null,
            "grid_template_columns": null,
            "grid_template_rows": null,
            "height": null,
            "justify_content": null,
            "justify_items": null,
            "left": null,
            "margin": null,
            "max_height": null,
            "max_width": null,
            "min_height": null,
            "min_width": null,
            "object_fit": null,
            "object_position": null,
            "order": null,
            "overflow": null,
            "overflow_x": null,
            "overflow_y": null,
            "padding": null,
            "right": null,
            "top": null,
            "visibility": null,
            "width": null
          }
        },
        "6f54e14703d8413483631b555909e01d": {
          "model_module": "@jupyter-widgets/controls",
          "model_name": "ProgressStyleModel",
          "model_module_version": "1.5.0",
          "state": {
            "_model_module": "@jupyter-widgets/controls",
            "_model_module_version": "1.5.0",
            "_model_name": "ProgressStyleModel",
            "_view_count": null,
            "_view_module": "@jupyter-widgets/base",
            "_view_module_version": "1.2.0",
            "_view_name": "StyleView",
            "bar_color": null,
            "description_width": ""
          }
        },
        "88a047ee493c4c6b8760f12a300d62ff": {
          "model_module": "@jupyter-widgets/base",
          "model_name": "LayoutModel",
          "model_module_version": "1.2.0",
          "state": {
            "_model_module": "@jupyter-widgets/base",
            "_model_module_version": "1.2.0",
            "_model_name": "LayoutModel",
            "_view_count": null,
            "_view_module": "@jupyter-widgets/base",
            "_view_module_version": "1.2.0",
            "_view_name": "LayoutView",
            "align_content": null,
            "align_items": null,
            "align_self": null,
            "border": null,
            "bottom": null,
            "display": null,
            "flex": null,
            "flex_flow": null,
            "grid_area": null,
            "grid_auto_columns": null,
            "grid_auto_flow": null,
            "grid_auto_rows": null,
            "grid_column": null,
            "grid_gap": null,
            "grid_row": null,
            "grid_template_areas": null,
            "grid_template_columns": null,
            "grid_template_rows": null,
            "height": null,
            "justify_content": null,
            "justify_items": null,
            "left": null,
            "margin": null,
            "max_height": null,
            "max_width": null,
            "min_height": null,
            "min_width": null,
            "object_fit": null,
            "object_position": null,
            "order": null,
            "overflow": null,
            "overflow_x": null,
            "overflow_y": null,
            "padding": null,
            "right": null,
            "top": null,
            "visibility": null,
            "width": null
          }
        },
        "ab96ceaef5ed49889d65551f05e10550": {
          "model_module": "@jupyter-widgets/controls",
          "model_name": "DescriptionStyleModel",
          "model_module_version": "1.5.0",
          "state": {
            "_model_module": "@jupyter-widgets/controls",
            "_model_module_version": "1.5.0",
            "_model_name": "DescriptionStyleModel",
            "_view_count": null,
            "_view_module": "@jupyter-widgets/base",
            "_view_module_version": "1.2.0",
            "_view_name": "StyleView",
            "description_width": ""
          }
        },
        "090a71351f0141079515bf4efb36044f": {
          "model_module": "@jupyter-widgets/controls",
          "model_name": "HBoxModel",
          "model_module_version": "1.5.0",
          "state": {
            "_dom_classes": [],
            "_model_module": "@jupyter-widgets/controls",
            "_model_module_version": "1.5.0",
            "_model_name": "HBoxModel",
            "_view_count": null,
            "_view_module": "@jupyter-widgets/controls",
            "_view_module_version": "1.5.0",
            "_view_name": "HBoxView",
            "box_style": "",
            "children": [
              "IPY_MODEL_ad9c29b5bbfc40689213537b211dd586",
              "IPY_MODEL_4458544ff6334f6fa1c795971f0c7342",
              "IPY_MODEL_7e5f4feb8f574a85b32685b8d6592f7b"
            ],
            "layout": "IPY_MODEL_70379e5750874d0bbcbf1793c7e32d50"
          }
        },
        "ad9c29b5bbfc40689213537b211dd586": {
          "model_module": "@jupyter-widgets/controls",
          "model_name": "HTMLModel",
          "model_module_version": "1.5.0",
          "state": {
            "_dom_classes": [],
            "_model_module": "@jupyter-widgets/controls",
            "_model_module_version": "1.5.0",
            "_model_name": "HTMLModel",
            "_view_count": null,
            "_view_module": "@jupyter-widgets/controls",
            "_view_module_version": "1.5.0",
            "_view_name": "HTMLView",
            "description": "",
            "description_tooltip": null,
            "layout": "IPY_MODEL_0103f2f3524943009a58cba5b7cd165e",
            "placeholder": "​",
            "style": "IPY_MODEL_97bcb687867d433aa254153cec6807d3",
            "value": "vocab.json: 100%"
          }
        },
        "4458544ff6334f6fa1c795971f0c7342": {
          "model_module": "@jupyter-widgets/controls",
          "model_name": "FloatProgressModel",
          "model_module_version": "1.5.0",
          "state": {
            "_dom_classes": [],
            "_model_module": "@jupyter-widgets/controls",
            "_model_module_version": "1.5.0",
            "_model_name": "FloatProgressModel",
            "_view_count": null,
            "_view_module": "@jupyter-widgets/controls",
            "_view_module_version": "1.5.0",
            "_view_name": "ProgressView",
            "bar_style": "success",
            "description": "",
            "description_tooltip": null,
            "layout": "IPY_MODEL_6f4f0a344f854f21b1cc8fc85e5c93bf",
            "max": 798156,
            "min": 0,
            "orientation": "horizontal",
            "style": "IPY_MODEL_8d7eddd4a2ab45ce823538dcc014bacf",
            "value": 798156
          }
        },
        "7e5f4feb8f574a85b32685b8d6592f7b": {
          "model_module": "@jupyter-widgets/controls",
          "model_name": "HTMLModel",
          "model_module_version": "1.5.0",
          "state": {
            "_dom_classes": [],
            "_model_module": "@jupyter-widgets/controls",
            "_model_module_version": "1.5.0",
            "_model_name": "HTMLModel",
            "_view_count": null,
            "_view_module": "@jupyter-widgets/controls",
            "_view_module_version": "1.5.0",
            "_view_name": "HTMLView",
            "description": "",
            "description_tooltip": null,
            "layout": "IPY_MODEL_f227ce74090043848eb890f23d546446",
            "placeholder": "​",
            "style": "IPY_MODEL_a369902b100e4d76bd1cbc987948610f",
            "value": " 798k/798k [00:00&lt;00:00, 4.05MB/s]"
          }
        },
        "70379e5750874d0bbcbf1793c7e32d50": {
          "model_module": "@jupyter-widgets/base",
          "model_name": "LayoutModel",
          "model_module_version": "1.2.0",
          "state": {
            "_model_module": "@jupyter-widgets/base",
            "_model_module_version": "1.2.0",
            "_model_name": "LayoutModel",
            "_view_count": null,
            "_view_module": "@jupyter-widgets/base",
            "_view_module_version": "1.2.0",
            "_view_name": "LayoutView",
            "align_content": null,
            "align_items": null,
            "align_self": null,
            "border": null,
            "bottom": null,
            "display": null,
            "flex": null,
            "flex_flow": null,
            "grid_area": null,
            "grid_auto_columns": null,
            "grid_auto_flow": null,
            "grid_auto_rows": null,
            "grid_column": null,
            "grid_gap": null,
            "grid_row": null,
            "grid_template_areas": null,
            "grid_template_columns": null,
            "grid_template_rows": null,
            "height": null,
            "justify_content": null,
            "justify_items": null,
            "left": null,
            "margin": null,
            "max_height": null,
            "max_width": null,
            "min_height": null,
            "min_width": null,
            "object_fit": null,
            "object_position": null,
            "order": null,
            "overflow": null,
            "overflow_x": null,
            "overflow_y": null,
            "padding": null,
            "right": null,
            "top": null,
            "visibility": null,
            "width": null
          }
        },
        "0103f2f3524943009a58cba5b7cd165e": {
          "model_module": "@jupyter-widgets/base",
          "model_name": "LayoutModel",
          "model_module_version": "1.2.0",
          "state": {
            "_model_module": "@jupyter-widgets/base",
            "_model_module_version": "1.2.0",
            "_model_name": "LayoutModel",
            "_view_count": null,
            "_view_module": "@jupyter-widgets/base",
            "_view_module_version": "1.2.0",
            "_view_name": "LayoutView",
            "align_content": null,
            "align_items": null,
            "align_self": null,
            "border": null,
            "bottom": null,
            "display": null,
            "flex": null,
            "flex_flow": null,
            "grid_area": null,
            "grid_auto_columns": null,
            "grid_auto_flow": null,
            "grid_auto_rows": null,
            "grid_column": null,
            "grid_gap": null,
            "grid_row": null,
            "grid_template_areas": null,
            "grid_template_columns": null,
            "grid_template_rows": null,
            "height": null,
            "justify_content": null,
            "justify_items": null,
            "left": null,
            "margin": null,
            "max_height": null,
            "max_width": null,
            "min_height": null,
            "min_width": null,
            "object_fit": null,
            "object_position": null,
            "order": null,
            "overflow": null,
            "overflow_x": null,
            "overflow_y": null,
            "padding": null,
            "right": null,
            "top": null,
            "visibility": null,
            "width": null
          }
        },
        "97bcb687867d433aa254153cec6807d3": {
          "model_module": "@jupyter-widgets/controls",
          "model_name": "DescriptionStyleModel",
          "model_module_version": "1.5.0",
          "state": {
            "_model_module": "@jupyter-widgets/controls",
            "_model_module_version": "1.5.0",
            "_model_name": "DescriptionStyleModel",
            "_view_count": null,
            "_view_module": "@jupyter-widgets/base",
            "_view_module_version": "1.2.0",
            "_view_name": "StyleView",
            "description_width": ""
          }
        },
        "6f4f0a344f854f21b1cc8fc85e5c93bf": {
          "model_module": "@jupyter-widgets/base",
          "model_name": "LayoutModel",
          "model_module_version": "1.2.0",
          "state": {
            "_model_module": "@jupyter-widgets/base",
            "_model_module_version": "1.2.0",
            "_model_name": "LayoutModel",
            "_view_count": null,
            "_view_module": "@jupyter-widgets/base",
            "_view_module_version": "1.2.0",
            "_view_name": "LayoutView",
            "align_content": null,
            "align_items": null,
            "align_self": null,
            "border": null,
            "bottom": null,
            "display": null,
            "flex": null,
            "flex_flow": null,
            "grid_area": null,
            "grid_auto_columns": null,
            "grid_auto_flow": null,
            "grid_auto_rows": null,
            "grid_column": null,
            "grid_gap": null,
            "grid_row": null,
            "grid_template_areas": null,
            "grid_template_columns": null,
            "grid_template_rows": null,
            "height": null,
            "justify_content": null,
            "justify_items": null,
            "left": null,
            "margin": null,
            "max_height": null,
            "max_width": null,
            "min_height": null,
            "min_width": null,
            "object_fit": null,
            "object_position": null,
            "order": null,
            "overflow": null,
            "overflow_x": null,
            "overflow_y": null,
            "padding": null,
            "right": null,
            "top": null,
            "visibility": null,
            "width": null
          }
        },
        "8d7eddd4a2ab45ce823538dcc014bacf": {
          "model_module": "@jupyter-widgets/controls",
          "model_name": "ProgressStyleModel",
          "model_module_version": "1.5.0",
          "state": {
            "_model_module": "@jupyter-widgets/controls",
            "_model_module_version": "1.5.0",
            "_model_name": "ProgressStyleModel",
            "_view_count": null,
            "_view_module": "@jupyter-widgets/base",
            "_view_module_version": "1.2.0",
            "_view_name": "StyleView",
            "bar_color": null,
            "description_width": ""
          }
        },
        "f227ce74090043848eb890f23d546446": {
          "model_module": "@jupyter-widgets/base",
          "model_name": "LayoutModel",
          "model_module_version": "1.2.0",
          "state": {
            "_model_module": "@jupyter-widgets/base",
            "_model_module_version": "1.2.0",
            "_model_name": "LayoutModel",
            "_view_count": null,
            "_view_module": "@jupyter-widgets/base",
            "_view_module_version": "1.2.0",
            "_view_name": "LayoutView",
            "align_content": null,
            "align_items": null,
            "align_self": null,
            "border": null,
            "bottom": null,
            "display": null,
            "flex": null,
            "flex_flow": null,
            "grid_area": null,
            "grid_auto_columns": null,
            "grid_auto_flow": null,
            "grid_auto_rows": null,
            "grid_column": null,
            "grid_gap": null,
            "grid_row": null,
            "grid_template_areas": null,
            "grid_template_columns": null,
            "grid_template_rows": null,
            "height": null,
            "justify_content": null,
            "justify_items": null,
            "left": null,
            "margin": null,
            "max_height": null,
            "max_width": null,
            "min_height": null,
            "min_width": null,
            "object_fit": null,
            "object_position": null,
            "order": null,
            "overflow": null,
            "overflow_x": null,
            "overflow_y": null,
            "padding": null,
            "right": null,
            "top": null,
            "visibility": null,
            "width": null
          }
        },
        "a369902b100e4d76bd1cbc987948610f": {
          "model_module": "@jupyter-widgets/controls",
          "model_name": "DescriptionStyleModel",
          "model_module_version": "1.5.0",
          "state": {
            "_model_module": "@jupyter-widgets/controls",
            "_model_module_version": "1.5.0",
            "_model_name": "DescriptionStyleModel",
            "_view_count": null,
            "_view_module": "@jupyter-widgets/base",
            "_view_module_version": "1.2.0",
            "_view_name": "StyleView",
            "description_width": ""
          }
        },
        "f4a06fae14834e65a6d0a2dfe379f40f": {
          "model_module": "@jupyter-widgets/controls",
          "model_name": "HBoxModel",
          "model_module_version": "1.5.0",
          "state": {
            "_dom_classes": [],
            "_model_module": "@jupyter-widgets/controls",
            "_model_module_version": "1.5.0",
            "_model_name": "HBoxModel",
            "_view_count": null,
            "_view_module": "@jupyter-widgets/controls",
            "_view_module_version": "1.5.0",
            "_view_name": "HBoxView",
            "box_style": "",
            "children": [
              "IPY_MODEL_1d4c27d0a207406fa72ccd520b8649e2",
              "IPY_MODEL_fd1951db255c470b84961a25dbe6a0f0",
              "IPY_MODEL_f5d3f28ee23b4bd886002e4faa7b0c01"
            ],
            "layout": "IPY_MODEL_e0bff44b15c444fe9c6cafa79fe0232e"
          }
        },
        "1d4c27d0a207406fa72ccd520b8649e2": {
          "model_module": "@jupyter-widgets/controls",
          "model_name": "HTMLModel",
          "model_module_version": "1.5.0",
          "state": {
            "_dom_classes": [],
            "_model_module": "@jupyter-widgets/controls",
            "_model_module_version": "1.5.0",
            "_model_name": "HTMLModel",
            "_view_count": null,
            "_view_module": "@jupyter-widgets/controls",
            "_view_module_version": "1.5.0",
            "_view_name": "HTMLView",
            "description": "",
            "description_tooltip": null,
            "layout": "IPY_MODEL_3054cbca68834d7ab714c71fb3d1b090",
            "placeholder": "​",
            "style": "IPY_MODEL_6161d29d92c84768bcc0cfa0d4dc38bb",
            "value": "tokenizer.json: 100%"
          }
        },
        "fd1951db255c470b84961a25dbe6a0f0": {
          "model_module": "@jupyter-widgets/controls",
          "model_name": "FloatProgressModel",
          "model_module_version": "1.5.0",
          "state": {
            "_dom_classes": [],
            "_model_module": "@jupyter-widgets/controls",
            "_model_module_version": "1.5.0",
            "_model_name": "FloatProgressModel",
            "_view_count": null,
            "_view_module": "@jupyter-widgets/controls",
            "_view_module_version": "1.5.0",
            "_view_name": "ProgressView",
            "bar_style": "success",
            "description": "",
            "description_tooltip": null,
            "layout": "IPY_MODEL_054f9bceaa544e2cb2c346422a7ba42e",
            "max": 2405679,
            "min": 0,
            "orientation": "horizontal",
            "style": "IPY_MODEL_a969e00ba4c44129ab112a089967f0d5",
            "value": 2405679
          }
        },
        "f5d3f28ee23b4bd886002e4faa7b0c01": {
          "model_module": "@jupyter-widgets/controls",
          "model_name": "HTMLModel",
          "model_module_version": "1.5.0",
          "state": {
            "_dom_classes": [],
            "_model_module": "@jupyter-widgets/controls",
            "_model_module_version": "1.5.0",
            "_model_name": "HTMLModel",
            "_view_count": null,
            "_view_module": "@jupyter-widgets/controls",
            "_view_module_version": "1.5.0",
            "_view_name": "HTMLView",
            "description": "",
            "description_tooltip": null,
            "layout": "IPY_MODEL_606538378e21427cba9c85d6d6f4a3fb",
            "placeholder": "​",
            "style": "IPY_MODEL_605c28a25f34428c9f9d4421bd23d90d",
            "value": " 2.41M/2.41M [00:00&lt;00:00, 33.4MB/s]"
          }
        },
        "e0bff44b15c444fe9c6cafa79fe0232e": {
          "model_module": "@jupyter-widgets/base",
          "model_name": "LayoutModel",
          "model_module_version": "1.2.0",
          "state": {
            "_model_module": "@jupyter-widgets/base",
            "_model_module_version": "1.2.0",
            "_model_name": "LayoutModel",
            "_view_count": null,
            "_view_module": "@jupyter-widgets/base",
            "_view_module_version": "1.2.0",
            "_view_name": "LayoutView",
            "align_content": null,
            "align_items": null,
            "align_self": null,
            "border": null,
            "bottom": null,
            "display": null,
            "flex": null,
            "flex_flow": null,
            "grid_area": null,
            "grid_auto_columns": null,
            "grid_auto_flow": null,
            "grid_auto_rows": null,
            "grid_column": null,
            "grid_gap": null,
            "grid_row": null,
            "grid_template_areas": null,
            "grid_template_columns": null,
            "grid_template_rows": null,
            "height": null,
            "justify_content": null,
            "justify_items": null,
            "left": null,
            "margin": null,
            "max_height": null,
            "max_width": null,
            "min_height": null,
            "min_width": null,
            "object_fit": null,
            "object_position": null,
            "order": null,
            "overflow": null,
            "overflow_x": null,
            "overflow_y": null,
            "padding": null,
            "right": null,
            "top": null,
            "visibility": null,
            "width": null
          }
        },
        "3054cbca68834d7ab714c71fb3d1b090": {
          "model_module": "@jupyter-widgets/base",
          "model_name": "LayoutModel",
          "model_module_version": "1.2.0",
          "state": {
            "_model_module": "@jupyter-widgets/base",
            "_model_module_version": "1.2.0",
            "_model_name": "LayoutModel",
            "_view_count": null,
            "_view_module": "@jupyter-widgets/base",
            "_view_module_version": "1.2.0",
            "_view_name": "LayoutView",
            "align_content": null,
            "align_items": null,
            "align_self": null,
            "border": null,
            "bottom": null,
            "display": null,
            "flex": null,
            "flex_flow": null,
            "grid_area": null,
            "grid_auto_columns": null,
            "grid_auto_flow": null,
            "grid_auto_rows": null,
            "grid_column": null,
            "grid_gap": null,
            "grid_row": null,
            "grid_template_areas": null,
            "grid_template_columns": null,
            "grid_template_rows": null,
            "height": null,
            "justify_content": null,
            "justify_items": null,
            "left": null,
            "margin": null,
            "max_height": null,
            "max_width": null,
            "min_height": null,
            "min_width": null,
            "object_fit": null,
            "object_position": null,
            "order": null,
            "overflow": null,
            "overflow_x": null,
            "overflow_y": null,
            "padding": null,
            "right": null,
            "top": null,
            "visibility": null,
            "width": null
          }
        },
        "6161d29d92c84768bcc0cfa0d4dc38bb": {
          "model_module": "@jupyter-widgets/controls",
          "model_name": "DescriptionStyleModel",
          "model_module_version": "1.5.0",
          "state": {
            "_model_module": "@jupyter-widgets/controls",
            "_model_module_version": "1.5.0",
            "_model_name": "DescriptionStyleModel",
            "_view_count": null,
            "_view_module": "@jupyter-widgets/base",
            "_view_module_version": "1.2.0",
            "_view_name": "StyleView",
            "description_width": ""
          }
        },
        "054f9bceaa544e2cb2c346422a7ba42e": {
          "model_module": "@jupyter-widgets/base",
          "model_name": "LayoutModel",
          "model_module_version": "1.2.0",
          "state": {
            "_model_module": "@jupyter-widgets/base",
            "_model_module_version": "1.2.0",
            "_model_name": "LayoutModel",
            "_view_count": null,
            "_view_module": "@jupyter-widgets/base",
            "_view_module_version": "1.2.0",
            "_view_name": "LayoutView",
            "align_content": null,
            "align_items": null,
            "align_self": null,
            "border": null,
            "bottom": null,
            "display": null,
            "flex": null,
            "flex_flow": null,
            "grid_area": null,
            "grid_auto_columns": null,
            "grid_auto_flow": null,
            "grid_auto_rows": null,
            "grid_column": null,
            "grid_gap": null,
            "grid_row": null,
            "grid_template_areas": null,
            "grid_template_columns": null,
            "grid_template_rows": null,
            "height": null,
            "justify_content": null,
            "justify_items": null,
            "left": null,
            "margin": null,
            "max_height": null,
            "max_width": null,
            "min_height": null,
            "min_width": null,
            "object_fit": null,
            "object_position": null,
            "order": null,
            "overflow": null,
            "overflow_x": null,
            "overflow_y": null,
            "padding": null,
            "right": null,
            "top": null,
            "visibility": null,
            "width": null
          }
        },
        "a969e00ba4c44129ab112a089967f0d5": {
          "model_module": "@jupyter-widgets/controls",
          "model_name": "ProgressStyleModel",
          "model_module_version": "1.5.0",
          "state": {
            "_model_module": "@jupyter-widgets/controls",
            "_model_module_version": "1.5.0",
            "_model_name": "ProgressStyleModel",
            "_view_count": null,
            "_view_module": "@jupyter-widgets/base",
            "_view_module_version": "1.2.0",
            "_view_name": "StyleView",
            "bar_color": null,
            "description_width": ""
          }
        },
        "606538378e21427cba9c85d6d6f4a3fb": {
          "model_module": "@jupyter-widgets/base",
          "model_name": "LayoutModel",
          "model_module_version": "1.2.0",
          "state": {
            "_model_module": "@jupyter-widgets/base",
            "_model_module_version": "1.2.0",
            "_model_name": "LayoutModel",
            "_view_count": null,
            "_view_module": "@jupyter-widgets/base",
            "_view_module_version": "1.2.0",
            "_view_name": "LayoutView",
            "align_content": null,
            "align_items": null,
            "align_self": null,
            "border": null,
            "bottom": null,
            "display": null,
            "flex": null,
            "flex_flow": null,
            "grid_area": null,
            "grid_auto_columns": null,
            "grid_auto_flow": null,
            "grid_auto_rows": null,
            "grid_column": null,
            "grid_gap": null,
            "grid_row": null,
            "grid_template_areas": null,
            "grid_template_columns": null,
            "grid_template_rows": null,
            "height": null,
            "justify_content": null,
            "justify_items": null,
            "left": null,
            "margin": null,
            "max_height": null,
            "max_width": null,
            "min_height": null,
            "min_width": null,
            "object_fit": null,
            "object_position": null,
            "order": null,
            "overflow": null,
            "overflow_x": null,
            "overflow_y": null,
            "padding": null,
            "right": null,
            "top": null,
            "visibility": null,
            "width": null
          }
        },
        "605c28a25f34428c9f9d4421bd23d90d": {
          "model_module": "@jupyter-widgets/controls",
          "model_name": "DescriptionStyleModel",
          "model_module_version": "1.5.0",
          "state": {
            "_model_module": "@jupyter-widgets/controls",
            "_model_module_version": "1.5.0",
            "_model_name": "DescriptionStyleModel",
            "_view_count": null,
            "_view_module": "@jupyter-widgets/base",
            "_view_module_version": "1.2.0",
            "_view_name": "StyleView",
            "description_width": ""
          }
        },
        "1976beccccf9496b90c8b04176315a0e": {
          "model_module": "@jupyter-widgets/controls",
          "model_name": "HBoxModel",
          "model_module_version": "1.5.0",
          "state": {
            "_dom_classes": [],
            "_model_module": "@jupyter-widgets/controls",
            "_model_module_version": "1.5.0",
            "_model_name": "HBoxModel",
            "_view_count": null,
            "_view_module": "@jupyter-widgets/controls",
            "_view_module_version": "1.5.0",
            "_view_name": "HBoxView",
            "box_style": "",
            "children": [
              "IPY_MODEL_0b57ec25c4934bae85a3dd3df5fed849",
              "IPY_MODEL_011be8398e8e4e6992bdf469849ead9e",
              "IPY_MODEL_49587bc0fd4e4c8a8fdd8a03a434df7d"
            ],
            "layout": "IPY_MODEL_d5f56762bca7461d99b97f8dc1f88e54"
          }
        },
        "0b57ec25c4934bae85a3dd3df5fed849": {
          "model_module": "@jupyter-widgets/controls",
          "model_name": "HTMLModel",
          "model_module_version": "1.5.0",
          "state": {
            "_dom_classes": [],
            "_model_module": "@jupyter-widgets/controls",
            "_model_module_version": "1.5.0",
            "_model_name": "HTMLModel",
            "_view_count": null,
            "_view_module": "@jupyter-widgets/controls",
            "_view_module_version": "1.5.0",
            "_view_name": "HTMLView",
            "description": "",
            "description_tooltip": null,
            "layout": "IPY_MODEL_aef6b8397ccd4736b7880d1a51b23cab",
            "placeholder": "​",
            "style": "IPY_MODEL_7ef4c579bdcd49ffba52ab731fd7d79d",
            "value": "merges.txt: 100%"
          }
        },
        "011be8398e8e4e6992bdf469849ead9e": {
          "model_module": "@jupyter-widgets/controls",
          "model_name": "FloatProgressModel",
          "model_module_version": "1.5.0",
          "state": {
            "_dom_classes": [],
            "_model_module": "@jupyter-widgets/controls",
            "_model_module_version": "1.5.0",
            "_model_name": "FloatProgressModel",
            "_view_count": null,
            "_view_module": "@jupyter-widgets/controls",
            "_view_module_version": "1.5.0",
            "_view_name": "ProgressView",
            "bar_style": "success",
            "description": "",
            "description_tooltip": null,
            "layout": "IPY_MODEL_e632f0dd14db44b39025b72c3657be32",
            "max": 456318,
            "min": 0,
            "orientation": "horizontal",
            "style": "IPY_MODEL_776541a26b27412a8b17c139a77a74c2",
            "value": 456318
          }
        },
        "49587bc0fd4e4c8a8fdd8a03a434df7d": {
          "model_module": "@jupyter-widgets/controls",
          "model_name": "HTMLModel",
          "model_module_version": "1.5.0",
          "state": {
            "_dom_classes": [],
            "_model_module": "@jupyter-widgets/controls",
            "_model_module_version": "1.5.0",
            "_model_name": "HTMLModel",
            "_view_count": null,
            "_view_module": "@jupyter-widgets/controls",
            "_view_module_version": "1.5.0",
            "_view_name": "HTMLView",
            "description": "",
            "description_tooltip": null,
            "layout": "IPY_MODEL_7b50a90aa47941c9b6a0ba5ce7e38099",
            "placeholder": "​",
            "style": "IPY_MODEL_8ac0966655fe4ed9ab6e9e7a78a27a6f",
            "value": " 456k/456k [00:00&lt;00:00, 3.55MB/s]"
          }
        },
        "d5f56762bca7461d99b97f8dc1f88e54": {
          "model_module": "@jupyter-widgets/base",
          "model_name": "LayoutModel",
          "model_module_version": "1.2.0",
          "state": {
            "_model_module": "@jupyter-widgets/base",
            "_model_module_version": "1.2.0",
            "_model_name": "LayoutModel",
            "_view_count": null,
            "_view_module": "@jupyter-widgets/base",
            "_view_module_version": "1.2.0",
            "_view_name": "LayoutView",
            "align_content": null,
            "align_items": null,
            "align_self": null,
            "border": null,
            "bottom": null,
            "display": null,
            "flex": null,
            "flex_flow": null,
            "grid_area": null,
            "grid_auto_columns": null,
            "grid_auto_flow": null,
            "grid_auto_rows": null,
            "grid_column": null,
            "grid_gap": null,
            "grid_row": null,
            "grid_template_areas": null,
            "grid_template_columns": null,
            "grid_template_rows": null,
            "height": null,
            "justify_content": null,
            "justify_items": null,
            "left": null,
            "margin": null,
            "max_height": null,
            "max_width": null,
            "min_height": null,
            "min_width": null,
            "object_fit": null,
            "object_position": null,
            "order": null,
            "overflow": null,
            "overflow_x": null,
            "overflow_y": null,
            "padding": null,
            "right": null,
            "top": null,
            "visibility": null,
            "width": null
          }
        },
        "aef6b8397ccd4736b7880d1a51b23cab": {
          "model_module": "@jupyter-widgets/base",
          "model_name": "LayoutModel",
          "model_module_version": "1.2.0",
          "state": {
            "_model_module": "@jupyter-widgets/base",
            "_model_module_version": "1.2.0",
            "_model_name": "LayoutModel",
            "_view_count": null,
            "_view_module": "@jupyter-widgets/base",
            "_view_module_version": "1.2.0",
            "_view_name": "LayoutView",
            "align_content": null,
            "align_items": null,
            "align_self": null,
            "border": null,
            "bottom": null,
            "display": null,
            "flex": null,
            "flex_flow": null,
            "grid_area": null,
            "grid_auto_columns": null,
            "grid_auto_flow": null,
            "grid_auto_rows": null,
            "grid_column": null,
            "grid_gap": null,
            "grid_row": null,
            "grid_template_areas": null,
            "grid_template_columns": null,
            "grid_template_rows": null,
            "height": null,
            "justify_content": null,
            "justify_items": null,
            "left": null,
            "margin": null,
            "max_height": null,
            "max_width": null,
            "min_height": null,
            "min_width": null,
            "object_fit": null,
            "object_position": null,
            "order": null,
            "overflow": null,
            "overflow_x": null,
            "overflow_y": null,
            "padding": null,
            "right": null,
            "top": null,
            "visibility": null,
            "width": null
          }
        },
        "7ef4c579bdcd49ffba52ab731fd7d79d": {
          "model_module": "@jupyter-widgets/controls",
          "model_name": "DescriptionStyleModel",
          "model_module_version": "1.5.0",
          "state": {
            "_model_module": "@jupyter-widgets/controls",
            "_model_module_version": "1.5.0",
            "_model_name": "DescriptionStyleModel",
            "_view_count": null,
            "_view_module": "@jupyter-widgets/base",
            "_view_module_version": "1.2.0",
            "_view_name": "StyleView",
            "description_width": ""
          }
        },
        "e632f0dd14db44b39025b72c3657be32": {
          "model_module": "@jupyter-widgets/base",
          "model_name": "LayoutModel",
          "model_module_version": "1.2.0",
          "state": {
            "_model_module": "@jupyter-widgets/base",
            "_model_module_version": "1.2.0",
            "_model_name": "LayoutModel",
            "_view_count": null,
            "_view_module": "@jupyter-widgets/base",
            "_view_module_version": "1.2.0",
            "_view_name": "LayoutView",
            "align_content": null,
            "align_items": null,
            "align_self": null,
            "border": null,
            "bottom": null,
            "display": null,
            "flex": null,
            "flex_flow": null,
            "grid_area": null,
            "grid_auto_columns": null,
            "grid_auto_flow": null,
            "grid_auto_rows": null,
            "grid_column": null,
            "grid_gap": null,
            "grid_row": null,
            "grid_template_areas": null,
            "grid_template_columns": null,
            "grid_template_rows": null,
            "height": null,
            "justify_content": null,
            "justify_items": null,
            "left": null,
            "margin": null,
            "max_height": null,
            "max_width": null,
            "min_height": null,
            "min_width": null,
            "object_fit": null,
            "object_position": null,
            "order": null,
            "overflow": null,
            "overflow_x": null,
            "overflow_y": null,
            "padding": null,
            "right": null,
            "top": null,
            "visibility": null,
            "width": null
          }
        },
        "776541a26b27412a8b17c139a77a74c2": {
          "model_module": "@jupyter-widgets/controls",
          "model_name": "ProgressStyleModel",
          "model_module_version": "1.5.0",
          "state": {
            "_model_module": "@jupyter-widgets/controls",
            "_model_module_version": "1.5.0",
            "_model_name": "ProgressStyleModel",
            "_view_count": null,
            "_view_module": "@jupyter-widgets/base",
            "_view_module_version": "1.2.0",
            "_view_name": "StyleView",
            "bar_color": null,
            "description_width": ""
          }
        },
        "7b50a90aa47941c9b6a0ba5ce7e38099": {
          "model_module": "@jupyter-widgets/base",
          "model_name": "LayoutModel",
          "model_module_version": "1.2.0",
          "state": {
            "_model_module": "@jupyter-widgets/base",
            "_model_module_version": "1.2.0",
            "_model_name": "LayoutModel",
            "_view_count": null,
            "_view_module": "@jupyter-widgets/base",
            "_view_module_version": "1.2.0",
            "_view_name": "LayoutView",
            "align_content": null,
            "align_items": null,
            "align_self": null,
            "border": null,
            "bottom": null,
            "display": null,
            "flex": null,
            "flex_flow": null,
            "grid_area": null,
            "grid_auto_columns": null,
            "grid_auto_flow": null,
            "grid_auto_rows": null,
            "grid_column": null,
            "grid_gap": null,
            "grid_row": null,
            "grid_template_areas": null,
            "grid_template_columns": null,
            "grid_template_rows": null,
            "height": null,
            "justify_content": null,
            "justify_items": null,
            "left": null,
            "margin": null,
            "max_height": null,
            "max_width": null,
            "min_height": null,
            "min_width": null,
            "object_fit": null,
            "object_position": null,
            "order": null,
            "overflow": null,
            "overflow_x": null,
            "overflow_y": null,
            "padding": null,
            "right": null,
            "top": null,
            "visibility": null,
            "width": null
          }
        },
        "8ac0966655fe4ed9ab6e9e7a78a27a6f": {
          "model_module": "@jupyter-widgets/controls",
          "model_name": "DescriptionStyleModel",
          "model_module_version": "1.5.0",
          "state": {
            "_model_module": "@jupyter-widgets/controls",
            "_model_module_version": "1.5.0",
            "_model_name": "DescriptionStyleModel",
            "_view_count": null,
            "_view_module": "@jupyter-widgets/base",
            "_view_module_version": "1.2.0",
            "_view_name": "StyleView",
            "description_width": ""
          }
        },
        "8054092d80434f2aa41ccb75746f97c6": {
          "model_module": "@jupyter-widgets/controls",
          "model_name": "HBoxModel",
          "model_module_version": "1.5.0",
          "state": {
            "_dom_classes": [],
            "_model_module": "@jupyter-widgets/controls",
            "_model_module_version": "1.5.0",
            "_model_name": "HBoxModel",
            "_view_count": null,
            "_view_module": "@jupyter-widgets/controls",
            "_view_module_version": "1.5.0",
            "_view_name": "HBoxView",
            "box_style": "",
            "children": [
              "IPY_MODEL_a95411c712394dacaa7c0c8a88a00366",
              "IPY_MODEL_325c82f7942f42af9c1a9feccb84e692",
              "IPY_MODEL_b624988916cb4cbc89591eed2a1fc5b4"
            ],
            "layout": "IPY_MODEL_8ce4ca12762c4cb79c89e683fd20b806"
          }
        },
        "a95411c712394dacaa7c0c8a88a00366": {
          "model_module": "@jupyter-widgets/controls",
          "model_name": "HTMLModel",
          "model_module_version": "1.5.0",
          "state": {
            "_dom_classes": [],
            "_model_module": "@jupyter-widgets/controls",
            "_model_module_version": "1.5.0",
            "_model_name": "HTMLModel",
            "_view_count": null,
            "_view_module": "@jupyter-widgets/controls",
            "_view_module_version": "1.5.0",
            "_view_name": "HTMLView",
            "description": "",
            "description_tooltip": null,
            "layout": "IPY_MODEL_619a774c3d5c47a183afb4e2b18e2e3a",
            "placeholder": "​",
            "style": "IPY_MODEL_b7027b5e60f74978bca16e5044f68182",
            "value": "normalizer.json: 100%"
          }
        },
        "325c82f7942f42af9c1a9feccb84e692": {
          "model_module": "@jupyter-widgets/controls",
          "model_name": "FloatProgressModel",
          "model_module_version": "1.5.0",
          "state": {
            "_dom_classes": [],
            "_model_module": "@jupyter-widgets/controls",
            "_model_module_version": "1.5.0",
            "_model_name": "FloatProgressModel",
            "_view_count": null,
            "_view_module": "@jupyter-widgets/controls",
            "_view_module_version": "1.5.0",
            "_view_name": "ProgressView",
            "bar_style": "success",
            "description": "",
            "description_tooltip": null,
            "layout": "IPY_MODEL_3ae6e32f36484479bf647183639b9baa",
            "max": 52666,
            "min": 0,
            "orientation": "horizontal",
            "style": "IPY_MODEL_7539b7d76a02493f8663b2444805c903",
            "value": 52666
          }
        },
        "b624988916cb4cbc89591eed2a1fc5b4": {
          "model_module": "@jupyter-widgets/controls",
          "model_name": "HTMLModel",
          "model_module_version": "1.5.0",
          "state": {
            "_dom_classes": [],
            "_model_module": "@jupyter-widgets/controls",
            "_model_module_version": "1.5.0",
            "_model_name": "HTMLModel",
            "_view_count": null,
            "_view_module": "@jupyter-widgets/controls",
            "_view_module_version": "1.5.0",
            "_view_name": "HTMLView",
            "description": "",
            "description_tooltip": null,
            "layout": "IPY_MODEL_129b9f0abb7942b586192d518e1095fa",
            "placeholder": "​",
            "style": "IPY_MODEL_aedd88b983de435c8d56aac770cb6cb6",
            "value": " 52.7k/52.7k [00:00&lt;00:00, 2.31MB/s]"
          }
        },
        "8ce4ca12762c4cb79c89e683fd20b806": {
          "model_module": "@jupyter-widgets/base",
          "model_name": "LayoutModel",
          "model_module_version": "1.2.0",
          "state": {
            "_model_module": "@jupyter-widgets/base",
            "_model_module_version": "1.2.0",
            "_model_name": "LayoutModel",
            "_view_count": null,
            "_view_module": "@jupyter-widgets/base",
            "_view_module_version": "1.2.0",
            "_view_name": "LayoutView",
            "align_content": null,
            "align_items": null,
            "align_self": null,
            "border": null,
            "bottom": null,
            "display": null,
            "flex": null,
            "flex_flow": null,
            "grid_area": null,
            "grid_auto_columns": null,
            "grid_auto_flow": null,
            "grid_auto_rows": null,
            "grid_column": null,
            "grid_gap": null,
            "grid_row": null,
            "grid_template_areas": null,
            "grid_template_columns": null,
            "grid_template_rows": null,
            "height": null,
            "justify_content": null,
            "justify_items": null,
            "left": null,
            "margin": null,
            "max_height": null,
            "max_width": null,
            "min_height": null,
            "min_width": null,
            "object_fit": null,
            "object_position": null,
            "order": null,
            "overflow": null,
            "overflow_x": null,
            "overflow_y": null,
            "padding": null,
            "right": null,
            "top": null,
            "visibility": null,
            "width": null
          }
        },
        "619a774c3d5c47a183afb4e2b18e2e3a": {
          "model_module": "@jupyter-widgets/base",
          "model_name": "LayoutModel",
          "model_module_version": "1.2.0",
          "state": {
            "_model_module": "@jupyter-widgets/base",
            "_model_module_version": "1.2.0",
            "_model_name": "LayoutModel",
            "_view_count": null,
            "_view_module": "@jupyter-widgets/base",
            "_view_module_version": "1.2.0",
            "_view_name": "LayoutView",
            "align_content": null,
            "align_items": null,
            "align_self": null,
            "border": null,
            "bottom": null,
            "display": null,
            "flex": null,
            "flex_flow": null,
            "grid_area": null,
            "grid_auto_columns": null,
            "grid_auto_flow": null,
            "grid_auto_rows": null,
            "grid_column": null,
            "grid_gap": null,
            "grid_row": null,
            "grid_template_areas": null,
            "grid_template_columns": null,
            "grid_template_rows": null,
            "height": null,
            "justify_content": null,
            "justify_items": null,
            "left": null,
            "margin": null,
            "max_height": null,
            "max_width": null,
            "min_height": null,
            "min_width": null,
            "object_fit": null,
            "object_position": null,
            "order": null,
            "overflow": null,
            "overflow_x": null,
            "overflow_y": null,
            "padding": null,
            "right": null,
            "top": null,
            "visibility": null,
            "width": null
          }
        },
        "b7027b5e60f74978bca16e5044f68182": {
          "model_module": "@jupyter-widgets/controls",
          "model_name": "DescriptionStyleModel",
          "model_module_version": "1.5.0",
          "state": {
            "_model_module": "@jupyter-widgets/controls",
            "_model_module_version": "1.5.0",
            "_model_name": "DescriptionStyleModel",
            "_view_count": null,
            "_view_module": "@jupyter-widgets/base",
            "_view_module_version": "1.2.0",
            "_view_name": "StyleView",
            "description_width": ""
          }
        },
        "3ae6e32f36484479bf647183639b9baa": {
          "model_module": "@jupyter-widgets/base",
          "model_name": "LayoutModel",
          "model_module_version": "1.2.0",
          "state": {
            "_model_module": "@jupyter-widgets/base",
            "_model_module_version": "1.2.0",
            "_model_name": "LayoutModel",
            "_view_count": null,
            "_view_module": "@jupyter-widgets/base",
            "_view_module_version": "1.2.0",
            "_view_name": "LayoutView",
            "align_content": null,
            "align_items": null,
            "align_self": null,
            "border": null,
            "bottom": null,
            "display": null,
            "flex": null,
            "flex_flow": null,
            "grid_area": null,
            "grid_auto_columns": null,
            "grid_auto_flow": null,
            "grid_auto_rows": null,
            "grid_column": null,
            "grid_gap": null,
            "grid_row": null,
            "grid_template_areas": null,
            "grid_template_columns": null,
            "grid_template_rows": null,
            "height": null,
            "justify_content": null,
            "justify_items": null,
            "left": null,
            "margin": null,
            "max_height": null,
            "max_width": null,
            "min_height": null,
            "min_width": null,
            "object_fit": null,
            "object_position": null,
            "order": null,
            "overflow": null,
            "overflow_x": null,
            "overflow_y": null,
            "padding": null,
            "right": null,
            "top": null,
            "visibility": null,
            "width": null
          }
        },
        "7539b7d76a02493f8663b2444805c903": {
          "model_module": "@jupyter-widgets/controls",
          "model_name": "ProgressStyleModel",
          "model_module_version": "1.5.0",
          "state": {
            "_model_module": "@jupyter-widgets/controls",
            "_model_module_version": "1.5.0",
            "_model_name": "ProgressStyleModel",
            "_view_count": null,
            "_view_module": "@jupyter-widgets/base",
            "_view_module_version": "1.2.0",
            "_view_name": "StyleView",
            "bar_color": null,
            "description_width": ""
          }
        },
        "129b9f0abb7942b586192d518e1095fa": {
          "model_module": "@jupyter-widgets/base",
          "model_name": "LayoutModel",
          "model_module_version": "1.2.0",
          "state": {
            "_model_module": "@jupyter-widgets/base",
            "_model_module_version": "1.2.0",
            "_model_name": "LayoutModel",
            "_view_count": null,
            "_view_module": "@jupyter-widgets/base",
            "_view_module_version": "1.2.0",
            "_view_name": "LayoutView",
            "align_content": null,
            "align_items": null,
            "align_self": null,
            "border": null,
            "bottom": null,
            "display": null,
            "flex": null,
            "flex_flow": null,
            "grid_area": null,
            "grid_auto_columns": null,
            "grid_auto_flow": null,
            "grid_auto_rows": null,
            "grid_column": null,
            "grid_gap": null,
            "grid_row": null,
            "grid_template_areas": null,
            "grid_template_columns": null,
            "grid_template_rows": null,
            "height": null,
            "justify_content": null,
            "justify_items": null,
            "left": null,
            "margin": null,
            "max_height": null,
            "max_width": null,
            "min_height": null,
            "min_width": null,
            "object_fit": null,
            "object_position": null,
            "order": null,
            "overflow": null,
            "overflow_x": null,
            "overflow_y": null,
            "padding": null,
            "right": null,
            "top": null,
            "visibility": null,
            "width": null
          }
        },
        "aedd88b983de435c8d56aac770cb6cb6": {
          "model_module": "@jupyter-widgets/controls",
          "model_name": "DescriptionStyleModel",
          "model_module_version": "1.5.0",
          "state": {
            "_model_module": "@jupyter-widgets/controls",
            "_model_module_version": "1.5.0",
            "_model_name": "DescriptionStyleModel",
            "_view_count": null,
            "_view_module": "@jupyter-widgets/base",
            "_view_module_version": "1.2.0",
            "_view_name": "StyleView",
            "description_width": ""
          }
        },
        "9127f651b6cb46ef86e82183db8e1650": {
          "model_module": "@jupyter-widgets/controls",
          "model_name": "HBoxModel",
          "model_module_version": "1.5.0",
          "state": {
            "_dom_classes": [],
            "_model_module": "@jupyter-widgets/controls",
            "_model_module_version": "1.5.0",
            "_model_name": "HBoxModel",
            "_view_count": null,
            "_view_module": "@jupyter-widgets/controls",
            "_view_module_version": "1.5.0",
            "_view_name": "HBoxView",
            "box_style": "",
            "children": [
              "IPY_MODEL_6b678fdccc5f41f494dd4f565935de44",
              "IPY_MODEL_986c87af821f42099bdf73b14c0a0a92",
              "IPY_MODEL_b3bce242ed4b4f19b730b54b6cc97c91"
            ],
            "layout": "IPY_MODEL_0cb838db803f4255b947911a08f4474f"
          }
        },
        "6b678fdccc5f41f494dd4f565935de44": {
          "model_module": "@jupyter-widgets/controls",
          "model_name": "HTMLModel",
          "model_module_version": "1.5.0",
          "state": {
            "_dom_classes": [],
            "_model_module": "@jupyter-widgets/controls",
            "_model_module_version": "1.5.0",
            "_model_name": "HTMLModel",
            "_view_count": null,
            "_view_module": "@jupyter-widgets/controls",
            "_view_module_version": "1.5.0",
            "_view_name": "HTMLView",
            "description": "",
            "description_tooltip": null,
            "layout": "IPY_MODEL_16b16d25fe7d4ea5864c633de8770b66",
            "placeholder": "​",
            "style": "IPY_MODEL_faa5f18d686444c29f7a1ad1b3428dcb",
            "value": "added_tokens.json: 100%"
          }
        },
        "986c87af821f42099bdf73b14c0a0a92": {
          "model_module": "@jupyter-widgets/controls",
          "model_name": "FloatProgressModel",
          "model_module_version": "1.5.0",
          "state": {
            "_dom_classes": [],
            "_model_module": "@jupyter-widgets/controls",
            "_model_module_version": "1.5.0",
            "_model_name": "FloatProgressModel",
            "_view_count": null,
            "_view_module": "@jupyter-widgets/controls",
            "_view_module_version": "1.5.0",
            "_view_name": "ProgressView",
            "bar_style": "success",
            "description": "",
            "description_tooltip": null,
            "layout": "IPY_MODEL_ce782efbb0944893a2214a1668494ab2",
            "max": 34604,
            "min": 0,
            "orientation": "horizontal",
            "style": "IPY_MODEL_765ae9682adc4227b988db70aad32c12",
            "value": 34604
          }
        },
        "b3bce242ed4b4f19b730b54b6cc97c91": {
          "model_module": "@jupyter-widgets/controls",
          "model_name": "HTMLModel",
          "model_module_version": "1.5.0",
          "state": {
            "_dom_classes": [],
            "_model_module": "@jupyter-widgets/controls",
            "_model_module_version": "1.5.0",
            "_model_name": "HTMLModel",
            "_view_count": null,
            "_view_module": "@jupyter-widgets/controls",
            "_view_module_version": "1.5.0",
            "_view_name": "HTMLView",
            "description": "",
            "description_tooltip": null,
            "layout": "IPY_MODEL_f3d9329cf7f34a579aa106e58f2784cd",
            "placeholder": "​",
            "style": "IPY_MODEL_25e27c841f88455faa2fedf981b3bd33",
            "value": " 34.6k/34.6k [00:00&lt;00:00, 2.14MB/s]"
          }
        },
        "0cb838db803f4255b947911a08f4474f": {
          "model_module": "@jupyter-widgets/base",
          "model_name": "LayoutModel",
          "model_module_version": "1.2.0",
          "state": {
            "_model_module": "@jupyter-widgets/base",
            "_model_module_version": "1.2.0",
            "_model_name": "LayoutModel",
            "_view_count": null,
            "_view_module": "@jupyter-widgets/base",
            "_view_module_version": "1.2.0",
            "_view_name": "LayoutView",
            "align_content": null,
            "align_items": null,
            "align_self": null,
            "border": null,
            "bottom": null,
            "display": null,
            "flex": null,
            "flex_flow": null,
            "grid_area": null,
            "grid_auto_columns": null,
            "grid_auto_flow": null,
            "grid_auto_rows": null,
            "grid_column": null,
            "grid_gap": null,
            "grid_row": null,
            "grid_template_areas": null,
            "grid_template_columns": null,
            "grid_template_rows": null,
            "height": null,
            "justify_content": null,
            "justify_items": null,
            "left": null,
            "margin": null,
            "max_height": null,
            "max_width": null,
            "min_height": null,
            "min_width": null,
            "object_fit": null,
            "object_position": null,
            "order": null,
            "overflow": null,
            "overflow_x": null,
            "overflow_y": null,
            "padding": null,
            "right": null,
            "top": null,
            "visibility": null,
            "width": null
          }
        },
        "16b16d25fe7d4ea5864c633de8770b66": {
          "model_module": "@jupyter-widgets/base",
          "model_name": "LayoutModel",
          "model_module_version": "1.2.0",
          "state": {
            "_model_module": "@jupyter-widgets/base",
            "_model_module_version": "1.2.0",
            "_model_name": "LayoutModel",
            "_view_count": null,
            "_view_module": "@jupyter-widgets/base",
            "_view_module_version": "1.2.0",
            "_view_name": "LayoutView",
            "align_content": null,
            "align_items": null,
            "align_self": null,
            "border": null,
            "bottom": null,
            "display": null,
            "flex": null,
            "flex_flow": null,
            "grid_area": null,
            "grid_auto_columns": null,
            "grid_auto_flow": null,
            "grid_auto_rows": null,
            "grid_column": null,
            "grid_gap": null,
            "grid_row": null,
            "grid_template_areas": null,
            "grid_template_columns": null,
            "grid_template_rows": null,
            "height": null,
            "justify_content": null,
            "justify_items": null,
            "left": null,
            "margin": null,
            "max_height": null,
            "max_width": null,
            "min_height": null,
            "min_width": null,
            "object_fit": null,
            "object_position": null,
            "order": null,
            "overflow": null,
            "overflow_x": null,
            "overflow_y": null,
            "padding": null,
            "right": null,
            "top": null,
            "visibility": null,
            "width": null
          }
        },
        "faa5f18d686444c29f7a1ad1b3428dcb": {
          "model_module": "@jupyter-widgets/controls",
          "model_name": "DescriptionStyleModel",
          "model_module_version": "1.5.0",
          "state": {
            "_model_module": "@jupyter-widgets/controls",
            "_model_module_version": "1.5.0",
            "_model_name": "DescriptionStyleModel",
            "_view_count": null,
            "_view_module": "@jupyter-widgets/base",
            "_view_module_version": "1.2.0",
            "_view_name": "StyleView",
            "description_width": ""
          }
        },
        "ce782efbb0944893a2214a1668494ab2": {
          "model_module": "@jupyter-widgets/base",
          "model_name": "LayoutModel",
          "model_module_version": "1.2.0",
          "state": {
            "_model_module": "@jupyter-widgets/base",
            "_model_module_version": "1.2.0",
            "_model_name": "LayoutModel",
            "_view_count": null,
            "_view_module": "@jupyter-widgets/base",
            "_view_module_version": "1.2.0",
            "_view_name": "LayoutView",
            "align_content": null,
            "align_items": null,
            "align_self": null,
            "border": null,
            "bottom": null,
            "display": null,
            "flex": null,
            "flex_flow": null,
            "grid_area": null,
            "grid_auto_columns": null,
            "grid_auto_flow": null,
            "grid_auto_rows": null,
            "grid_column": null,
            "grid_gap": null,
            "grid_row": null,
            "grid_template_areas": null,
            "grid_template_columns": null,
            "grid_template_rows": null,
            "height": null,
            "justify_content": null,
            "justify_items": null,
            "left": null,
            "margin": null,
            "max_height": null,
            "max_width": null,
            "min_height": null,
            "min_width": null,
            "object_fit": null,
            "object_position": null,
            "order": null,
            "overflow": null,
            "overflow_x": null,
            "overflow_y": null,
            "padding": null,
            "right": null,
            "top": null,
            "visibility": null,
            "width": null
          }
        },
        "765ae9682adc4227b988db70aad32c12": {
          "model_module": "@jupyter-widgets/controls",
          "model_name": "ProgressStyleModel",
          "model_module_version": "1.5.0",
          "state": {
            "_model_module": "@jupyter-widgets/controls",
            "_model_module_version": "1.5.0",
            "_model_name": "ProgressStyleModel",
            "_view_count": null,
            "_view_module": "@jupyter-widgets/base",
            "_view_module_version": "1.2.0",
            "_view_name": "StyleView",
            "bar_color": null,
            "description_width": ""
          }
        },
        "f3d9329cf7f34a579aa106e58f2784cd": {
          "model_module": "@jupyter-widgets/base",
          "model_name": "LayoutModel",
          "model_module_version": "1.2.0",
          "state": {
            "_model_module": "@jupyter-widgets/base",
            "_model_module_version": "1.2.0",
            "_model_name": "LayoutModel",
            "_view_count": null,
            "_view_module": "@jupyter-widgets/base",
            "_view_module_version": "1.2.0",
            "_view_name": "LayoutView",
            "align_content": null,
            "align_items": null,
            "align_self": null,
            "border": null,
            "bottom": null,
            "display": null,
            "flex": null,
            "flex_flow": null,
            "grid_area": null,
            "grid_auto_columns": null,
            "grid_auto_flow": null,
            "grid_auto_rows": null,
            "grid_column": null,
            "grid_gap": null,
            "grid_row": null,
            "grid_template_areas": null,
            "grid_template_columns": null,
            "grid_template_rows": null,
            "height": null,
            "justify_content": null,
            "justify_items": null,
            "left": null,
            "margin": null,
            "max_height": null,
            "max_width": null,
            "min_height": null,
            "min_width": null,
            "object_fit": null,
            "object_position": null,
            "order": null,
            "overflow": null,
            "overflow_x": null,
            "overflow_y": null,
            "padding": null,
            "right": null,
            "top": null,
            "visibility": null,
            "width": null
          }
        },
        "25e27c841f88455faa2fedf981b3bd33": {
          "model_module": "@jupyter-widgets/controls",
          "model_name": "DescriptionStyleModel",
          "model_module_version": "1.5.0",
          "state": {
            "_model_module": "@jupyter-widgets/controls",
            "_model_module_version": "1.5.0",
            "_model_name": "DescriptionStyleModel",
            "_view_count": null,
            "_view_module": "@jupyter-widgets/base",
            "_view_module_version": "1.2.0",
            "_view_name": "StyleView",
            "description_width": ""
          }
        },
        "2843c2388ca146d78efbac44d89672e0": {
          "model_module": "@jupyter-widgets/controls",
          "model_name": "HBoxModel",
          "model_module_version": "1.5.0",
          "state": {
            "_dom_classes": [],
            "_model_module": "@jupyter-widgets/controls",
            "_model_module_version": "1.5.0",
            "_model_name": "HBoxModel",
            "_view_count": null,
            "_view_module": "@jupyter-widgets/controls",
            "_view_module_version": "1.5.0",
            "_view_name": "HBoxView",
            "box_style": "",
            "children": [
              "IPY_MODEL_2c8ea9cf25154e75b5ab532d9fc697b0",
              "IPY_MODEL_22b20f7ab90b46108485fd9dec5f1ba8",
              "IPY_MODEL_130d4ced31ff41e4901255b2082e36d4"
            ],
            "layout": "IPY_MODEL_c3b1a55a9c5e474f9d0719dd8a191cde"
          }
        },
        "2c8ea9cf25154e75b5ab532d9fc697b0": {
          "model_module": "@jupyter-widgets/controls",
          "model_name": "HTMLModel",
          "model_module_version": "1.5.0",
          "state": {
            "_dom_classes": [],
            "_model_module": "@jupyter-widgets/controls",
            "_model_module_version": "1.5.0",
            "_model_name": "HTMLModel",
            "_view_count": null,
            "_view_module": "@jupyter-widgets/controls",
            "_view_module_version": "1.5.0",
            "_view_name": "HTMLView",
            "description": "",
            "description_tooltip": null,
            "layout": "IPY_MODEL_8d92a1c09fd44c408a011b41fe095ecd",
            "placeholder": "​",
            "style": "IPY_MODEL_4e2d713aa3b64762808dabc6a599c686",
            "value": "special_tokens_map.json: 100%"
          }
        },
        "22b20f7ab90b46108485fd9dec5f1ba8": {
          "model_module": "@jupyter-widgets/controls",
          "model_name": "FloatProgressModel",
          "model_module_version": "1.5.0",
          "state": {
            "_dom_classes": [],
            "_model_module": "@jupyter-widgets/controls",
            "_model_module_version": "1.5.0",
            "_model_name": "FloatProgressModel",
            "_view_count": null,
            "_view_module": "@jupyter-widgets/controls",
            "_view_module_version": "1.5.0",
            "_view_name": "ProgressView",
            "bar_style": "success",
            "description": "",
            "description_tooltip": null,
            "layout": "IPY_MODEL_9d2439fe6f7c4b658100b172bb17b8de",
            "max": 1830,
            "min": 0,
            "orientation": "horizontal",
            "style": "IPY_MODEL_176197ef4de24e88ae1205c3b7bed841",
            "value": 1830
          }
        },
        "130d4ced31ff41e4901255b2082e36d4": {
          "model_module": "@jupyter-widgets/controls",
          "model_name": "HTMLModel",
          "model_module_version": "1.5.0",
          "state": {
            "_dom_classes": [],
            "_model_module": "@jupyter-widgets/controls",
            "_model_module_version": "1.5.0",
            "_model_name": "HTMLModel",
            "_view_count": null,
            "_view_module": "@jupyter-widgets/controls",
            "_view_module_version": "1.5.0",
            "_view_name": "HTMLView",
            "description": "",
            "description_tooltip": null,
            "layout": "IPY_MODEL_7c7d0a77519f44eb856659c3a71f3c3d",
            "placeholder": "​",
            "style": "IPY_MODEL_48fa85f8c1e54f46a42669f27293bfac",
            "value": " 1.83k/1.83k [00:00&lt;00:00, 31.0kB/s]"
          }
        },
        "c3b1a55a9c5e474f9d0719dd8a191cde": {
          "model_module": "@jupyter-widgets/base",
          "model_name": "LayoutModel",
          "model_module_version": "1.2.0",
          "state": {
            "_model_module": "@jupyter-widgets/base",
            "_model_module_version": "1.2.0",
            "_model_name": "LayoutModel",
            "_view_count": null,
            "_view_module": "@jupyter-widgets/base",
            "_view_module_version": "1.2.0",
            "_view_name": "LayoutView",
            "align_content": null,
            "align_items": null,
            "align_self": null,
            "border": null,
            "bottom": null,
            "display": null,
            "flex": null,
            "flex_flow": null,
            "grid_area": null,
            "grid_auto_columns": null,
            "grid_auto_flow": null,
            "grid_auto_rows": null,
            "grid_column": null,
            "grid_gap": null,
            "grid_row": null,
            "grid_template_areas": null,
            "grid_template_columns": null,
            "grid_template_rows": null,
            "height": null,
            "justify_content": null,
            "justify_items": null,
            "left": null,
            "margin": null,
            "max_height": null,
            "max_width": null,
            "min_height": null,
            "min_width": null,
            "object_fit": null,
            "object_position": null,
            "order": null,
            "overflow": null,
            "overflow_x": null,
            "overflow_y": null,
            "padding": null,
            "right": null,
            "top": null,
            "visibility": null,
            "width": null
          }
        },
        "8d92a1c09fd44c408a011b41fe095ecd": {
          "model_module": "@jupyter-widgets/base",
          "model_name": "LayoutModel",
          "model_module_version": "1.2.0",
          "state": {
            "_model_module": "@jupyter-widgets/base",
            "_model_module_version": "1.2.0",
            "_model_name": "LayoutModel",
            "_view_count": null,
            "_view_module": "@jupyter-widgets/base",
            "_view_module_version": "1.2.0",
            "_view_name": "LayoutView",
            "align_content": null,
            "align_items": null,
            "align_self": null,
            "border": null,
            "bottom": null,
            "display": null,
            "flex": null,
            "flex_flow": null,
            "grid_area": null,
            "grid_auto_columns": null,
            "grid_auto_flow": null,
            "grid_auto_rows": null,
            "grid_column": null,
            "grid_gap": null,
            "grid_row": null,
            "grid_template_areas": null,
            "grid_template_columns": null,
            "grid_template_rows": null,
            "height": null,
            "justify_content": null,
            "justify_items": null,
            "left": null,
            "margin": null,
            "max_height": null,
            "max_width": null,
            "min_height": null,
            "min_width": null,
            "object_fit": null,
            "object_position": null,
            "order": null,
            "overflow": null,
            "overflow_x": null,
            "overflow_y": null,
            "padding": null,
            "right": null,
            "top": null,
            "visibility": null,
            "width": null
          }
        },
        "4e2d713aa3b64762808dabc6a599c686": {
          "model_module": "@jupyter-widgets/controls",
          "model_name": "DescriptionStyleModel",
          "model_module_version": "1.5.0",
          "state": {
            "_model_module": "@jupyter-widgets/controls",
            "_model_module_version": "1.5.0",
            "_model_name": "DescriptionStyleModel",
            "_view_count": null,
            "_view_module": "@jupyter-widgets/base",
            "_view_module_version": "1.2.0",
            "_view_name": "StyleView",
            "description_width": ""
          }
        },
        "9d2439fe6f7c4b658100b172bb17b8de": {
          "model_module": "@jupyter-widgets/base",
          "model_name": "LayoutModel",
          "model_module_version": "1.2.0",
          "state": {
            "_model_module": "@jupyter-widgets/base",
            "_model_module_version": "1.2.0",
            "_model_name": "LayoutModel",
            "_view_count": null,
            "_view_module": "@jupyter-widgets/base",
            "_view_module_version": "1.2.0",
            "_view_name": "LayoutView",
            "align_content": null,
            "align_items": null,
            "align_self": null,
            "border": null,
            "bottom": null,
            "display": null,
            "flex": null,
            "flex_flow": null,
            "grid_area": null,
            "grid_auto_columns": null,
            "grid_auto_flow": null,
            "grid_auto_rows": null,
            "grid_column": null,
            "grid_gap": null,
            "grid_row": null,
            "grid_template_areas": null,
            "grid_template_columns": null,
            "grid_template_rows": null,
            "height": null,
            "justify_content": null,
            "justify_items": null,
            "left": null,
            "margin": null,
            "max_height": null,
            "max_width": null,
            "min_height": null,
            "min_width": null,
            "object_fit": null,
            "object_position": null,
            "order": null,
            "overflow": null,
            "overflow_x": null,
            "overflow_y": null,
            "padding": null,
            "right": null,
            "top": null,
            "visibility": null,
            "width": null
          }
        },
        "176197ef4de24e88ae1205c3b7bed841": {
          "model_module": "@jupyter-widgets/controls",
          "model_name": "ProgressStyleModel",
          "model_module_version": "1.5.0",
          "state": {
            "_model_module": "@jupyter-widgets/controls",
            "_model_module_version": "1.5.0",
            "_model_name": "ProgressStyleModel",
            "_view_count": null,
            "_view_module": "@jupyter-widgets/base",
            "_view_module_version": "1.2.0",
            "_view_name": "StyleView",
            "bar_color": null,
            "description_width": ""
          }
        },
        "7c7d0a77519f44eb856659c3a71f3c3d": {
          "model_module": "@jupyter-widgets/base",
          "model_name": "LayoutModel",
          "model_module_version": "1.2.0",
          "state": {
            "_model_module": "@jupyter-widgets/base",
            "_model_module_version": "1.2.0",
            "_model_name": "LayoutModel",
            "_view_count": null,
            "_view_module": "@jupyter-widgets/base",
            "_view_module_version": "1.2.0",
            "_view_name": "LayoutView",
            "align_content": null,
            "align_items": null,
            "align_self": null,
            "border": null,
            "bottom": null,
            "display": null,
            "flex": null,
            "flex_flow": null,
            "grid_area": null,
            "grid_auto_columns": null,
            "grid_auto_flow": null,
            "grid_auto_rows": null,
            "grid_column": null,
            "grid_gap": null,
            "grid_row": null,
            "grid_template_areas": null,
            "grid_template_columns": null,
            "grid_template_rows": null,
            "height": null,
            "justify_content": null,
            "justify_items": null,
            "left": null,
            "margin": null,
            "max_height": null,
            "max_width": null,
            "min_height": null,
            "min_width": null,
            "object_fit": null,
            "object_position": null,
            "order": null,
            "overflow": null,
            "overflow_x": null,
            "overflow_y": null,
            "padding": null,
            "right": null,
            "top": null,
            "visibility": null,
            "width": null
          }
        },
        "48fa85f8c1e54f46a42669f27293bfac": {
          "model_module": "@jupyter-widgets/controls",
          "model_name": "DescriptionStyleModel",
          "model_module_version": "1.5.0",
          "state": {
            "_model_module": "@jupyter-widgets/controls",
            "_model_module_version": "1.5.0",
            "_model_name": "DescriptionStyleModel",
            "_view_count": null,
            "_view_module": "@jupyter-widgets/base",
            "_view_module_version": "1.2.0",
            "_view_name": "StyleView",
            "description_width": ""
          }
        },
        "8b3191a59b1a49829eb3726554209528": {
          "model_module": "@jupyter-widgets/controls",
          "model_name": "HBoxModel",
          "model_module_version": "1.5.0",
          "state": {
            "_dom_classes": [],
            "_model_module": "@jupyter-widgets/controls",
            "_model_module_version": "1.5.0",
            "_model_name": "HBoxModel",
            "_view_count": null,
            "_view_module": "@jupyter-widgets/controls",
            "_view_module_version": "1.5.0",
            "_view_name": "HBoxView",
            "box_style": "",
            "children": [
              "IPY_MODEL_07139e42b2bd48ddadddb730322a5c7b",
              "IPY_MODEL_d1c037040fac42c9a3fc38ede72d4c31",
              "IPY_MODEL_f7691f41dbcc4248b49c5b03f82448f5"
            ],
            "layout": "IPY_MODEL_832cb317c9fb4a56a3c008b1b38541bb"
          }
        },
        "07139e42b2bd48ddadddb730322a5c7b": {
          "model_module": "@jupyter-widgets/controls",
          "model_name": "HTMLModel",
          "model_module_version": "1.5.0",
          "state": {
            "_dom_classes": [],
            "_model_module": "@jupyter-widgets/controls",
            "_model_module_version": "1.5.0",
            "_model_name": "HTMLModel",
            "_view_count": null,
            "_view_module": "@jupyter-widgets/controls",
            "_view_module_version": "1.5.0",
            "_view_name": "HTMLView",
            "description": "",
            "description_tooltip": null,
            "layout": "IPY_MODEL_68a3a59920c64d6eba73c23e00ab3f78",
            "placeholder": "​",
            "style": "IPY_MODEL_4ae6645613574c03b0c9485b1b2cb2fb",
            "value": "config.json: 100%"
          }
        },
        "d1c037040fac42c9a3fc38ede72d4c31": {
          "model_module": "@jupyter-widgets/controls",
          "model_name": "FloatProgressModel",
          "model_module_version": "1.5.0",
          "state": {
            "_dom_classes": [],
            "_model_module": "@jupyter-widgets/controls",
            "_model_module_version": "1.5.0",
            "_model_name": "FloatProgressModel",
            "_view_count": null,
            "_view_module": "@jupyter-widgets/controls",
            "_view_module_version": "1.5.0",
            "_view_name": "ProgressView",
            "bar_style": "success",
            "description": "",
            "description_tooltip": null,
            "layout": "IPY_MODEL_c0811cce318b494790bdccd9ed9141eb",
            "max": 1937,
            "min": 0,
            "orientation": "horizontal",
            "style": "IPY_MODEL_dc44605027b04b329d00adb50c57f6af",
            "value": 1937
          }
        },
        "f7691f41dbcc4248b49c5b03f82448f5": {
          "model_module": "@jupyter-widgets/controls",
          "model_name": "HTMLModel",
          "model_module_version": "1.5.0",
          "state": {
            "_dom_classes": [],
            "_model_module": "@jupyter-widgets/controls",
            "_model_module_version": "1.5.0",
            "_model_name": "HTMLModel",
            "_view_count": null,
            "_view_module": "@jupyter-widgets/controls",
            "_view_module_version": "1.5.0",
            "_view_name": "HTMLView",
            "description": "",
            "description_tooltip": null,
            "layout": "IPY_MODEL_5ff8da8edb93436f9d2a4e4108ad8c34",
            "placeholder": "​",
            "style": "IPY_MODEL_c8ae2c4bcd4141bba403d71288161252",
            "value": " 1.94k/1.94k [00:00&lt;00:00, 151kB/s]"
          }
        },
        "832cb317c9fb4a56a3c008b1b38541bb": {
          "model_module": "@jupyter-widgets/base",
          "model_name": "LayoutModel",
          "model_module_version": "1.2.0",
          "state": {
            "_model_module": "@jupyter-widgets/base",
            "_model_module_version": "1.2.0",
            "_model_name": "LayoutModel",
            "_view_count": null,
            "_view_module": "@jupyter-widgets/base",
            "_view_module_version": "1.2.0",
            "_view_name": "LayoutView",
            "align_content": null,
            "align_items": null,
            "align_self": null,
            "border": null,
            "bottom": null,
            "display": null,
            "flex": null,
            "flex_flow": null,
            "grid_area": null,
            "grid_auto_columns": null,
            "grid_auto_flow": null,
            "grid_auto_rows": null,
            "grid_column": null,
            "grid_gap": null,
            "grid_row": null,
            "grid_template_areas": null,
            "grid_template_columns": null,
            "grid_template_rows": null,
            "height": null,
            "justify_content": null,
            "justify_items": null,
            "left": null,
            "margin": null,
            "max_height": null,
            "max_width": null,
            "min_height": null,
            "min_width": null,
            "object_fit": null,
            "object_position": null,
            "order": null,
            "overflow": null,
            "overflow_x": null,
            "overflow_y": null,
            "padding": null,
            "right": null,
            "top": null,
            "visibility": null,
            "width": null
          }
        },
        "68a3a59920c64d6eba73c23e00ab3f78": {
          "model_module": "@jupyter-widgets/base",
          "model_name": "LayoutModel",
          "model_module_version": "1.2.0",
          "state": {
            "_model_module": "@jupyter-widgets/base",
            "_model_module_version": "1.2.0",
            "_model_name": "LayoutModel",
            "_view_count": null,
            "_view_module": "@jupyter-widgets/base",
            "_view_module_version": "1.2.0",
            "_view_name": "LayoutView",
            "align_content": null,
            "align_items": null,
            "align_self": null,
            "border": null,
            "bottom": null,
            "display": null,
            "flex": null,
            "flex_flow": null,
            "grid_area": null,
            "grid_auto_columns": null,
            "grid_auto_flow": null,
            "grid_auto_rows": null,
            "grid_column": null,
            "grid_gap": null,
            "grid_row": null,
            "grid_template_areas": null,
            "grid_template_columns": null,
            "grid_template_rows": null,
            "height": null,
            "justify_content": null,
            "justify_items": null,
            "left": null,
            "margin": null,
            "max_height": null,
            "max_width": null,
            "min_height": null,
            "min_width": null,
            "object_fit": null,
            "object_position": null,
            "order": null,
            "overflow": null,
            "overflow_x": null,
            "overflow_y": null,
            "padding": null,
            "right": null,
            "top": null,
            "visibility": null,
            "width": null
          }
        },
        "4ae6645613574c03b0c9485b1b2cb2fb": {
          "model_module": "@jupyter-widgets/controls",
          "model_name": "DescriptionStyleModel",
          "model_module_version": "1.5.0",
          "state": {
            "_model_module": "@jupyter-widgets/controls",
            "_model_module_version": "1.5.0",
            "_model_name": "DescriptionStyleModel",
            "_view_count": null,
            "_view_module": "@jupyter-widgets/base",
            "_view_module_version": "1.2.0",
            "_view_name": "StyleView",
            "description_width": ""
          }
        },
        "c0811cce318b494790bdccd9ed9141eb": {
          "model_module": "@jupyter-widgets/base",
          "model_name": "LayoutModel",
          "model_module_version": "1.2.0",
          "state": {
            "_model_module": "@jupyter-widgets/base",
            "_model_module_version": "1.2.0",
            "_model_name": "LayoutModel",
            "_view_count": null,
            "_view_module": "@jupyter-widgets/base",
            "_view_module_version": "1.2.0",
            "_view_name": "LayoutView",
            "align_content": null,
            "align_items": null,
            "align_self": null,
            "border": null,
            "bottom": null,
            "display": null,
            "flex": null,
            "flex_flow": null,
            "grid_area": null,
            "grid_auto_columns": null,
            "grid_auto_flow": null,
            "grid_auto_rows": null,
            "grid_column": null,
            "grid_gap": null,
            "grid_row": null,
            "grid_template_areas": null,
            "grid_template_columns": null,
            "grid_template_rows": null,
            "height": null,
            "justify_content": null,
            "justify_items": null,
            "left": null,
            "margin": null,
            "max_height": null,
            "max_width": null,
            "min_height": null,
            "min_width": null,
            "object_fit": null,
            "object_position": null,
            "order": null,
            "overflow": null,
            "overflow_x": null,
            "overflow_y": null,
            "padding": null,
            "right": null,
            "top": null,
            "visibility": null,
            "width": null
          }
        },
        "dc44605027b04b329d00adb50c57f6af": {
          "model_module": "@jupyter-widgets/controls",
          "model_name": "ProgressStyleModel",
          "model_module_version": "1.5.0",
          "state": {
            "_model_module": "@jupyter-widgets/controls",
            "_model_module_version": "1.5.0",
            "_model_name": "ProgressStyleModel",
            "_view_count": null,
            "_view_module": "@jupyter-widgets/base",
            "_view_module_version": "1.2.0",
            "_view_name": "StyleView",
            "bar_color": null,
            "description_width": ""
          }
        },
        "5ff8da8edb93436f9d2a4e4108ad8c34": {
          "model_module": "@jupyter-widgets/base",
          "model_name": "LayoutModel",
          "model_module_version": "1.2.0",
          "state": {
            "_model_module": "@jupyter-widgets/base",
            "_model_module_version": "1.2.0",
            "_model_name": "LayoutModel",
            "_view_count": null,
            "_view_module": "@jupyter-widgets/base",
            "_view_module_version": "1.2.0",
            "_view_name": "LayoutView",
            "align_content": null,
            "align_items": null,
            "align_self": null,
            "border": null,
            "bottom": null,
            "display": null,
            "flex": null,
            "flex_flow": null,
            "grid_area": null,
            "grid_auto_columns": null,
            "grid_auto_flow": null,
            "grid_auto_rows": null,
            "grid_column": null,
            "grid_gap": null,
            "grid_row": null,
            "grid_template_areas": null,
            "grid_template_columns": null,
            "grid_template_rows": null,
            "height": null,
            "justify_content": null,
            "justify_items": null,
            "left": null,
            "margin": null,
            "max_height": null,
            "max_width": null,
            "min_height": null,
            "min_width": null,
            "object_fit": null,
            "object_position": null,
            "order": null,
            "overflow": null,
            "overflow_x": null,
            "overflow_y": null,
            "padding": null,
            "right": null,
            "top": null,
            "visibility": null,
            "width": null
          }
        },
        "c8ae2c4bcd4141bba403d71288161252": {
          "model_module": "@jupyter-widgets/controls",
          "model_name": "DescriptionStyleModel",
          "model_module_version": "1.5.0",
          "state": {
            "_model_module": "@jupyter-widgets/controls",
            "_model_module_version": "1.5.0",
            "_model_name": "DescriptionStyleModel",
            "_view_count": null,
            "_view_module": "@jupyter-widgets/base",
            "_view_module_version": "1.2.0",
            "_view_name": "StyleView",
            "description_width": ""
          }
        },
        "95dc288dda6f4372b0d58dbd12ede15f": {
          "model_module": "@jupyter-widgets/controls",
          "model_name": "HBoxModel",
          "model_module_version": "1.5.0",
          "state": {
            "_dom_classes": [],
            "_model_module": "@jupyter-widgets/controls",
            "_model_module_version": "1.5.0",
            "_model_name": "HBoxModel",
            "_view_count": null,
            "_view_module": "@jupyter-widgets/controls",
            "_view_module_version": "1.5.0",
            "_view_name": "HBoxView",
            "box_style": "",
            "children": [
              "IPY_MODEL_6d30a2dd99da4fc99d89ddf3e4021217",
              "IPY_MODEL_55ad0ecd0f1a47a9af15f64d4d3fa646",
              "IPY_MODEL_007bf0b15c8e43678ecba4543ada3fd2"
            ],
            "layout": "IPY_MODEL_d6bb93863a1e47ae8f96a78125351044"
          }
        },
        "6d30a2dd99da4fc99d89ddf3e4021217": {
          "model_module": "@jupyter-widgets/controls",
          "model_name": "HTMLModel",
          "model_module_version": "1.5.0",
          "state": {
            "_dom_classes": [],
            "_model_module": "@jupyter-widgets/controls",
            "_model_module_version": "1.5.0",
            "_model_name": "HTMLModel",
            "_view_count": null,
            "_view_module": "@jupyter-widgets/controls",
            "_view_module_version": "1.5.0",
            "_view_name": "HTMLView",
            "description": "",
            "description_tooltip": null,
            "layout": "IPY_MODEL_3704d52f852e42ab9af9a57dce7a8c8e",
            "placeholder": "​",
            "style": "IPY_MODEL_220854cfba354df6bfcf7f4e35eea200",
            "value": "model.safetensors: 100%"
          }
        },
        "55ad0ecd0f1a47a9af15f64d4d3fa646": {
          "model_module": "@jupyter-widgets/controls",
          "model_name": "FloatProgressModel",
          "model_module_version": "1.5.0",
          "state": {
            "_dom_classes": [],
            "_model_module": "@jupyter-widgets/controls",
            "_model_module_version": "1.5.0",
            "_model_name": "FloatProgressModel",
            "_view_count": null,
            "_view_module": "@jupyter-widgets/controls",
            "_view_module_version": "1.5.0",
            "_view_name": "ProgressView",
            "bar_style": "success",
            "description": "",
            "description_tooltip": null,
            "layout": "IPY_MODEL_b242f1575efc4ee196f052961826cba2",
            "max": 151060136,
            "min": 0,
            "orientation": "horizontal",
            "style": "IPY_MODEL_b567991168f8417087ac3700f4fc7888",
            "value": 151060136
          }
        },
        "007bf0b15c8e43678ecba4543ada3fd2": {
          "model_module": "@jupyter-widgets/controls",
          "model_name": "HTMLModel",
          "model_module_version": "1.5.0",
          "state": {
            "_dom_classes": [],
            "_model_module": "@jupyter-widgets/controls",
            "_model_module_version": "1.5.0",
            "_model_name": "HTMLModel",
            "_view_count": null,
            "_view_module": "@jupyter-widgets/controls",
            "_view_module_version": "1.5.0",
            "_view_name": "HTMLView",
            "description": "",
            "description_tooltip": null,
            "layout": "IPY_MODEL_a2da32dcbab94dffb2f2afaabaa8b62d",
            "placeholder": "​",
            "style": "IPY_MODEL_b8936d60252447a78f67541859352c9f",
            "value": " 151M/151M [00:01&lt;00:00, 147MB/s]"
          }
        },
        "d6bb93863a1e47ae8f96a78125351044": {
          "model_module": "@jupyter-widgets/base",
          "model_name": "LayoutModel",
          "model_module_version": "1.2.0",
          "state": {
            "_model_module": "@jupyter-widgets/base",
            "_model_module_version": "1.2.0",
            "_model_name": "LayoutModel",
            "_view_count": null,
            "_view_module": "@jupyter-widgets/base",
            "_view_module_version": "1.2.0",
            "_view_name": "LayoutView",
            "align_content": null,
            "align_items": null,
            "align_self": null,
            "border": null,
            "bottom": null,
            "display": null,
            "flex": null,
            "flex_flow": null,
            "grid_area": null,
            "grid_auto_columns": null,
            "grid_auto_flow": null,
            "grid_auto_rows": null,
            "grid_column": null,
            "grid_gap": null,
            "grid_row": null,
            "grid_template_areas": null,
            "grid_template_columns": null,
            "grid_template_rows": null,
            "height": null,
            "justify_content": null,
            "justify_items": null,
            "left": null,
            "margin": null,
            "max_height": null,
            "max_width": null,
            "min_height": null,
            "min_width": null,
            "object_fit": null,
            "object_position": null,
            "order": null,
            "overflow": null,
            "overflow_x": null,
            "overflow_y": null,
            "padding": null,
            "right": null,
            "top": null,
            "visibility": null,
            "width": null
          }
        },
        "3704d52f852e42ab9af9a57dce7a8c8e": {
          "model_module": "@jupyter-widgets/base",
          "model_name": "LayoutModel",
          "model_module_version": "1.2.0",
          "state": {
            "_model_module": "@jupyter-widgets/base",
            "_model_module_version": "1.2.0",
            "_model_name": "LayoutModel",
            "_view_count": null,
            "_view_module": "@jupyter-widgets/base",
            "_view_module_version": "1.2.0",
            "_view_name": "LayoutView",
            "align_content": null,
            "align_items": null,
            "align_self": null,
            "border": null,
            "bottom": null,
            "display": null,
            "flex": null,
            "flex_flow": null,
            "grid_area": null,
            "grid_auto_columns": null,
            "grid_auto_flow": null,
            "grid_auto_rows": null,
            "grid_column": null,
            "grid_gap": null,
            "grid_row": null,
            "grid_template_areas": null,
            "grid_template_columns": null,
            "grid_template_rows": null,
            "height": null,
            "justify_content": null,
            "justify_items": null,
            "left": null,
            "margin": null,
            "max_height": null,
            "max_width": null,
            "min_height": null,
            "min_width": null,
            "object_fit": null,
            "object_position": null,
            "order": null,
            "overflow": null,
            "overflow_x": null,
            "overflow_y": null,
            "padding": null,
            "right": null,
            "top": null,
            "visibility": null,
            "width": null
          }
        },
        "220854cfba354df6bfcf7f4e35eea200": {
          "model_module": "@jupyter-widgets/controls",
          "model_name": "DescriptionStyleModel",
          "model_module_version": "1.5.0",
          "state": {
            "_model_module": "@jupyter-widgets/controls",
            "_model_module_version": "1.5.0",
            "_model_name": "DescriptionStyleModel",
            "_view_count": null,
            "_view_module": "@jupyter-widgets/base",
            "_view_module_version": "1.2.0",
            "_view_name": "StyleView",
            "description_width": ""
          }
        },
        "b242f1575efc4ee196f052961826cba2": {
          "model_module": "@jupyter-widgets/base",
          "model_name": "LayoutModel",
          "model_module_version": "1.2.0",
          "state": {
            "_model_module": "@jupyter-widgets/base",
            "_model_module_version": "1.2.0",
            "_model_name": "LayoutModel",
            "_view_count": null,
            "_view_module": "@jupyter-widgets/base",
            "_view_module_version": "1.2.0",
            "_view_name": "LayoutView",
            "align_content": null,
            "align_items": null,
            "align_self": null,
            "border": null,
            "bottom": null,
            "display": null,
            "flex": null,
            "flex_flow": null,
            "grid_area": null,
            "grid_auto_columns": null,
            "grid_auto_flow": null,
            "grid_auto_rows": null,
            "grid_column": null,
            "grid_gap": null,
            "grid_row": null,
            "grid_template_areas": null,
            "grid_template_columns": null,
            "grid_template_rows": null,
            "height": null,
            "justify_content": null,
            "justify_items": null,
            "left": null,
            "margin": null,
            "max_height": null,
            "max_width": null,
            "min_height": null,
            "min_width": null,
            "object_fit": null,
            "object_position": null,
            "order": null,
            "overflow": null,
            "overflow_x": null,
            "overflow_y": null,
            "padding": null,
            "right": null,
            "top": null,
            "visibility": null,
            "width": null
          }
        },
        "b567991168f8417087ac3700f4fc7888": {
          "model_module": "@jupyter-widgets/controls",
          "model_name": "ProgressStyleModel",
          "model_module_version": "1.5.0",
          "state": {
            "_model_module": "@jupyter-widgets/controls",
            "_model_module_version": "1.5.0",
            "_model_name": "ProgressStyleModel",
            "_view_count": null,
            "_view_module": "@jupyter-widgets/base",
            "_view_module_version": "1.2.0",
            "_view_name": "StyleView",
            "bar_color": null,
            "description_width": ""
          }
        },
        "a2da32dcbab94dffb2f2afaabaa8b62d": {
          "model_module": "@jupyter-widgets/base",
          "model_name": "LayoutModel",
          "model_module_version": "1.2.0",
          "state": {
            "_model_module": "@jupyter-widgets/base",
            "_model_module_version": "1.2.0",
            "_model_name": "LayoutModel",
            "_view_count": null,
            "_view_module": "@jupyter-widgets/base",
            "_view_module_version": "1.2.0",
            "_view_name": "LayoutView",
            "align_content": null,
            "align_items": null,
            "align_self": null,
            "border": null,
            "bottom": null,
            "display": null,
            "flex": null,
            "flex_flow": null,
            "grid_area": null,
            "grid_auto_columns": null,
            "grid_auto_flow": null,
            "grid_auto_rows": null,
            "grid_column": null,
            "grid_gap": null,
            "grid_row": null,
            "grid_template_areas": null,
            "grid_template_columns": null,
            "grid_template_rows": null,
            "height": null,
            "justify_content": null,
            "justify_items": null,
            "left": null,
            "margin": null,
            "max_height": null,
            "max_width": null,
            "min_height": null,
            "min_width": null,
            "object_fit": null,
            "object_position": null,
            "order": null,
            "overflow": null,
            "overflow_x": null,
            "overflow_y": null,
            "padding": null,
            "right": null,
            "top": null,
            "visibility": null,
            "width": null
          }
        },
        "b8936d60252447a78f67541859352c9f": {
          "model_module": "@jupyter-widgets/controls",
          "model_name": "DescriptionStyleModel",
          "model_module_version": "1.5.0",
          "state": {
            "_model_module": "@jupyter-widgets/controls",
            "_model_module_version": "1.5.0",
            "_model_name": "DescriptionStyleModel",
            "_view_count": null,
            "_view_module": "@jupyter-widgets/base",
            "_view_module_version": "1.2.0",
            "_view_name": "StyleView",
            "description_width": ""
          }
        },
        "3166f9392faf4b03804f0c55fd140c5c": {
          "model_module": "@jupyter-widgets/controls",
          "model_name": "HBoxModel",
          "model_module_version": "1.5.0",
          "state": {
            "_dom_classes": [],
            "_model_module": "@jupyter-widgets/controls",
            "_model_module_version": "1.5.0",
            "_model_name": "HBoxModel",
            "_view_count": null,
            "_view_module": "@jupyter-widgets/controls",
            "_view_module_version": "1.5.0",
            "_view_name": "HBoxView",
            "box_style": "",
            "children": [
              "IPY_MODEL_d20328ffd0af440b9be2703c9d185f4b",
              "IPY_MODEL_43632c97584244ec96b3b4db1e07143b",
              "IPY_MODEL_cc3bc9879f434002838dff3ce81e8218"
            ],
            "layout": "IPY_MODEL_51b944e62b5f44528691213c7d9b830c"
          }
        },
        "d20328ffd0af440b9be2703c9d185f4b": {
          "model_module": "@jupyter-widgets/controls",
          "model_name": "HTMLModel",
          "model_module_version": "1.5.0",
          "state": {
            "_dom_classes": [],
            "_model_module": "@jupyter-widgets/controls",
            "_model_module_version": "1.5.0",
            "_model_name": "HTMLModel",
            "_view_count": null,
            "_view_module": "@jupyter-widgets/controls",
            "_view_module_version": "1.5.0",
            "_view_name": "HTMLView",
            "description": "",
            "description_tooltip": null,
            "layout": "IPY_MODEL_eacbec11d2ed49ffbd7e834d2fa402e0",
            "placeholder": "​",
            "style": "IPY_MODEL_16b69e0877d045bea5073837ac3c0cc1",
            "value": "generation_config.json: 100%"
          }
        },
        "43632c97584244ec96b3b4db1e07143b": {
          "model_module": "@jupyter-widgets/controls",
          "model_name": "FloatProgressModel",
          "model_module_version": "1.5.0",
          "state": {
            "_dom_classes": [],
            "_model_module": "@jupyter-widgets/controls",
            "_model_module_version": "1.5.0",
            "_model_name": "FloatProgressModel",
            "_view_count": null,
            "_view_module": "@jupyter-widgets/controls",
            "_view_module_version": "1.5.0",
            "_view_name": "ProgressView",
            "bar_style": "success",
            "description": "",
            "description_tooltip": null,
            "layout": "IPY_MODEL_061f84e6f486442da1ac773468e68a80",
            "max": 1621,
            "min": 0,
            "orientation": "horizontal",
            "style": "IPY_MODEL_30f50dbf7b104cfc93dfd9700e05cf52",
            "value": 1621
          }
        },
        "cc3bc9879f434002838dff3ce81e8218": {
          "model_module": "@jupyter-widgets/controls",
          "model_name": "HTMLModel",
          "model_module_version": "1.5.0",
          "state": {
            "_dom_classes": [],
            "_model_module": "@jupyter-widgets/controls",
            "_model_module_version": "1.5.0",
            "_model_name": "HTMLModel",
            "_view_count": null,
            "_view_module": "@jupyter-widgets/controls",
            "_view_module_version": "1.5.0",
            "_view_name": "HTMLView",
            "description": "",
            "description_tooltip": null,
            "layout": "IPY_MODEL_893dad34840f4b7c9c2243c5d03391f8",
            "placeholder": "​",
            "style": "IPY_MODEL_a64e728410f84fc2849edda73c72788c",
            "value": " 1.62k/1.62k [00:00&lt;00:00, 88.7kB/s]"
          }
        },
        "51b944e62b5f44528691213c7d9b830c": {
          "model_module": "@jupyter-widgets/base",
          "model_name": "LayoutModel",
          "model_module_version": "1.2.0",
          "state": {
            "_model_module": "@jupyter-widgets/base",
            "_model_module_version": "1.2.0",
            "_model_name": "LayoutModel",
            "_view_count": null,
            "_view_module": "@jupyter-widgets/base",
            "_view_module_version": "1.2.0",
            "_view_name": "LayoutView",
            "align_content": null,
            "align_items": null,
            "align_self": null,
            "border": null,
            "bottom": null,
            "display": null,
            "flex": null,
            "flex_flow": null,
            "grid_area": null,
            "grid_auto_columns": null,
            "grid_auto_flow": null,
            "grid_auto_rows": null,
            "grid_column": null,
            "grid_gap": null,
            "grid_row": null,
            "grid_template_areas": null,
            "grid_template_columns": null,
            "grid_template_rows": null,
            "height": null,
            "justify_content": null,
            "justify_items": null,
            "left": null,
            "margin": null,
            "max_height": null,
            "max_width": null,
            "min_height": null,
            "min_width": null,
            "object_fit": null,
            "object_position": null,
            "order": null,
            "overflow": null,
            "overflow_x": null,
            "overflow_y": null,
            "padding": null,
            "right": null,
            "top": null,
            "visibility": null,
            "width": null
          }
        },
        "eacbec11d2ed49ffbd7e834d2fa402e0": {
          "model_module": "@jupyter-widgets/base",
          "model_name": "LayoutModel",
          "model_module_version": "1.2.0",
          "state": {
            "_model_module": "@jupyter-widgets/base",
            "_model_module_version": "1.2.0",
            "_model_name": "LayoutModel",
            "_view_count": null,
            "_view_module": "@jupyter-widgets/base",
            "_view_module_version": "1.2.0",
            "_view_name": "LayoutView",
            "align_content": null,
            "align_items": null,
            "align_self": null,
            "border": null,
            "bottom": null,
            "display": null,
            "flex": null,
            "flex_flow": null,
            "grid_area": null,
            "grid_auto_columns": null,
            "grid_auto_flow": null,
            "grid_auto_rows": null,
            "grid_column": null,
            "grid_gap": null,
            "grid_row": null,
            "grid_template_areas": null,
            "grid_template_columns": null,
            "grid_template_rows": null,
            "height": null,
            "justify_content": null,
            "justify_items": null,
            "left": null,
            "margin": null,
            "max_height": null,
            "max_width": null,
            "min_height": null,
            "min_width": null,
            "object_fit": null,
            "object_position": null,
            "order": null,
            "overflow": null,
            "overflow_x": null,
            "overflow_y": null,
            "padding": null,
            "right": null,
            "top": null,
            "visibility": null,
            "width": null
          }
        },
        "16b69e0877d045bea5073837ac3c0cc1": {
          "model_module": "@jupyter-widgets/controls",
          "model_name": "DescriptionStyleModel",
          "model_module_version": "1.5.0",
          "state": {
            "_model_module": "@jupyter-widgets/controls",
            "_model_module_version": "1.5.0",
            "_model_name": "DescriptionStyleModel",
            "_view_count": null,
            "_view_module": "@jupyter-widgets/base",
            "_view_module_version": "1.2.0",
            "_view_name": "StyleView",
            "description_width": ""
          }
        },
        "061f84e6f486442da1ac773468e68a80": {
          "model_module": "@jupyter-widgets/base",
          "model_name": "LayoutModel",
          "model_module_version": "1.2.0",
          "state": {
            "_model_module": "@jupyter-widgets/base",
            "_model_module_version": "1.2.0",
            "_model_name": "LayoutModel",
            "_view_count": null,
            "_view_module": "@jupyter-widgets/base",
            "_view_module_version": "1.2.0",
            "_view_name": "LayoutView",
            "align_content": null,
            "align_items": null,
            "align_self": null,
            "border": null,
            "bottom": null,
            "display": null,
            "flex": null,
            "flex_flow": null,
            "grid_area": null,
            "grid_auto_columns": null,
            "grid_auto_flow": null,
            "grid_auto_rows": null,
            "grid_column": null,
            "grid_gap": null,
            "grid_row": null,
            "grid_template_areas": null,
            "grid_template_columns": null,
            "grid_template_rows": null,
            "height": null,
            "justify_content": null,
            "justify_items": null,
            "left": null,
            "margin": null,
            "max_height": null,
            "max_width": null,
            "min_height": null,
            "min_width": null,
            "object_fit": null,
            "object_position": null,
            "order": null,
            "overflow": null,
            "overflow_x": null,
            "overflow_y": null,
            "padding": null,
            "right": null,
            "top": null,
            "visibility": null,
            "width": null
          }
        },
        "30f50dbf7b104cfc93dfd9700e05cf52": {
          "model_module": "@jupyter-widgets/controls",
          "model_name": "ProgressStyleModel",
          "model_module_version": "1.5.0",
          "state": {
            "_model_module": "@jupyter-widgets/controls",
            "_model_module_version": "1.5.0",
            "_model_name": "ProgressStyleModel",
            "_view_count": null,
            "_view_module": "@jupyter-widgets/base",
            "_view_module_version": "1.2.0",
            "_view_name": "StyleView",
            "bar_color": null,
            "description_width": ""
          }
        },
        "893dad34840f4b7c9c2243c5d03391f8": {
          "model_module": "@jupyter-widgets/base",
          "model_name": "LayoutModel",
          "model_module_version": "1.2.0",
          "state": {
            "_model_module": "@jupyter-widgets/base",
            "_model_module_version": "1.2.0",
            "_model_name": "LayoutModel",
            "_view_count": null,
            "_view_module": "@jupyter-widgets/base",
            "_view_module_version": "1.2.0",
            "_view_name": "LayoutView",
            "align_content": null,
            "align_items": null,
            "align_self": null,
            "border": null,
            "bottom": null,
            "display": null,
            "flex": null,
            "flex_flow": null,
            "grid_area": null,
            "grid_auto_columns": null,
            "grid_auto_flow": null,
            "grid_auto_rows": null,
            "grid_column": null,
            "grid_gap": null,
            "grid_row": null,
            "grid_template_areas": null,
            "grid_template_columns": null,
            "grid_template_rows": null,
            "height": null,
            "justify_content": null,
            "justify_items": null,
            "left": null,
            "margin": null,
            "max_height": null,
            "max_width": null,
            "min_height": null,
            "min_width": null,
            "object_fit": null,
            "object_position": null,
            "order": null,
            "overflow": null,
            "overflow_x": null,
            "overflow_y": null,
            "padding": null,
            "right": null,
            "top": null,
            "visibility": null,
            "width": null
          }
        },
        "a64e728410f84fc2849edda73c72788c": {
          "model_module": "@jupyter-widgets/controls",
          "model_name": "DescriptionStyleModel",
          "model_module_version": "1.5.0",
          "state": {
            "_model_module": "@jupyter-widgets/controls",
            "_model_module_version": "1.5.0",
            "_model_name": "DescriptionStyleModel",
            "_view_count": null,
            "_view_module": "@jupyter-widgets/base",
            "_view_module_version": "1.2.0",
            "_view_name": "StyleView",
            "description_width": ""
          }
        }
      }
    }
  },
  "cells": [
    {
      "cell_type": "code",
      "execution_count": 1,
      "metadata": {
        "colab": {
          "base_uri": "https://localhost:8080/"
        },
        "id": "7hnNzqkiQmAr",
        "outputId": "138bd4f9-9b18-444b-942e-6eb310f765d4"
      },
      "outputs": [
        {
          "output_type": "stream",
          "name": "stdout",
          "text": [
            "  Installing build dependencies ... \u001b[?25l\u001b[?25hdone\n",
            "  Getting requirements to build wheel ... \u001b[?25l\u001b[?25hdone\n",
            "  Preparing metadata (pyproject.toml) ... \u001b[?25l\u001b[?25hdone\n",
            "\u001b[2K   \u001b[90m━━━━━━━━━━━━━━━━━━━━━━━━━━━━━━━━━━━━━━━━\u001b[0m \u001b[32m3.0/3.0 MB\u001b[0m \u001b[31m33.0 MB/s\u001b[0m eta \u001b[36m0:00:00\u001b[0m\n",
            "\u001b[?25h  Building wheel for transformers (pyproject.toml) ... \u001b[?25l\u001b[?25hdone\n"
          ]
        }
      ],
      "source": [
        "!pip install --q git+https://github.com/huggingface/transformers.git"
      ]
    },
    {
      "cell_type": "code",
      "source": [
        "!pip install --q evaluate jiwer datasets[audio] librosa langchain langchain-community langchain-core langchain-huggingface"
      ],
      "metadata": {
        "colab": {
          "base_uri": "https://localhost:8080/"
        },
        "id": "8lGr1Z70Q4c8",
        "outputId": "f09efbbd-fc0f-4f42-8a92-c3e96a87e8da"
      },
      "execution_count": 20,
      "outputs": [
        {
          "output_type": "stream",
          "name": "stdout",
          "text": [
            "\u001b[?25l   \u001b[90m━━━━━━━━━━━━━━━━━━━━━━━━━━━━━━━━━━━━━━━━\u001b[0m \u001b[32m0.0/255.8 kB\u001b[0m \u001b[31m?\u001b[0m eta \u001b[36m-:--:--\u001b[0m\r\u001b[2K   \u001b[91m━━━━━━━━━━━━━━━━━━━━━━━━━━━━━━━━━━━━━━\u001b[0m\u001b[90m╺\u001b[0m\u001b[90m━\u001b[0m \u001b[32m245.8/255.8 kB\u001b[0m \u001b[31m10.2 MB/s\u001b[0m eta \u001b[36m0:00:01\u001b[0m\r\u001b[2K   \u001b[90m━━━━━━━━━━━━━━━━━━━━━━━━━━━━━━━━━━━━━━━━\u001b[0m \u001b[32m255.8/255.8 kB\u001b[0m \u001b[31m6.8 MB/s\u001b[0m eta \u001b[36m0:00:00\u001b[0m\n",
            "\u001b[?25h"
          ]
        }
      ]
    },
    {
      "cell_type": "code",
      "source": [
        "from google.colab import userdata\n",
        "import torch, os\n",
        "\n",
        "HF_TOKEN = userdata.get('HF_TOKEN')\n",
        "os.environ['HUGGINGFACEHUB_API_TOKEN'] = HF_TOKEN\n",
        "DEVICE = \"cuda\" if torch.cuda.is_available() else \"cpu\"\n",
        "DEVICE"
      ],
      "metadata": {
        "colab": {
          "base_uri": "https://localhost:8080/",
          "height": 36
        },
        "id": "qQKIMNnG0Z0n",
        "outputId": "c7fc594a-a440-4d76-e288-aa0802066fa5"
      },
      "execution_count": 4,
      "outputs": [
        {
          "output_type": "execute_result",
          "data": {
            "text/plain": [
              "'cuda'"
            ],
            "application/vnd.google.colaboratory.intrinsic+json": {
              "type": "string"
            }
          },
          "metadata": {},
          "execution_count": 4
        }
      ]
    },
    {
      "cell_type": "code",
      "source": [
        "from datasets import load_dataset\n",
        "\n",
        "dataset = load_dataset(\"lmms-lab/librispeech\", \"librispeech_test_clean\", revision='0ea039d2ced2e10e9961db299c5b9ef31034cbd7', split='librispeech_test_clean[0:150]')"
      ],
      "metadata": {
        "colab": {
          "base_uri": "https://localhost:8080/",
          "height": 145,
          "referenced_widgets": [
            "802bafb1cc5b4a4e85e067922eb21e84",
            "25fcd7f6f6f841a29da016b9c1de55b3",
            "88481aed0dc048f5af99dbd2e367a530",
            "e3dedf3f737344c3878709038ad31bd1",
            "c8dd9653729f464096cad534a113fbca",
            "af64c7538b3a43f0beda32fd5570b861",
            "7717d98a6828403a8ebc705f28d95a4a",
            "8ca34dd5220a4f31b0277a8735eb4a25",
            "8886133630f5464dac434d429c48df99",
            "6aeb193673004a1695cb90f63a3d4d64",
            "5aa7a42224b34f0ab3d905e39a6fb167",
            "408233a8657c494480dc03add691e22d",
            "7d2b1257fcbe41559b3c0c8d1fdeabd7",
            "dc3fe444fa39410a954a0682edd44fbd",
            "f9a8d88dd5d94b188bdcb8b3919b6e1c",
            "d50040a9357d4441bd9ae60b64618945",
            "ababc05d3d9e4ff1ace369d128a99200",
            "2aff0a21eda348f29935779117f6a245",
            "afaacb15fad24632b1c606db1af4e50a",
            "645ba8e5c3434fc1b577dfee9118ea11",
            "a8370fbd0e0f4db79eca9294a722b1dd",
            "73cb619098ca4e05851c03a5b55f6af0",
            "50c64ba3d2394a43b89271f6fac9d699",
            "bcf58b187a9745b0938d57493414ebcf",
            "b1b125741c7f41ce9b69139f1caa1ff0",
            "eba8557d4f3e4cf89b804f9985e42268",
            "b2521c5daa304ea998a615ffc44f7808",
            "0514bd73eace4d93ab215734f3eeb314",
            "08e63eab79224662a5ab22afd4e8b44f",
            "09bbe86bf0f34c6ea2a926366e3e7dee",
            "e83d976dc78d49d888b9929f36f173d8",
            "336eb98b927c4ef6a84fbddf0e275ae9",
            "06ca7f063bff450c9059703dfdc3dc0e",
            "10b01eabefb84477818c6572f7ebc1d6",
            "cb126bfc8bb14f8989fa72b4fd9c6700",
            "16922b40fd4b409e821e4823768a852a",
            "444c8586c59d43f6931b1a2b544d44d7",
            "8b10a170979947ac97501ecab6262230",
            "4f12767ca5714fe4981196112d3f4cb5",
            "4aa7c696564245d5948930950b12cc35",
            "53e7b35b57fc478fae1b6a4f8638d0f2",
            "bf442348e137458b8099a7ad61fff69f",
            "3f82f513423e4949af3ea5e018cc9150",
            "b22409afab924d2fa23cad44c1f31a73"
          ]
        },
        "id": "0om4kDaPRWQx",
        "outputId": "55dc1ab3-df54-45b7-eaa7-51b99b5a711f"
      },
      "execution_count": 5,
      "outputs": [
        {
          "output_type": "display_data",
          "data": {
            "text/plain": [
              "README.md:   0%|          | 0.00/2.19k [00:00<?, ?B/s]"
            ],
            "application/vnd.jupyter.widget-view+json": {
              "version_major": 2,
              "version_minor": 0,
              "model_id": "802bafb1cc5b4a4e85e067922eb21e84"
            }
          },
          "metadata": {}
        },
        {
          "output_type": "display_data",
          "data": {
            "text/plain": [
              "(…)speech_test_clean-00000-of-00002.parquet:   0%|          | 0.00/312M [00:00<?, ?B/s]"
            ],
            "application/vnd.jupyter.widget-view+json": {
              "version_major": 2,
              "version_minor": 0,
              "model_id": "408233a8657c494480dc03add691e22d"
            }
          },
          "metadata": {}
        },
        {
          "output_type": "display_data",
          "data": {
            "text/plain": [
              "(…)speech_test_clean-00001-of-00002.parquet:   0%|          | 0.00/301M [00:00<?, ?B/s]"
            ],
            "application/vnd.jupyter.widget-view+json": {
              "version_major": 2,
              "version_minor": 0,
              "model_id": "50c64ba3d2394a43b89271f6fac9d699"
            }
          },
          "metadata": {}
        },
        {
          "output_type": "display_data",
          "data": {
            "text/plain": [
              "Generating librispeech_test_clean split:   0%|          | 0/2620 [00:00<?, ? examples/s]"
            ],
            "application/vnd.jupyter.widget-view+json": {
              "version_major": 2,
              "version_minor": 0,
              "model_id": "10b01eabefb84477818c6572f7ebc1d6"
            }
          },
          "metadata": {}
        }
      ]
    },
    {
      "cell_type": "code",
      "source": [
        "dataset"
      ],
      "metadata": {
        "colab": {
          "base_uri": "https://localhost:8080/"
        },
        "id": "XjDZnRqvRlVe",
        "outputId": "168591db-ea02-4d95-8f48-c985efa6dc7b"
      },
      "execution_count": 6,
      "outputs": [
        {
          "output_type": "execute_result",
          "data": {
            "text/plain": [
              "Dataset({\n",
              "    features: ['audio', 'gt', 'prompt', 'source', 'task'],\n",
              "    num_rows: 150\n",
              "})"
            ]
          },
          "metadata": {},
          "execution_count": 6
        }
      ]
    },
    {
      "cell_type": "code",
      "source": [
        "# sample\n",
        "from IPython.display import Audio\n",
        "\n",
        "sample = dataset[1]\n",
        "audio_sample = sample['audio']\n",
        "audio_transcription = sample['gt']\n",
        "\n",
        "original_sr = audio_sample['sampling_rate']\n",
        "original_sr"
      ],
      "metadata": {
        "colab": {
          "base_uri": "https://localhost:8080/"
        },
        "id": "rpiOWKs3RwXE",
        "outputId": "e4d91734-35ce-40bd-923c-2cadc658389d"
      },
      "execution_count": 55,
      "outputs": [
        {
          "output_type": "execute_result",
          "data": {
            "text/plain": [
              "192000"
            ]
          },
          "metadata": {},
          "execution_count": 55
        }
      ]
    },
    {
      "cell_type": "code",
      "source": [
        "import librosa\n",
        "\n",
        "target_sr = 16000\n",
        "audio_sample['array'] = librosa.resample(audio_sample['array'], orig_sr=original_sr, target_sr=target_sr)\n",
        "audio_sample['sampling_rate'] = target_sr\n",
        "\n",
        "Audio(audio_sample['array'], rate=audio_sample['sampling_rate'])"
      ],
      "metadata": {
        "colab": {
          "base_uri": "https://localhost:8080/",
          "height": 75
        },
        "id": "P_JT1iXKTVfV",
        "outputId": "227ebe99-357f-4238-ddb2-24f4ea0cac67"
      },
      "execution_count": 56,
      "outputs": [
        {
          "output_type": "execute_result",
          "data": {
            "text/plain": [
              "<IPython.lib.display.Audio object>"
            ],
            "text/html": [
              "\n",
              "                <audio  controls=\"controls\" >\n",
              "                    <source src=\"data:audio/wav;base64,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\" type=\"audio/wav\" />\n",
              "                    Your browser does not support the audio element.\n",
              "                </audio>\n",
              "              "
            ]
          },
          "metadata": {},
          "execution_count": 56
        }
      ]
    },
    {
      "cell_type": "code",
      "source": [
        "audio_transcription"
      ],
      "metadata": {
        "colab": {
          "base_uri": "https://localhost:8080/",
          "height": 36
        },
        "id": "iCDwNUXgSRck",
        "outputId": "0530e07d-2870-4163-dd5e-6c8263147b8c"
      },
      "execution_count": 9,
      "outputs": [
        {
          "output_type": "execute_result",
          "data": {
            "text/plain": [
              "'HE HOPED THERE WOULD BE STEW FOR DINNER TURNIPS AND CARROTS AND BRUISED POTATOES AND FAT MUTTON PIECES TO BE LADLED OUT IN THICK PEPPERED FLOUR FATTENED SAUCE'"
            ],
            "application/vnd.google.colaboratory.intrinsic+json": {
              "type": "string"
            }
          },
          "metadata": {},
          "execution_count": 9
        }
      ]
    },
    {
      "cell_type": "code",
      "source": [
        "from transformers import WhisperProcessor, WhisperForConditionalGeneration\n",
        "\n",
        "processor = WhisperProcessor.from_pretrained(\"openai/whisper-tiny.en\")\n",
        "model = WhisperForConditionalGeneration.from_pretrained(\"openai/whisper-tiny.en\").to(DEVICE)"
      ],
      "metadata": {
        "colab": {
          "base_uri": "https://localhost:8080/",
          "height": 439,
          "referenced_widgets": [
            "09822f715ed64814a4c835ce41f92e1e",
            "b0adf1ab38d447fcb74f47e1b68634f3",
            "79579dc065b64be3899f4847b8f46a6f",
            "7bbc429ebdc444d69082b88b91e62c40",
            "cb07b3632db84a8cbc6d321e159c4505",
            "6b72b5f4d5df4860968450bd64336de4",
            "8bf9e5ae4d654dc7876dc8766cc379b2",
            "87a91817b3ef4b6198158c7e1e8465d9",
            "da8e94c7d5e04dd4ae0ce058ca5c295a",
            "f6778070cbaa4fb3935bed6bae7c9741",
            "eef6c72354d54c08a7c58461b71e963e",
            "89240b3b06094d919c7a24b9a3861396",
            "cdb36dc8edf04cdcbad1c8e35854e946",
            "8bdc058fb3bb4c859ffcd409c46f6c5e",
            "4cb1ce0dca7b4043aac869fc1cee059a",
            "b63d62bc37d44728915c2be00ecc7613",
            "49f0f097ade54cd1a71a9030616bc3ee",
            "94a3616014904e309aecf95b421830b2",
            "52d642820f294920834d4aec5e318bd6",
            "38f9698c449e48e793c773e02026349d",
            "0465eb1c2fcf4950afa2dbddaea4c503",
            "6a85693f0ea2499494a1a31d5cdf4c03",
            "22621f4988aa4d95abeb2f816636c36b",
            "f73988726ec246fb98020bbabf652659",
            "7428419b37ae4b818cf032a762b01f0a",
            "4e7e6c168e1c469d9c44a3c9561c50fd",
            "dcc08916eb284449813554e10658e5e8",
            "2746bbfafb7247278c26e464863d0703",
            "63b07c3c9e814688bd6fab4387a77bdd",
            "252ec1056d98466dbb6caa5ceac745dd",
            "6f54e14703d8413483631b555909e01d",
            "88a047ee493c4c6b8760f12a300d62ff",
            "ab96ceaef5ed49889d65551f05e10550",
            "090a71351f0141079515bf4efb36044f",
            "ad9c29b5bbfc40689213537b211dd586",
            "4458544ff6334f6fa1c795971f0c7342",
            "7e5f4feb8f574a85b32685b8d6592f7b",
            "70379e5750874d0bbcbf1793c7e32d50",
            "0103f2f3524943009a58cba5b7cd165e",
            "97bcb687867d433aa254153cec6807d3",
            "6f4f0a344f854f21b1cc8fc85e5c93bf",
            "8d7eddd4a2ab45ce823538dcc014bacf",
            "f227ce74090043848eb890f23d546446",
            "a369902b100e4d76bd1cbc987948610f",
            "f4a06fae14834e65a6d0a2dfe379f40f",
            "1d4c27d0a207406fa72ccd520b8649e2",
            "fd1951db255c470b84961a25dbe6a0f0",
            "f5d3f28ee23b4bd886002e4faa7b0c01",
            "e0bff44b15c444fe9c6cafa79fe0232e",
            "3054cbca68834d7ab714c71fb3d1b090",
            "6161d29d92c84768bcc0cfa0d4dc38bb",
            "054f9bceaa544e2cb2c346422a7ba42e",
            "a969e00ba4c44129ab112a089967f0d5",
            "606538378e21427cba9c85d6d6f4a3fb",
            "605c28a25f34428c9f9d4421bd23d90d",
            "1976beccccf9496b90c8b04176315a0e",
            "0b57ec25c4934bae85a3dd3df5fed849",
            "011be8398e8e4e6992bdf469849ead9e",
            "49587bc0fd4e4c8a8fdd8a03a434df7d",
            "d5f56762bca7461d99b97f8dc1f88e54",
            "aef6b8397ccd4736b7880d1a51b23cab",
            "7ef4c579bdcd49ffba52ab731fd7d79d",
            "e632f0dd14db44b39025b72c3657be32",
            "776541a26b27412a8b17c139a77a74c2",
            "7b50a90aa47941c9b6a0ba5ce7e38099",
            "8ac0966655fe4ed9ab6e9e7a78a27a6f",
            "8054092d80434f2aa41ccb75746f97c6",
            "a95411c712394dacaa7c0c8a88a00366",
            "325c82f7942f42af9c1a9feccb84e692",
            "b624988916cb4cbc89591eed2a1fc5b4",
            "8ce4ca12762c4cb79c89e683fd20b806",
            "619a774c3d5c47a183afb4e2b18e2e3a",
            "b7027b5e60f74978bca16e5044f68182",
            "3ae6e32f36484479bf647183639b9baa",
            "7539b7d76a02493f8663b2444805c903",
            "129b9f0abb7942b586192d518e1095fa",
            "aedd88b983de435c8d56aac770cb6cb6",
            "9127f651b6cb46ef86e82183db8e1650",
            "6b678fdccc5f41f494dd4f565935de44",
            "986c87af821f42099bdf73b14c0a0a92",
            "b3bce242ed4b4f19b730b54b6cc97c91",
            "0cb838db803f4255b947911a08f4474f",
            "16b16d25fe7d4ea5864c633de8770b66",
            "faa5f18d686444c29f7a1ad1b3428dcb",
            "ce782efbb0944893a2214a1668494ab2",
            "765ae9682adc4227b988db70aad32c12",
            "f3d9329cf7f34a579aa106e58f2784cd",
            "25e27c841f88455faa2fedf981b3bd33",
            "2843c2388ca146d78efbac44d89672e0",
            "2c8ea9cf25154e75b5ab532d9fc697b0",
            "22b20f7ab90b46108485fd9dec5f1ba8",
            "130d4ced31ff41e4901255b2082e36d4",
            "c3b1a55a9c5e474f9d0719dd8a191cde",
            "8d92a1c09fd44c408a011b41fe095ecd",
            "4e2d713aa3b64762808dabc6a599c686",
            "9d2439fe6f7c4b658100b172bb17b8de",
            "176197ef4de24e88ae1205c3b7bed841",
            "7c7d0a77519f44eb856659c3a71f3c3d",
            "48fa85f8c1e54f46a42669f27293bfac",
            "8b3191a59b1a49829eb3726554209528",
            "07139e42b2bd48ddadddb730322a5c7b",
            "d1c037040fac42c9a3fc38ede72d4c31",
            "f7691f41dbcc4248b49c5b03f82448f5",
            "832cb317c9fb4a56a3c008b1b38541bb",
            "68a3a59920c64d6eba73c23e00ab3f78",
            "4ae6645613574c03b0c9485b1b2cb2fb",
            "c0811cce318b494790bdccd9ed9141eb",
            "dc44605027b04b329d00adb50c57f6af",
            "5ff8da8edb93436f9d2a4e4108ad8c34",
            "c8ae2c4bcd4141bba403d71288161252",
            "95dc288dda6f4372b0d58dbd12ede15f",
            "6d30a2dd99da4fc99d89ddf3e4021217",
            "55ad0ecd0f1a47a9af15f64d4d3fa646",
            "007bf0b15c8e43678ecba4543ada3fd2",
            "d6bb93863a1e47ae8f96a78125351044",
            "3704d52f852e42ab9af9a57dce7a8c8e",
            "220854cfba354df6bfcf7f4e35eea200",
            "b242f1575efc4ee196f052961826cba2",
            "b567991168f8417087ac3700f4fc7888",
            "a2da32dcbab94dffb2f2afaabaa8b62d",
            "b8936d60252447a78f67541859352c9f",
            "3166f9392faf4b03804f0c55fd140c5c",
            "d20328ffd0af440b9be2703c9d185f4b",
            "43632c97584244ec96b3b4db1e07143b",
            "cc3bc9879f434002838dff3ce81e8218",
            "51b944e62b5f44528691213c7d9b830c",
            "eacbec11d2ed49ffbd7e834d2fa402e0",
            "16b69e0877d045bea5073837ac3c0cc1",
            "061f84e6f486442da1ac773468e68a80",
            "30f50dbf7b104cfc93dfd9700e05cf52",
            "893dad34840f4b7c9c2243c5d03391f8",
            "a64e728410f84fc2849edda73c72788c"
          ]
        },
        "id": "il6iYV6zSd9p",
        "outputId": "89917ee6-af88-4fd6-c34a-f9deb3a548f4"
      },
      "execution_count": 10,
      "outputs": [
        {
          "output_type": "stream",
          "name": "stderr",
          "text": [
            "The cache for model files in Transformers v4.22.0 has been updated. Migrating your old cache. This is a one-time only operation. You can interrupt this and resume the migration later on by calling `transformers.utils.move_cache()`.\n"
          ]
        },
        {
          "output_type": "display_data",
          "data": {
            "text/plain": [
              "0it [00:00, ?it/s]"
            ],
            "application/vnd.jupyter.widget-view+json": {
              "version_major": 2,
              "version_minor": 0,
              "model_id": "09822f715ed64814a4c835ce41f92e1e"
            }
          },
          "metadata": {}
        },
        {
          "output_type": "display_data",
          "data": {
            "text/plain": [
              "preprocessor_config.json:   0%|          | 0.00/185k [00:00<?, ?B/s]"
            ],
            "application/vnd.jupyter.widget-view+json": {
              "version_major": 2,
              "version_minor": 0,
              "model_id": "89240b3b06094d919c7a24b9a3861396"
            }
          },
          "metadata": {}
        },
        {
          "output_type": "display_data",
          "data": {
            "text/plain": [
              "tokenizer_config.json:   0%|          | 0.00/805 [00:00<?, ?B/s]"
            ],
            "application/vnd.jupyter.widget-view+json": {
              "version_major": 2,
              "version_minor": 0,
              "model_id": "22621f4988aa4d95abeb2f816636c36b"
            }
          },
          "metadata": {}
        },
        {
          "output_type": "display_data",
          "data": {
            "text/plain": [
              "vocab.json:   0%|          | 0.00/798k [00:00<?, ?B/s]"
            ],
            "application/vnd.jupyter.widget-view+json": {
              "version_major": 2,
              "version_minor": 0,
              "model_id": "090a71351f0141079515bf4efb36044f"
            }
          },
          "metadata": {}
        },
        {
          "output_type": "display_data",
          "data": {
            "text/plain": [
              "tokenizer.json:   0%|          | 0.00/2.41M [00:00<?, ?B/s]"
            ],
            "application/vnd.jupyter.widget-view+json": {
              "version_major": 2,
              "version_minor": 0,
              "model_id": "f4a06fae14834e65a6d0a2dfe379f40f"
            }
          },
          "metadata": {}
        },
        {
          "output_type": "display_data",
          "data": {
            "text/plain": [
              "merges.txt:   0%|          | 0.00/456k [00:00<?, ?B/s]"
            ],
            "application/vnd.jupyter.widget-view+json": {
              "version_major": 2,
              "version_minor": 0,
              "model_id": "1976beccccf9496b90c8b04176315a0e"
            }
          },
          "metadata": {}
        },
        {
          "output_type": "display_data",
          "data": {
            "text/plain": [
              "normalizer.json:   0%|          | 0.00/52.7k [00:00<?, ?B/s]"
            ],
            "application/vnd.jupyter.widget-view+json": {
              "version_major": 2,
              "version_minor": 0,
              "model_id": "8054092d80434f2aa41ccb75746f97c6"
            }
          },
          "metadata": {}
        },
        {
          "output_type": "display_data",
          "data": {
            "text/plain": [
              "added_tokens.json:   0%|          | 0.00/34.6k [00:00<?, ?B/s]"
            ],
            "application/vnd.jupyter.widget-view+json": {
              "version_major": 2,
              "version_minor": 0,
              "model_id": "9127f651b6cb46ef86e82183db8e1650"
            }
          },
          "metadata": {}
        },
        {
          "output_type": "display_data",
          "data": {
            "text/plain": [
              "special_tokens_map.json:   0%|          | 0.00/1.83k [00:00<?, ?B/s]"
            ],
            "application/vnd.jupyter.widget-view+json": {
              "version_major": 2,
              "version_minor": 0,
              "model_id": "2843c2388ca146d78efbac44d89672e0"
            }
          },
          "metadata": {}
        },
        {
          "output_type": "display_data",
          "data": {
            "text/plain": [
              "config.json:   0%|          | 0.00/1.94k [00:00<?, ?B/s]"
            ],
            "application/vnd.jupyter.widget-view+json": {
              "version_major": 2,
              "version_minor": 0,
              "model_id": "8b3191a59b1a49829eb3726554209528"
            }
          },
          "metadata": {}
        },
        {
          "output_type": "display_data",
          "data": {
            "text/plain": [
              "model.safetensors:   0%|          | 0.00/151M [00:00<?, ?B/s]"
            ],
            "application/vnd.jupyter.widget-view+json": {
              "version_major": 2,
              "version_minor": 0,
              "model_id": "95dc288dda6f4372b0d58dbd12ede15f"
            }
          },
          "metadata": {}
        },
        {
          "output_type": "display_data",
          "data": {
            "text/plain": [
              "generation_config.json:   0%|          | 0.00/1.62k [00:00<?, ?B/s]"
            ],
            "application/vnd.jupyter.widget-view+json": {
              "version_major": 2,
              "version_minor": 0,
              "model_id": "3166f9392faf4b03804f0c55fd140c5c"
            }
          },
          "metadata": {}
        }
      ]
    },
    {
      "cell_type": "code",
      "source": [
        "audio_sample['sampling_rate']"
      ],
      "metadata": {
        "colab": {
          "base_uri": "https://localhost:8080/"
        },
        "id": "6lNAIleITGlL",
        "outputId": "510274c8-1de3-43cd-d662-738523b9dbfb"
      },
      "execution_count": 11,
      "outputs": [
        {
          "output_type": "execute_result",
          "data": {
            "text/plain": [
              "16000"
            ]
          },
          "metadata": {},
          "execution_count": 11
        }
      ]
    },
    {
      "cell_type": "code",
      "source": [
        "input_features = processor(\n",
        "    audio_sample[\"array\"], sampling_rate=audio_sample[\"sampling_rate\"], return_tensors=\"pt\"\n",
        ").input_features\n",
        "input_features = input_features.to(DEVICE)\n",
        "input_features"
      ],
      "metadata": {
        "colab": {
          "base_uri": "https://localhost:8080/"
        },
        "id": "fpeMc-q7S7WU",
        "outputId": "30f3949a-eb3e-498e-fe3d-b8564c4674b7"
      },
      "execution_count": 12,
      "outputs": [
        {
          "output_type": "execute_result",
          "data": {
            "text/plain": [
              "tensor([[[ 0.1188,  0.0630,  0.0184,  ..., -0.6991, -0.6991, -0.6991],\n",
              "         [-0.1339,  0.0589,  0.0182,  ..., -0.6991, -0.6991, -0.6991],\n",
              "         [-0.2594, -0.0884, -0.1486,  ..., -0.6991, -0.6991, -0.6991],\n",
              "         ...,\n",
              "         [-0.6991, -0.6991, -0.6991,  ..., -0.6991, -0.6991, -0.6991],\n",
              "         [-0.6991, -0.6991, -0.6991,  ..., -0.6991, -0.6991, -0.6991],\n",
              "         [-0.6991, -0.6991, -0.6991,  ..., -0.6991, -0.6991, -0.6991]]],\n",
              "       device='cuda:0')"
            ]
          },
          "metadata": {},
          "execution_count": 12
        }
      ]
    },
    {
      "cell_type": "code",
      "source": [
        "predicted_ids = model.generate(input_features, do_sample=True, temperature=1.0)\n",
        "transcription = processor.batch_decode(predicted_ids, skip_special_tokens=True)\n",
        "transcription[0].strip()"
      ],
      "metadata": {
        "colab": {
          "base_uri": "https://localhost:8080/",
          "height": 74
        },
        "id": "4Q0TVB9iTtPU",
        "outputId": "307607e6-a21d-4c1b-aaf9-7d7e502799de"
      },
      "execution_count": 13,
      "outputs": [
        {
          "output_type": "stream",
          "name": "stderr",
          "text": [
            "The attention mask is not set and cannot be inferred from input because pad token is same as eos token. As a consequence, you may observe unexpected behavior. Please pass your input's `attention_mask` to obtain reliable results.\n"
          ]
        },
        {
          "output_type": "execute_result",
          "data": {
            "text/plain": [
              "'He hoped there would be stew for dinner, turnips and carrots and bruised potatoes and fat-mutton pieces to be ladled out in thick, peppered, flower-fattened sauce.'"
            ],
            "application/vnd.google.colaboratory.intrinsic+json": {
              "type": "string"
            }
          },
          "metadata": {},
          "execution_count": 13
        }
      ]
    },
    {
      "cell_type": "markdown",
      "source": [
        "# Pipeline"
      ],
      "metadata": {
        "id": "V2VWR-7YVuSi"
      }
    },
    {
      "cell_type": "code",
      "source": [
        "# mainly based on the real paper\n",
        "# i only modify it a little bit so that it performs better\n",
        "PROMPT = \"\"\"\n",
        "### Instruction\n",
        "You are an ASR transcript selector. You have a few transcripts generated by an automatic speech\n",
        "recognition model. Your task is to generate the most likely transcript from them. If the generated\n",
        "transcripts have grammatical or logical errors, you will modify them accordingly to produce the\n",
        "most accurate and coherent transcript. Directly return the transcript without explanation.\n",
        "\n",
        "### Input\n",
        "{transcripts}\n",
        "\n",
        "### Response\n",
        "\"\"\""
      ],
      "metadata": {
        "id": "BgReUQI_5S1T"
      },
      "execution_count": 98,
      "outputs": []
    },
    {
      "cell_type": "code",
      "source": [
        "import re, random\n",
        "from langchain_huggingface import ChatHuggingFace\n",
        "from langchain import HuggingFaceHub\n",
        "\n",
        "def normalize_text(text):\n",
        "  text = re.sub(r'-', ' ', text)\n",
        "  text = re.sub(r'[^\\w\\s]', '', text).lower()\n",
        "  return text\n",
        "\n",
        "class WhisperingLlamaSimplified:\n",
        "  def __init__(self, model, processor, llm_model, prompt):\n",
        "    self.model = model\n",
        "    self.processor = processor\n",
        "    model_kwargs = {\n",
        "      \"device\": False,\n",
        "      \"max_new_tokens\": 200,\n",
        "      \"return_full_text\": False,\n",
        "    }\n",
        "    llm = HuggingFaceHub(repo_id=llm_model, model_kwargs=model_kwargs)\n",
        "    self.chat_model = ChatHuggingFace(llm=llm)\n",
        "    self.prompt = prompt\n",
        "\n",
        "  def __resample_audio(self, sample, target_sr):\n",
        "    original_sr = sample['sampling_rate']\n",
        "    sample['array'] = librosa.resample(sample['array'], orig_sr=original_sr, target_sr=target_sr)\n",
        "    sample['sampling_rate'] = target_sr\n",
        "    return sample\n",
        "\n",
        "  def __generate_one_transcription(self, audio, temperature):\n",
        "    audio = self.__resample_audio(audio, 16000)\n",
        "    input_features = self.processor(\n",
        "        audio[\"array\"], sampling_rate=audio[\"sampling_rate\"], return_tensors=\"pt\"\n",
        "    ).input_features.to(DEVICE)\n",
        "    predicted_ids = self.model.generate(input_features, do_sample=True, temperature=temperature)\n",
        "    transcription = self.processor.batch_decode(predicted_ids, skip_special_tokens=True)\n",
        "    return transcription[0].strip()\n",
        "\n",
        "  def __generate_k_transcriptions(self, audio, k):\n",
        "    audio = self.__resample_audio(audio, 16000)\n",
        "    random_options = [i/100 for i in range(70, 101)]\n",
        "    transcriptions = []\n",
        "    for i in range(k):\n",
        "      temperature = random.choice(random_options)\n",
        "      raw_transcription = self.__generate_one_transcription(audio, temperature)\n",
        "      normalized_transcription = normalize_text(raw_transcription)\n",
        "      transcriptions.append(normalized_transcription)\n",
        "    return transcriptions\n",
        "\n",
        "  def generate_best_transcription(self, audio, k):\n",
        "    transcriptions = self.__generate_k_transcriptions(audio, k)\n",
        "    transcriptions = '\\n'.join(transcriptions)\n",
        "    prompt = self.prompt.format(transcripts=transcriptions)\n",
        "    response = self.chat_model.invoke(prompt).content\n",
        "    return normalize_text(response)"
      ],
      "metadata": {
        "id": "6QxKHOQZvEo7"
      },
      "execution_count": 102,
      "outputs": []
    },
    {
      "cell_type": "code",
      "source": [
        "wlsimplified = WhisperingLlamaSimplified(model, processor, \"meta-llama/Meta-Llama-3-8B-Instruct\", PROMPT)"
      ],
      "metadata": {
        "id": "gddiG4HT6jTV"
      },
      "execution_count": 103,
      "outputs": []
    },
    {
      "cell_type": "code",
      "source": [
        "from evaluate import load\n",
        "wer = load(\"wer\")"
      ],
      "metadata": {
        "id": "UtJndj2P6lf1"
      },
      "execution_count": 75,
      "outputs": []
    },
    {
      "cell_type": "code",
      "source": [
        "from tqdm import tqdm\n",
        "\n",
        "transcriptions = []\n",
        "ground_truths = []\n",
        "wer_values = []\n",
        "\n",
        "for row in tqdm(dataset):\n",
        "  audio = row['audio']\n",
        "  gt = normalize_text(row['gt'])\n",
        "  transcription = wlsimplified.generate_best_transcription(audio, 5)\n",
        "  print(transcription)\n",
        "  transcriptions.append(transcription)\n",
        "  ground_truths.append(gt)\n",
        "  wer_values.append(wer.compute(predictions=[transcription], references=[gt]))"
      ],
      "metadata": {
        "colab": {
          "base_uri": "https://localhost:8080/"
        },
        "id": "DRDi589b7An2",
        "outputId": "c79f9a1b-6565-4bcb-bfc5-89a9b57cb730"
      },
      "execution_count": 104,
      "outputs": [
        {
          "output_type": "stream",
          "name": "stderr",
          "text": [
            "  1%|          | 1/150 [00:01<03:58,  1.60s/it]"
          ]
        },
        {
          "output_type": "stream",
          "name": "stdout",
          "text": [
            " instruction\n"
          ]
        },
        {
          "output_type": "stream",
          "name": "stderr",
          "text": [
            "\r  1%|▏         | 2/150 [00:02<02:57,  1.20s/it]"
          ]
        },
        {
          "output_type": "stream",
          "name": "stdout",
          "text": [
            "stuffed into his belly he counselled him\n"
          ]
        },
        {
          "output_type": "stream",
          "name": "stderr",
          "text": [
            "\r  2%|▏         | 3/150 [00:04<03:16,  1.34s/it]"
          ]
        },
        {
          "output_type": "stream",
          "name": "stdout",
          "text": [
            "after early nightfall the yellow lamps would light up here and there the squalid quarter of the brothels\n"
          ]
        },
        {
          "output_type": "stream",
          "name": "stderr",
          "text": [
            "\r  3%|▎         | 4/150 [00:04<02:47,  1.14s/it]"
          ]
        },
        {
          "output_type": "stream",
          "name": "stdout",
          "text": [
            " instruction\n",
            " instruction\n",
            "you are a few transcripts\n"
          ]
        },
        {
          "output_type": "stream",
          "name": "stderr",
          "text": [
            "\r  3%|▎         | 5/150 [00:05<02:36,  1.08s/it]"
          ]
        },
        {
          "output_type": "stream",
          "name": "stdout",
          "text": [
            " instruction\n",
            "you are a good night\n"
          ]
        },
        {
          "output_type": "stream",
          "name": "stderr",
          "text": [
            "\r  4%|▍         | 6/150 [00:07<03:14,  1.35s/it]"
          ]
        },
        {
          "output_type": "stream",
          "name": "stdout",
          "text": [
            "the music came nearer and he recalled the words the words of shelleys fragment upon the moon wandering companionless pale for weariness\n"
          ]
        },
        {
          "output_type": "stream",
          "name": "stderr",
          "text": [
            "\r  5%|▍         | 7/150 [00:09<03:26,  1.44s/it]"
          ]
        },
        {
          "output_type": "stream",
          "name": "stdout",
          "text": [
            "the dull light fell more faintly upon the page where another equation began to unfold itself slowly and spread abroad its widening tail\n"
          ]
        },
        {
          "output_type": "stream",
          "name": "stderr",
          "text": [
            "\r  5%|▌         | 8/150 [00:10<03:05,  1.31s/it]"
          ]
        },
        {
          "output_type": "stream",
          "name": "stdout",
          "text": [
            "a cold lucid indifference reigned in his soul\n"
          ]
        },
        {
          "output_type": "stream",
          "name": "stderr",
          "text": [
            "\r  6%|▌         | 9/150 [00:15<05:56,  2.53s/it]"
          ]
        },
        {
          "output_type": "stream",
          "name": "stdout",
          "text": [
            " instruction\n",
            "the chaos in which his order the chaos in which his order the chaos in which his order the chaos in which his order the chaos in which his order the chaos in which his order the chaos in which his order the chaos in which his order the chaos in which his order the chaos in which his order the chaos in which his order the chaos in which his order the chaos in which his order the chaos in which his order the chaos in which his order the chaos in which his order the chaos in which his order the chaos in which his order the chaos in which his order the chaos in which his order the chaos in which his order the chaos in which his order the chaos in which his order the chaos in which his order the chaos in which his order the chaos in which his order the chaos in which his order the chaos in which his order the chaos in which his order the chaos in which his order the chaos in which his order the chaos in which his order the chaos in which his\n"
          ]
        },
        {
          "output_type": "stream",
          "name": "stderr",
          "text": [
            "\r  7%|▋         | 10/150 [00:17<05:31,  2.37s/it]"
          ]
        },
        {
          "output_type": "stream",
          "name": "stdout",
          "text": [
            "at most by an alms given to a beggar whose blessing he fled from he might hope wearily to win for himself some measure of actual grace\n"
          ]
        },
        {
          "output_type": "stream",
          "name": "stderr",
          "text": [
            "\r  7%|▋         | 11/150 [00:18<04:41,  2.03s/it]"
          ]
        },
        {
          "output_type": "stream",
          "name": "stdout",
          "text": [
            "well now ennis i declare you have a head and so has my stick\n"
          ]
        },
        {
          "output_type": "stream",
          "name": "stderr",
          "text": [
            "\r  8%|▊         | 12/150 [00:21<05:02,  2.20s/it]"
          ]
        },
        {
          "output_type": "stream",
          "name": "stdout",
          "text": [
            "on saturday mornings when the sodality met in the chapel to recite the little office his place was a cushioned kneeling desk at the right of the altar from which he led his wing of boys through the responses\n"
          ]
        },
        {
          "output_type": "stream",
          "name": "stderr",
          "text": [
            "\r  9%|▊         | 13/150 [00:23<05:14,  2.30s/it]"
          ]
        },
        {
          "output_type": "stream",
          "name": "stdout",
          "text": [
            "her eyes seemed to regard him with mild pity her holiness radiating a strange faint light upon her frail flesh which did not humiliate the sinner who approached her\n"
          ]
        },
        {
          "output_type": "stream",
          "name": "stderr",
          "text": [
            "\r  9%|▉         | 14/150 [00:26<05:04,  2.24s/it]"
          ]
        },
        {
          "output_type": "stream",
          "name": "stdout",
          "text": [
            "if ever he was impelled to cast sin from him and to repent the impulse that moved him was the wish to be her knight\n"
          ]
        },
        {
          "output_type": "stream",
          "name": "stderr",
          "text": [
            "\r 10%|█         | 15/150 [00:26<04:01,  1.79s/it]"
          ]
        },
        {
          "output_type": "stream",
          "name": "stdout",
          "text": [
            "he tried to think about how it could be\n"
          ]
        },
        {
          "output_type": "stream",
          "name": "stderr",
          "text": [
            "\r 11%|█         | 16/150 [00:31<06:06,  2.74s/it]"
          ]
        },
        {
          "output_type": "stream",
          "name": "stdout",
          "text": [
            " instruction\n",
            "you are the you are the you are the you are the you are the you are the you are the you are the you are the you are the you are the you are the you are the you are the you are the you are the you are the you are the you are the you are the you are the you are the you are the you are the you are the you are the you are the you are the you are the you are the you are the you are the you are the you are the you are the you are the you are the you are the you are the you are the you are the you are the you are the you are the you are the you are the you are the you are the you are the you\n"
          ]
        },
        {
          "output_type": "stream",
          "name": "stderr",
          "text": [
            "\r 11%|█▏        | 17/150 [00:32<05:00,  2.26s/it]"
          ]
        },
        {
          "output_type": "stream",
          "name": "stdout",
          "text": [
            "then you can ask him questions on the catechism of the catholic church\n"
          ]
        },
        {
          "output_type": "stream",
          "name": "stderr",
          "text": [
            "\r 12%|█▏        | 18/150 [00:34<04:23,  2.00s/it]"
          ]
        },
        {
          "output_type": "stream",
          "name": "stdout",
          "text": [
            " instruction\n"
          ]
        },
        {
          "output_type": "stream",
          "name": "stderr",
          "text": [
            "\r 13%|█▎        | 19/150 [00:37<05:18,  2.43s/it]"
          ]
        },
        {
          "output_type": "stream",
          "name": "stdout",
          "text": [
            "it was strange too that he found an arid pleasure in following up to the end the rigid lines of the churchs doctrines and penetrating into obscure silences only to hear and feel the more deeply his own condemnation\n"
          ]
        },
        {
          "output_type": "stream",
          "name": "stderr",
          "text": [
            "\r 13%|█▎        | 20/150 [00:40<05:22,  2.48s/it]"
          ]
        },
        {
          "output_type": "stream",
          "name": "stdout",
          "text": [
            "the sentence of st james which says that he who offends against one commandment becomes guilty of all had seemed to him first a swollen phrase until he had begun to grope in the darkness of his own state\n"
          ]
        },
        {
          "output_type": "stream",
          "name": "stderr",
          "text": [
            "\r 14%|█▍        | 21/150 [00:43<05:53,  2.74s/it]"
          ]
        },
        {
          "output_type": "stream",
          "name": "stdout",
          "text": [
            "if a man had stolen a pound in his youth and had used that pound to amass a huge fortune how much was he obliged to give back the answer is that he would have to return the pound he had stolen together with the compound interest accruing upon it or all his huge fortune\n"
          ]
        },
        {
          "output_type": "stream",
          "name": "stderr",
          "text": [
            "\r 15%|█▍        | 22/150 [00:44<04:56,  2.32s/it]"
          ]
        },
        {
          "output_type": "stream",
          "name": "stdout",
          "text": [
            "if a layman in giving baptism pour the water before saying the words is the child baptized\n"
          ]
        },
        {
          "output_type": "stream",
          "name": "stderr",
          "text": [
            "\r 15%|█▌        | 23/150 [00:47<04:51,  2.29s/it]"
          ]
        },
        {
          "output_type": "stream",
          "name": "stdout",
          "text": [
            "here is the most likely transcript\n",
            "\n",
            "how comes it that while the first beatitude promises the kingdom of heaven to the poor in heart the second beatitude also promises to the meek that they shall possess the land\n"
          ]
        },
        {
          "output_type": "stream",
          "name": "stderr",
          "text": [
            "\r 16%|█▌        | 24/150 [00:50<05:22,  2.56s/it]"
          ]
        },
        {
          "output_type": "stream",
          "name": "stdout",
          "text": [
            "why was the sacrament of the eucharist instituted under the two species of bread and wine if jesus christ is present body blood soul and divinity in the bread alone and in the wine alone\n"
          ]
        },
        {
          "output_type": "stream",
          "name": "stderr",
          "text": [
            "\r 17%|█▋        | 25/150 [00:52<05:00,  2.41s/it]"
          ]
        },
        {
          "output_type": "stream",
          "name": "stdout",
          "text": [
            "if the wine changes into vinegar and the host crumbles into corruption after they have been consecrated is jesus christ still present under their species as god and as man\n"
          ]
        },
        {
          "output_type": "stream",
          "name": "stderr",
          "text": [
            "\r 17%|█▋        | 26/150 [00:53<04:15,  2.06s/it]"
          ]
        },
        {
          "output_type": "stream",
          "name": "stdout",
          "text": [
            "a gentle kick from the tall boy in the bench behind urged stephen to ask a difficult question\n"
          ]
        },
        {
          "output_type": "stream",
          "name": "stderr",
          "text": [
            "\r 18%|█▊        | 27/150 [00:54<03:39,  1.78s/it]"
          ]
        },
        {
          "output_type": "stream",
          "name": "stdout",
          "text": [
            "the rector did not ask for a catechism to hear the lesson from\n"
          ]
        },
        {
          "output_type": "stream",
          "name": "stderr",
          "text": [
            "\r 19%|█▊        | 28/150 [00:55<03:03,  1.50s/it]"
          ]
        },
        {
          "output_type": "stream",
          "name": "stdout",
          "text": [
            "he clasped his hands on the desk and said\n"
          ]
        },
        {
          "output_type": "stream",
          "name": "stderr",
          "text": [
            "\r 19%|█▉        | 29/150 [00:57<02:56,  1.46s/it]"
          ]
        },
        {
          "output_type": "stream",
          "name": "stdout",
          "text": [
            "the retreat will begin on wednesday afternoon in honor of st francis xavier whose feast day is saturday\n"
          ]
        },
        {
          "output_type": "stream",
          "name": "stderr",
          "text": [
            "\r 20%|██        | 30/150 [00:58<02:36,  1.31s/it]"
          ]
        },
        {
          "output_type": "stream",
          "name": "stdout",
          "text": [
            "on friday confession will be heard all afternoon after beads\n"
          ]
        },
        {
          "output_type": "stream",
          "name": "stderr",
          "text": [
            "\r 21%|██        | 31/150 [00:58<02:10,  1.10s/it]"
          ]
        },
        {
          "output_type": "stream",
          "name": "stdout",
          "text": [
            "beware of making that mistake\n"
          ]
        },
        {
          "output_type": "stream",
          "name": "stderr",
          "text": [
            "\r 21%|██▏       | 32/150 [00:59<02:12,  1.12s/it]"
          ]
        },
        {
          "output_type": "stream",
          "name": "stdout",
          "text": [
            "stevens heart began slowly to fall and fade with fear like a withering flower\n"
          ]
        },
        {
          "output_type": "stream",
          "name": "stderr",
          "text": [
            "\r 22%|██▏       | 33/150 [01:00<02:11,  1.13s/it]"
          ]
        },
        {
          "output_type": "stream",
          "name": "stdout",
          "text": [
            "he is called as you know the apostle of the indies\n"
          ]
        },
        {
          "output_type": "stream",
          "name": "stderr",
          "text": [
            "\r 23%|██▎       | 34/150 [01:01<02:00,  1.04s/it]"
          ]
        },
        {
          "output_type": "stream",
          "name": "stdout",
          "text": [
            "a great saint francis xavier\n"
          ]
        },
        {
          "output_type": "stream",
          "name": "stderr",
          "text": [
            "\r 23%|██▎       | 35/150 [01:03<02:06,  1.10s/it]"
          ]
        },
        {
          "output_type": "stream",
          "name": "stdout",
          "text": [
            "the rector paused and then shaking his clasped hands before him went on\n"
          ]
        },
        {
          "output_type": "stream",
          "name": "stderr",
          "text": [
            "\r 24%|██▍       | 36/150 [01:03<01:54,  1.01s/it]"
          ]
        },
        {
          "output_type": "stream",
          "name": "stdout",
          "text": [
            "he had the faith in him that moves mountains\n"
          ]
        },
        {
          "output_type": "stream",
          "name": "stderr",
          "text": [
            "\r 25%|██▍       | 37/150 [01:04<01:38,  1.15it/s]"
          ]
        },
        {
          "output_type": "stream",
          "name": "stdout",
          "text": [
            "a great saint francis xavier\n"
          ]
        },
        {
          "output_type": "stream",
          "name": "stderr",
          "text": [
            "\r 25%|██▌       | 38/150 [01:05<01:48,  1.04it/s]"
          ]
        },
        {
          "output_type": "stream",
          "name": "stdout",
          "text": [
            "in the silence their dark fire kindled the dusk into a tawny glow\n"
          ]
        },
        {
          "output_type": "stream",
          "name": "stderr",
          "text": [
            "\r 26%|██▌       | 39/150 [01:06<01:34,  1.17it/s]"
          ]
        },
        {
          "output_type": "stream",
          "name": "stdout",
          "text": [
            "he could wait no longer\n"
          ]
        },
        {
          "output_type": "stream",
          "name": "stderr",
          "text": [
            "\r 27%|██▋       | 40/150 [01:07<01:49,  1.00it/s]"
          ]
        },
        {
          "output_type": "stream",
          "name": "stdout",
          "text": [
            "for a full hour he had paced up and down waiting but he could wait no longer\n"
          ]
        },
        {
          "output_type": "stream",
          "name": "stderr",
          "text": [
            "\r 27%|██▋       | 41/150 [01:09<02:33,  1.41s/it]"
          ]
        },
        {
          "output_type": "stream",
          "name": "stdout",
          "text": [
            "he set off abruptly for the bull walking rapidly lest his fathers shrill whistle might call him back and in a few moments he had rounded the curve at the police barrack and was safe\n"
          ]
        },
        {
          "output_type": "stream",
          "name": "stderr",
          "text": [
            "\r 28%|██▊       | 42/150 [01:10<02:00,  1.12s/it]"
          ]
        },
        {
          "output_type": "stream",
          "name": "stdout",
          "text": [
            "the university\n"
          ]
        },
        {
          "output_type": "stream",
          "name": "stderr",
          "text": [
            "\r 29%|██▊       | 43/150 [01:11<01:52,  1.05s/it]"
          ]
        },
        {
          "output_type": "stream",
          "name": "stdout",
          "text": [
            "the bride after satisfaction uplifted him like long slow waves\n"
          ]
        },
        {
          "output_type": "stream",
          "name": "stderr",
          "text": [
            "\r 29%|██▉       | 44/150 [01:12<02:02,  1.16s/it]"
          ]
        },
        {
          "output_type": "stream",
          "name": "stdout",
          "text": [
            "whose feet are like the feet of hearts and underneath the everlasting arms\n"
          ]
        },
        {
          "output_type": "stream",
          "name": "stderr",
          "text": [
            "\r 30%|███       | 45/150 [01:14<02:16,  1.30s/it]"
          ]
        },
        {
          "output_type": "stream",
          "name": "stdout",
          "text": [
            "the pride of that dim image brought back to his mind the dignity of the office he had refused\n"
          ]
        },
        {
          "output_type": "stream",
          "name": "stderr",
          "text": [
            "\r 31%|███       | 46/150 [01:15<02:01,  1.16s/it]"
          ]
        },
        {
          "output_type": "stream",
          "name": "stdout",
          "text": [
            "soon the whole bridge was trembling and resounding\n"
          ]
        },
        {
          "output_type": "stream",
          "name": "stderr",
          "text": [
            "\r 31%|███▏      | 47/150 [01:18<02:55,  1.70s/it]"
          ]
        },
        {
          "output_type": "stream",
          "name": "stdout",
          "text": [
            "the uncouth faces passed him by two by two stained yellow or red or livid by the sea as he strove to look at them with ease and indifference a faint stain of personal shame and commiseration rose to his own face\n"
          ]
        },
        {
          "output_type": "stream",
          "name": "stderr",
          "text": [
            "\r 32%|███▏      | 48/150 [01:21<03:48,  2.24s/it]"
          ]
        },
        {
          "output_type": "stream",
          "name": "stdout",
          "text": [
            "angry with himself he tried to hide his face from their eyes by gazing down sideways into the shallow swirling water under the bridge but he still saw a reflection therein of their top heavy silk hats and humble tape like collars and loosely hanging clerical clothes brother hickey\n"
          ]
        },
        {
          "output_type": "stream",
          "name": "stderr",
          "text": [
            "\r 33%|███▎      | 49/150 [01:22<03:01,  1.80s/it]"
          ]
        },
        {
          "output_type": "stream",
          "name": "stdout",
          "text": [
            "brother mcdonald brother kiehl\n"
          ]
        },
        {
          "output_type": "stream",
          "name": "stderr",
          "text": [
            "\r 33%|███▎      | 50/150 [01:25<03:52,  2.33s/it]"
          ]
        },
        {
          "output_type": "stream",
          "name": "stdout",
          "text": [
            "their piety would be like their names like their faces like their clothes it was idle for him to tell himself that their humble and contrite hearts might be paid a far richer tribute of devotion than his had ever been a gift tenfold more acceptable than his elaborate adoration\n"
          ]
        },
        {
          "output_type": "stream",
          "name": "stderr",
          "text": [
            "\r 34%|███▍      | 51/150 [01:27<03:40,  2.23s/it]"
          ]
        },
        {
          "output_type": "stream",
          "name": "stdout",
          "text": [
            " instruction\n"
          ]
        },
        {
          "output_type": "stream",
          "name": "stderr",
          "text": [
            "\r 35%|███▍      | 52/150 [01:31<04:06,  2.51s/it]"
          ]
        },
        {
          "output_type": "stream",
          "name": "stdout",
          "text": [
            "idol and in bittering finally to argue against his own dispassionate certitude that the commandment of love bids us not to love our neighbor as ourselves with the same amount and intensity of love but to love him as ourselves with the same kind of love\n"
          ]
        },
        {
          "output_type": "stream",
          "name": "stderr",
          "text": [
            "\r 35%|███▌      | 53/150 [01:31<03:19,  2.05s/it]"
          ]
        },
        {
          "output_type": "stream",
          "name": "stdout",
          "text": [
            "the phrase and the day and the scene harmonized in accord\n"
          ]
        },
        {
          "output_type": "stream",
          "name": "stderr",
          "text": [
            "\r 36%|███▌      | 54/150 [01:32<02:35,  1.62s/it]"
          ]
        },
        {
          "output_type": "stream",
          "name": "stdout",
          "text": [
            "what are their colors\n"
          ]
        },
        {
          "output_type": "stream",
          "name": "stderr",
          "text": [
            "\r 37%|███▋      | 55/150 [01:34<02:39,  1.68s/it]"
          ]
        },
        {
          "output_type": "stream",
          "name": "stdout",
          "text": [
            "they were voyaging across the deserts of the sky a host of nomads on the march voyaging high over ireland westward bound\n"
          ]
        },
        {
          "output_type": "stream",
          "name": "stderr",
          "text": [
            "\r 37%|███▋      | 56/150 [01:36<02:51,  1.82s/it]"
          ]
        },
        {
          "output_type": "stream",
          "name": "stdout",
          "text": [
            "the europe they had come from lay out there beyond the irish sea a europe of strange tongues and valid wood begirt and citadel of entrenched and marshaled races\n"
          ]
        },
        {
          "output_type": "stream",
          "name": "stderr",
          "text": [
            "\r 38%|███▊      | 57/150 [01:37<02:14,  1.44s/it]"
          ]
        },
        {
          "output_type": "stream",
          "name": "stdout",
          "text": [
            "again again\n"
          ]
        },
        {
          "output_type": "stream",
          "name": "stderr",
          "text": [
            "\r 39%|███▊      | 58/150 [01:38<01:59,  1.30s/it]"
          ]
        },
        {
          "output_type": "stream",
          "name": "stdout",
          "text": [
            "a voice from beyond the world was calling\n"
          ]
        },
        {
          "output_type": "stream",
          "name": "stderr",
          "text": [
            "\r 39%|███▉      | 59/150 [01:38<01:45,  1.16s/it]"
          ]
        },
        {
          "output_type": "stream",
          "name": "stdout",
          "text": [
            "hello stephanos here comes the deadline\n"
          ]
        },
        {
          "output_type": "stream",
          "name": "stderr",
          "text": [
            "\r 40%|████      | 60/150 [01:41<02:26,  1.63s/it]"
          ]
        },
        {
          "output_type": "stream",
          "name": "stdout",
          "text": [
            "their diving stone poised on its supports rocked under their plunges and the rough hewn stones of the sloping breakwater over which they scrambled in their horseplay gleamed with cold wet luster\n"
          ]
        },
        {
          "output_type": "stream",
          "name": "stderr",
          "text": [
            "\r 41%|████      | 61/150 [01:42<02:14,  1.51s/it]"
          ]
        },
        {
          "output_type": "stream",
          "name": "stdout",
          "text": [
            "he stood still in deference to their calls and parried their banter with ease\n"
          ]
        },
        {
          "output_type": "stream",
          "name": "stderr",
          "text": [
            "\r 41%|████▏     | 62/150 [01:44<02:21,  1.60s/it]"
          ]
        },
        {
          "output_type": "stream",
          "name": "stdout",
          "text": [
            "it was a pain to see them and a sword like pain to see the signs of adolescence that made repellent their pitiful nakedness\n"
          ]
        },
        {
          "output_type": "stream",
          "name": "stderr",
          "text": [
            "\r 42%|████▏     | 63/150 [01:45<01:51,  1.28s/it]"
          ]
        },
        {
          "output_type": "stream",
          "name": "stdout",
          "text": [
            "stefanos delos\n"
          ]
        },
        {
          "output_type": "stream",
          "name": "stderr",
          "text": [
            "\r 43%|████▎     | 64/150 [01:46<02:00,  1.41s/it]"
          ]
        },
        {
          "output_type": "stream",
          "name": "stdout",
          "text": [
            "a moment before the ghost of the ancient kingdom of the danes had looked forth through the vestige of the hay raped city\n"
          ]
        },
        {
          "output_type": "stream",
          "name": "stderr",
          "text": [
            "\r 43%|████▎     | 65/150 [01:48<02:11,  1.55s/it]"
          ]
        },
        {
          "output_type": "stream",
          "name": "stdout",
          "text": [
            "you will find me continually speaking of four men titian holbein turner and rembrandt in almost the same terms\n"
          ]
        },
        {
          "output_type": "stream",
          "name": "stderr",
          "text": [
            "\r 44%|████▍     | 66/150 [01:50<02:23,  1.71s/it]"
          ]
        },
        {
          "output_type": "stream",
          "name": "stdout",
          "text": [
            "they unite every quality and sometimes you will find me referring to them as colorists sometimes as kiaras curious\n"
          ]
        },
        {
          "output_type": "stream",
          "name": "stderr",
          "text": [
            "\r 45%|████▍     | 67/150 [01:54<03:00,  2.18s/it]"
          ]
        },
        {
          "output_type": "stream",
          "name": "stdout",
          "text": [
            "by being studious of color they are studious of division and while the artist devotes himself to the representation of degrees of force in one thing unseparated light the colorists have for their function the attainment of beauty by arrangement of the divisions of light\n"
          ]
        },
        {
          "output_type": "stream",
          "name": "stderr",
          "text": [
            "\r 45%|████▌     | 68/150 [01:56<02:55,  2.14s/it]"
          ]
        },
        {
          "output_type": "stream",
          "name": "stdout",
          "text": [
            "my first and principal reason was that they enforced beyond all resistance on any student who might attempt to copy them this method of laying portions of distinct hues side by side\n"
          ]
        },
        {
          "output_type": "stream",
          "name": "stderr",
          "text": [
            "\r 46%|████▌     | 69/150 [01:58<02:44,  2.03s/it]"
          ]
        },
        {
          "output_type": "stream",
          "name": "stdout",
          "text": [
            " instruction\n",
            "you are the edge\n",
            " instruction\n",
            "you are the edge\n"
          ]
        },
        {
          "output_type": "stream",
          "name": "stderr",
          "text": [
            "\r 47%|████▋     | 70/150 [02:00<02:45,  2.07s/it]"
          ]
        },
        {
          "output_type": "stream",
          "name": "stdout",
          "text": [
            "it is the head of a parrot with a little flower in his beak from a picture of carpaccios one of his series of the life of st george\n"
          ]
        },
        {
          "output_type": "stream",
          "name": "stderr",
          "text": [
            "\r 47%|████▋     | 71/150 [02:01<02:14,  1.70s/it]"
          ]
        },
        {
          "output_type": "stream",
          "name": "stdout",
          "text": [
            "then he comes to the peak of it\n"
          ]
        },
        {
          "output_type": "stream",
          "name": "stderr",
          "text": [
            "\r 48%|████▊     | 72/150 [02:04<02:54,  2.23s/it]"
          ]
        },
        {
          "output_type": "stream",
          "name": "stdout",
          "text": [
            "the brown ground beneath is left for the most part one touch of black is put for the hollow to delicate lines of dark gray to find the outer curve and one little quivering touch of white draws the inner edge of the mandible\n"
          ]
        },
        {
          "output_type": "stream",
          "name": "stderr",
          "text": [
            "\r 49%|████▊     | 73/150 [02:08<03:26,  2.68s/it]"
          ]
        },
        {
          "output_type": "stream",
          "name": "stdout",
          "text": [
            "for believe me the final philosophy of art can only ratify their opinion that the beauty of a cock robin is to be read and of a grass plot to be green and the best skill of art is an instantly seizing on the manifold deliciousness of light which you can only seize by precision of instantaneous touch\n"
          ]
        },
        {
          "output_type": "stream",
          "name": "stderr",
          "text": [
            "\r 49%|████▉     | 74/150 [02:12<04:01,  3.18s/it]"
          ]
        },
        {
          "output_type": "stream",
          "name": "stdout",
          "text": [
            "now you will see in these studies that the moment the white is enclosed properly and harmonized with the other hues it becomes somehow more precious and pure than the white paper and that i am not afraid to leave a whole field of untreated white paper all around it being sure that even the little diamonds in the round window will tell as jewels if they are girdled justly\n"
          ]
        },
        {
          "output_type": "stream",
          "name": "stderr",
          "text": [
            "\r 50%|█████     | 75/150 [02:14<03:22,  2.70s/it]"
          ]
        },
        {
          "output_type": "stream",
          "name": "stdout",
          "text": [
            "here is the most likely transcript\n",
            "\n",
            "in this vignette copied from turner you have the two principles brought out perfectly\n"
          ]
        },
        {
          "output_type": "stream",
          "name": "stderr",
          "text": [
            "\r 51%|█████     | 76/150 [02:17<03:35,  2.91s/it]"
          ]
        },
        {
          "output_type": "stream",
          "name": "stdout",
          "text": [
            "they are beyond all other works that i know existing dependent for their effect on low subdued tones their favourite choice in time of day is either dawn or twilight and even their brightest sunsets are produced chiefly out of grey paper\n"
          ]
        },
        {
          "output_type": "stream",
          "name": "stderr",
          "text": [
            "\r 51%|█████▏    | 77/150 [02:20<03:25,  2.82s/it]"
          ]
        },
        {
          "output_type": "stream",
          "name": "stdout",
          "text": [
            "it may be that a great colorless person will use his utmost force of color as a singer his full power of voice but loud or low the virtue is in both cases always in refinement never in loudness\n"
          ]
        },
        {
          "output_type": "stream",
          "name": "stderr",
          "text": [
            "\r 52%|█████▏    | 78/150 [02:20<02:38,  2.20s/it]"
          ]
        },
        {
          "output_type": "stream",
          "name": "stdout",
          "text": [
            "it must remember b1 or the other\n"
          ]
        },
        {
          "output_type": "stream",
          "name": "stderr",
          "text": [
            "\r 53%|█████▎    | 79/150 [02:21<02:10,  1.84s/it]"
          ]
        },
        {
          "output_type": "stream",
          "name": "stdout",
          "text": [
            "do not think that the gothic school is an easy one\n"
          ]
        },
        {
          "output_type": "stream",
          "name": "stderr",
          "text": [
            "\r 53%|█████▎    | 80/150 [02:24<02:31,  2.17s/it]"
          ]
        },
        {
          "output_type": "stream",
          "name": "stdout",
          "text": [
            "the law of that school is that everything shall be seen clearly or at least only in such faintness as shall be delightful and i have no doubt that the best introduction to it would be the elementary practice of painting every study on a golden ground\n"
          ]
        },
        {
          "output_type": "stream",
          "name": "stderr",
          "text": [
            "\r 54%|█████▍    | 81/150 [02:28<03:01,  2.64s/it]"
          ]
        },
        {
          "output_type": "stream",
          "name": "stdout",
          "text": [
            "here is the most likely transcript\n",
            "\n",
            "this at once compels you to understand that the work is to be imaginative and decorative representing beautiful things in the clearest way but not under existing conditions and that in fact you are producing jewelers work rather than pictures\n"
          ]
        },
        {
          "output_type": "stream",
          "name": "stderr",
          "text": [
            "\r 55%|█████▍    | 82/150 [02:29<02:28,  2.19s/it]"
          ]
        },
        {
          "output_type": "stream",
          "name": "stdout",
          "text": [
            "that a style is restrained or severe does not mean that it is also erroneous\n"
          ]
        },
        {
          "output_type": "stream",
          "name": "stderr",
          "text": [
            "\r 55%|█████▌    | 83/150 [02:31<02:13,  2.00s/it]"
          ]
        },
        {
          "output_type": "stream",
          "name": "stdout",
          "text": [
            " response\n"
          ]
        },
        {
          "output_type": "stream",
          "name": "stderr",
          "text": [
            "\r 56%|█████▌    | 84/150 [02:33<02:17,  2.08s/it]"
          ]
        },
        {
          "output_type": "stream",
          "name": "stdout",
          "text": [
            "the large letter contains indeed entirely feeble and ill drawn figures which are merely childish and failing work of an inferior hand it is not characteristic of gothic or any other school\n"
          ]
        },
        {
          "output_type": "stream",
          "name": "stderr",
          "text": [
            "\r 57%|█████▋    | 85/150 [02:35<02:08,  1.97s/it]"
          ]
        },
        {
          "output_type": "stream",
          "name": "stdout",
          "text": [
            "but observe you can only do this on one condition that of striving to create in reality the beauty which you seek in imagination\n"
          ]
        },
        {
          "output_type": "stream",
          "name": "stderr",
          "text": [
            "\r 57%|█████▋    | 86/150 [02:37<02:15,  2.12s/it]"
          ]
        },
        {
          "output_type": "stream",
          "name": "stdout",
          "text": [
            "it will be wholly impossible for you to retain the tranquility of temper and felicity of faith necessary for noble purest painting unless you are actively engaged in promoting the felicity and peace of practical life\n"
          ]
        },
        {
          "output_type": "stream",
          "name": "stderr",
          "text": [
            "\r 58%|█████▊    | 87/150 [02:40<02:22,  2.27s/it]"
          ]
        },
        {
          "output_type": "stream",
          "name": "stdout",
          "text": [
            "you must look at him in the face fight him and conquer him with whatever you may need you need not think to keep out of the way of him\n"
          ]
        },
        {
          "output_type": "stream",
          "name": "stderr",
          "text": [
            "\r 59%|█████▊    | 88/150 [02:44<02:54,  2.81s/it]"
          ]
        },
        {
          "output_type": "stream",
          "name": "stdout",
          "text": [
            "the colorist says first of all as my parakeet was ruby so this nasty viper shall be black then as the question can i round him off even though he is black and make him slimy and yet springy and close down like a pool of black blood on the earth all the same\n"
          ]
        },
        {
          "output_type": "stream",
          "name": "stderr",
          "text": [
            "\r 59%|█████▉    | 89/150 [02:47<02:54,  2.86s/it]"
          ]
        },
        {
          "output_type": "stream",
          "name": "stdout",
          "text": [
            "nothing will be more precious to you i think in the practical study of art than the conviction which will force itself on you more and more every hour as you see all things are bound together little and great in spirit and in matter\n"
          ]
        },
        {
          "output_type": "stream",
          "name": "stderr",
          "text": [
            "\r 60%|██████    | 90/150 [02:48<02:28,  2.48s/it]"
          ]
        },
        {
          "output_type": "stream",
          "name": "stdout",
          "text": [
            "you know ive just been telling you how this school of materialism and clay involved itself at last in cloud and fire\n"
          ]
        },
        {
          "output_type": "stream",
          "name": "stderr",
          "text": [
            "\r 61%|██████    | 91/150 [02:55<03:42,  3.77s/it]"
          ]
        },
        {
          "output_type": "stream",
          "name": "stdout",
          "text": [
            " instruction\n",
            " instruction\n",
            "you are the trees so slightly drawn that you dont know if they are the trees so slightly drawn that you dont know if they are the trees so slightly drawn that you dont know if they are the trees so slightly drawn that you dont know if they are the trees so slightly drawn that you dont know if they are the trees so slightly drawn that you dont know if they are the trees so slightly drawn that you dont know if they are the trees so slightly drawn that you dont know if they are the trees so slightly drawn that you dont know if they are the trees so slightly drawn that you dont know if they are the trees so slightly drawn that you dont know if they are the trees so slightly drawn that you dont know if they are the trees so slightly drawn that you dont know if they are the trees so slightly drawn that you dont know if they are the trees so slightly drawn that you dont know if they are the trees so slightly drawn that you dont know if they are\n"
          ]
        },
        {
          "output_type": "stream",
          "name": "stderr",
          "text": [
            "\r 61%|██████▏   | 92/150 [02:57<03:05,  3.19s/it]"
          ]
        },
        {
          "output_type": "stream",
          "name": "stdout",
          "text": [
            "now here is raphael exactly between the two trees still drawing leaf by leaf wholly formal but beautiful mist coming gradually into the distance\n"
          ]
        },
        {
          "output_type": "stream",
          "name": "stderr",
          "text": [
            "\r 62%|██████▏   | 93/150 [03:00<02:57,  3.11s/it]"
          ]
        },
        {
          "output_type": "stream",
          "name": "stdout",
          "text": [
            "then last here is turners greek school of the highest class and you define his art as first displaying intensely and with the sternest intellect the natural form as it is and then the envelopment of it with cloud and fire\n"
          ]
        },
        {
          "output_type": "stream",
          "name": "stderr",
          "text": [
            "\r 63%|██████▎   | 94/150 [03:01<02:17,  2.45s/it]"
          ]
        },
        {
          "output_type": "stream",
          "name": "stdout",
          "text": [
            "there are only two sorts of clouds fire and not fire\n"
          ]
        },
        {
          "output_type": "stream",
          "name": "stderr",
          "text": [
            "\r 63%|██████▎   | 95/150 [03:01<01:43,  1.88s/it]"
          ]
        },
        {
          "output_type": "stream",
          "name": "stdout",
          "text": [
            "he knows them both\n"
          ]
        },
        {
          "output_type": "stream",
          "name": "stderr",
          "text": [
            "\r 64%|██████▍   | 96/150 [03:03<01:29,  1.66s/it]"
          ]
        },
        {
          "output_type": "stream",
          "name": "stdout",
          "text": [
            "there is one and there is another the dudley and the flint\n"
          ]
        },
        {
          "output_type": "stream",
          "name": "stderr",
          "text": [
            "\r 65%|██████▍   | 97/150 [03:05<01:43,  1.95s/it]"
          ]
        },
        {
          "output_type": "stream",
          "name": "stdout",
          "text": [
            "it is only a pencil outline by edward byrne jones an illustration of the story of psyche it is the introduction of psyche after all her troubles into heaven\n"
          ]
        },
        {
          "output_type": "stream",
          "name": "stderr",
          "text": [
            "\r 65%|██████▌   | 98/150 [03:06<01:29,  1.72s/it]"
          ]
        },
        {
          "output_type": "stream",
          "name": "stdout",
          "text": [
            "every plant in the grass is set to formally grow perfectly and may be realized completely\n"
          ]
        },
        {
          "output_type": "stream",
          "name": "stderr",
          "text": [
            "\r 66%|██████▌   | 99/150 [03:10<01:56,  2.27s/it]"
          ]
        },
        {
          "output_type": "stream",
          "name": "stdout",
          "text": [
            "exquisite order and universal with eternal life and light this is the faith and effort of the schools of crystal you may describe and complete their work quite literally by taking any verses of chaucer in his tender mood observing how he insists on the clearness and brightness first and then on the order\n"
          ]
        },
        {
          "output_type": "stream",
          "name": "stderr",
          "text": [
            "\r 67%|██████▋   | 100/150 [03:15<02:28,  2.97s/it]"
          ]
        },
        {
          "output_type": "stream",
          "name": "stdout",
          "text": [
            " instruction\n",
            " instruction\n",
            " instruction\n",
            " instruction\n",
            " instruction\n",
            " instruction\n",
            " instruction\n",
            " instruction\n",
            " instruction\n",
            " instruction\n",
            " instruction\n",
            " instruction\n",
            " instruction\n",
            " instruction\n",
            " instruction\n",
            " instruction\n",
            " instruction\n",
            " instruction\n",
            " instruction\n",
            " instruction\n",
            " instruction\n",
            " instruction\n",
            " instruction\n",
            " instruction\n",
            " instruction\n",
            " instruction\n",
            " instruction\n",
            " instruction\n",
            " instruction\n",
            " instruction\n",
            " instruction\n",
            " instruction\n",
            " instruction\n",
            " instruction\n",
            " instruction\n",
            " instruction\n",
            " instruction\n",
            " instruction\n",
            " instruction\n",
            " instruction\n",
            " instruction\n",
            " instruction\n",
            " instruction\n",
            " instruction\n",
            " instruction\n",
            " instruction\n",
            " instruction\n",
            " instruction\n",
            " instruction\n",
            " instruction\n",
            " instruction\n",
            " instruction\n",
            " instruction\n",
            " instruction\n",
            " instruction\n",
            " instruction\n",
            " instruction\n",
            " instruction\n",
            " instruction\n",
            " instruction\n",
            " instruction\n",
            " instruction\n",
            " instruction\n",
            " instruction\n",
            " instruction\n",
            " instruction\n",
            " instruction\n"
          ]
        },
        {
          "output_type": "stream",
          "name": "stderr",
          "text": [
            "\r 67%|██████▋   | 101/150 [03:16<02:06,  2.59s/it]"
          ]
        },
        {
          "output_type": "stream",
          "name": "stdout",
          "text": [
            "in both these high mythical subjects the surrounding nature though suffering is still dignified and beautiful\n"
          ]
        },
        {
          "output_type": "stream",
          "name": "stderr",
          "text": [
            "\r 68%|██████▊   | 102/150 [03:18<01:57,  2.46s/it]"
          ]
        },
        {
          "output_type": "stream",
          "name": "stdout",
          "text": [
            " instruction\n"
          ]
        },
        {
          "output_type": "stream",
          "name": "stderr",
          "text": [
            "\r 69%|██████▊   | 103/150 [03:23<02:30,  3.20s/it]"
          ]
        },
        {
          "output_type": "stream",
          "name": "stdout",
          "text": [
            " instruction\n",
            "you are a subject of which you will wonder at all\n",
            " instruction\n",
            "you are a subject of which you will wonder at first why turner at all\n",
            " instruction\n",
            " instruction\n",
            "you are a subject of which you will wonder at first why turner at all\n",
            " instruction\n",
            "you are a subject of which you will wonder at first why turner at all\n",
            " instruction\n",
            " instruction\n",
            " instruction\n",
            "you are a subject of which you will wonder at first why turner at all\n",
            " instruction\n",
            " instruction\n",
            "you are a subject of which you will wonder at all\n",
            " instruction\n",
            " instruction\n",
            " instruction\n",
            "you are a subject of which you will wonder at first why turner at all\n",
            " instruction\n",
            " instruction\n",
            " instruction\n",
            " instruction\n",
            " instruction\n",
            " instruction\n",
            " instruction\n",
            " instruction\n",
            " instruction\n",
            " instruction\n",
            " instruction\n",
            " instruction\n",
            " instruction\n",
            " instruction\n",
            " instruction\n",
            " instruction\n",
            " instruction\n",
            "\n"
          ]
        },
        {
          "output_type": "stream",
          "name": "stderr",
          "text": [
            "\r 69%|██████▉   | 104/150 [03:25<02:04,  2.70s/it]"
          ]
        },
        {
          "output_type": "stream",
          "name": "stdout",
          "text": [
            "it has no beauty whatsoever no specialty of picturesque quality and all its lines are cramped and poor\n"
          ]
        },
        {
          "output_type": "stream",
          "name": "stderr",
          "text": [
            "\r 70%|███████   | 105/150 [03:30<02:30,  3.34s/it]"
          ]
        },
        {
          "output_type": "stream",
          "name": "stdout",
          "text": [
            " instruction\n",
            "the and the and the and the and the and the and the and the and the and the and the and the and the and the and the and the and the and the and the and the and the and the and the and the and the and the and the and the and the and the and the and the and the and the and the and the and the and the and the and the and the and the and the and the and the and the and the and the and the and the and the and the and the and the and the and the and the and the and the and the and the and the and the and the and the and the and the and the and the and the and the and the and the and the and the and the and the and the and the and the and the and the and the and the and the and the and the and the and the and the and the and the and the and the and the and the and the and the and the\n"
          ]
        },
        {
          "output_type": "stream",
          "name": "stderr",
          "text": [
            "\r 71%|███████   | 106/150 [03:32<02:09,  2.95s/it]"
          ]
        },
        {
          "output_type": "stream",
          "name": "stdout",
          "text": [
            "it is a gleaner bringing down her one sheaf of corn to an old water mill itself mossy and rent scarcely able to get its stones to turn\n"
          ]
        },
        {
          "output_type": "stream",
          "name": "stderr",
          "text": [
            "\r 71%|███████▏  | 107/150 [03:32<01:37,  2.26s/it]"
          ]
        },
        {
          "output_type": "stream",
          "name": "stdout",
          "text": [
            "the scene is absolutely arcadian\n"
          ]
        },
        {
          "output_type": "stream",
          "name": "stderr",
          "text": [
            "\r 72%|███████▏  | 108/150 [03:33<01:19,  1.90s/it]"
          ]
        },
        {
          "output_type": "stream",
          "name": "stdout",
          "text": [
            " your task is to generate the\n"
          ]
        },
        {
          "output_type": "stream",
          "name": "stderr",
          "text": [
            "\r 73%|███████▎  | 109/150 [03:37<01:35,  2.32s/it]"
          ]
        },
        {
          "output_type": "stream",
          "name": "stdout",
          "text": [
            "it will be well for you if you join not with those who instead of kites fly falcons who instead of obeying the last words of the great cloud shepherd to feed his sheep live the lives how much less than vanity of the war wolf and the golden eagle\n"
          ]
        },
        {
          "output_type": "stream",
          "name": "stderr",
          "text": [
            "\r 73%|███████▎  | 110/150 [03:38<01:21,  2.04s/it]"
          ]
        },
        {
          "output_type": "stream",
          "name": "stdout",
          "text": [
            "also a popular contrivance whereby love making may be suspended but not stopped during the picnic season\n"
          ]
        },
        {
          "output_type": "stream",
          "name": "stderr",
          "text": [
            "\r 74%|███████▍  | 111/150 [03:39<01:05,  1.68s/it]"
          ]
        },
        {
          "output_type": "stream",
          "name": "stdout",
          "text": [
            " instruction\n",
            "the tireless\n"
          ]
        },
        {
          "output_type": "stream",
          "name": "stderr",
          "text": [
            "\r 75%|███████▍  | 112/150 [03:40<00:54,  1.44s/it]"
          ]
        },
        {
          "output_type": "stream",
          "name": "stdout",
          "text": [
            "anger is painful to hear\n"
          ]
        },
        {
          "output_type": "stream",
          "name": "stderr",
          "text": [
            "\r 75%|███████▌  | 113/150 [03:41<00:54,  1.46s/it]"
          ]
        },
        {
          "output_type": "stream",
          "name": "stdout",
          "text": [
            "hey fever a heart trouble caused by falling in love with a grass widow\n"
          ]
        },
        {
          "output_type": "stream",
          "name": "stderr",
          "text": [
            "\r 76%|███████▌  | 114/150 [03:42<00:46,  1.28s/it]"
          ]
        },
        {
          "output_type": "stream",
          "name": "stdout",
          "text": [
            "heaven is a good place to be raised to\n"
          ]
        },
        {
          "output_type": "stream",
          "name": "stderr",
          "text": [
            "\r 77%|███████▋  | 115/150 [03:44<00:47,  1.34s/it]"
          ]
        },
        {
          "output_type": "stream",
          "name": "stdout",
          "text": [
            "i think there may be a small mistake in the input it seems like there are multiple identical transcripts assuming you meant to provide different transcripts ill proceed with the selection\n",
            "\n",
            "after analyzing the input i select the most likely transcript as\n",
            "\n",
            "hedge offense\n"
          ]
        },
        {
          "output_type": "stream",
          "name": "stderr",
          "text": [
            "\r 77%|███████▋  | 116/150 [03:44<00:39,  1.16s/it]"
          ]
        },
        {
          "output_type": "stream",
          "name": "stdout",
          "text": [
            " instruction\n",
            "you are a few\n"
          ]
        },
        {
          "output_type": "stream",
          "name": "stderr",
          "text": [
            "\r 78%|███████▊  | 117/150 [03:45<00:35,  1.07s/it]"
          ]
        },
        {
          "output_type": "stream",
          "name": "stdout",
          "text": [
            " instruction\n"
          ]
        },
        {
          "output_type": "stream",
          "name": "stderr",
          "text": [
            "\r 79%|███████▊  | 118/150 [03:46<00:32,  1.01s/it]"
          ]
        },
        {
          "output_type": "stream",
          "name": "stdout",
          "text": [
            "the mans excuse for wetting the walk\n"
          ]
        },
        {
          "output_type": "stream",
          "name": "stderr",
          "text": [
            "\r 79%|███████▉  | 119/150 [03:47<00:32,  1.06s/it]"
          ]
        },
        {
          "output_type": "stream",
          "name": "stdout",
          "text": [
            "how to tell a place where a guest often gives up good dollars for poor quarters\n"
          ]
        },
        {
          "output_type": "stream",
          "name": "stderr",
          "text": [
            "\r 80%|████████  | 120/150 [03:49<00:34,  1.16s/it]"
          ]
        },
        {
          "output_type": "stream",
          "name": "stdout",
          "text": [
            "house cleaning can be a domestic upheaval that makes it easy for the government to enlist all the soldiers it needs\n"
          ]
        },
        {
          "output_type": "stream",
          "name": "stderr",
          "text": [
            "\r 81%|████████  | 121/150 [03:49<00:29,  1.01s/it]"
          ]
        },
        {
          "output_type": "stream",
          "name": "stdout",
          "text": [
            " instruction\n",
            "assistant\n"
          ]
        },
        {
          "output_type": "stream",
          "name": "stderr",
          "text": [
            "\r 81%|████████▏ | 122/150 [03:50<00:25,  1.10it/s]"
          ]
        },
        {
          "output_type": "stream",
          "name": "stdout",
          "text": [
            "hussy woman and bond tie\n"
          ]
        },
        {
          "output_type": "stream",
          "name": "stderr",
          "text": [
            "\r 82%|████████▏ | 123/150 [03:51<00:22,  1.20it/s]"
          ]
        },
        {
          "output_type": "stream",
          "name": "stdout",
          "text": [
            "tried to a woman\n"
          ]
        },
        {
          "output_type": "stream",
          "name": "stderr",
          "text": [
            "\r 83%|████████▎ | 124/150 [03:52<00:21,  1.19it/s]"
          ]
        },
        {
          "output_type": "stream",
          "name": "stdout",
          "text": [
            "here is the most likely transcript\n",
            "\n",
            "hey patrick a horse dealer\n"
          ]
        },
        {
          "output_type": "stream",
          "name": "stderr",
          "text": [
            "\r 83%|████████▎ | 125/150 [03:54<00:35,  1.41s/it]"
          ]
        },
        {
          "output_type": "stream",
          "name": "stdout",
          "text": [
            "those pretty wrongs that liberty commits when i am sometimes absent from your heart your beauty and your years for well befits for still temptation follows where you are\n"
          ]
        },
        {
          "output_type": "stream",
          "name": "stderr",
          "text": [
            "\r 84%|████████▍ | 126/150 [03:59<00:55,  2.32s/it]"
          ]
        },
        {
          "output_type": "stream",
          "name": "stdout",
          "text": [
            "assistantassistantassistantassistantassistantassistantassistantassistantassistantassistantassistantassistantassistantassistantassistantassistantassistantassistantassistantassistantassistantassistantassistantassistantassistantassistantassistantassistantassistantassistantassistantassistantassistantassistantassistantassistantassistantassistantassistantassistantassistantassistantassistantassistantassistantassistantassistantassistantassistantassistantassistantassistantassistantassistantassistantassistantassistantassistantassistantassistantassistantassistantassistantassistantassistantassistantassistantassistantassistantassistantassistantassistantassistantassistantassistantassistantassistantassistantassistantassistantassistantassistantassistantassistantassistantassistantassistantassistantassistantassistantassistantassistantassistantassistantassistantassistantassistantassistantassistantassistant\n"
          ]
        },
        {
          "output_type": "stream",
          "name": "stderr",
          "text": [
            "\r 85%|████████▍ | 127/150 [04:02<00:56,  2.45s/it]"
          ]
        },
        {
          "output_type": "stream",
          "name": "stdout",
          "text": [
            "here is the most likely transcript\n",
            "\n",
            "no matter then although my foot did stand upon the farthest earth removed from thee for a nimble thought can jump both sea and land as soon as think the place where he would be\n"
          ]
        },
        {
          "output_type": "stream",
          "name": "stderr",
          "text": [
            "\r 85%|████████▌ | 128/150 [04:08<01:20,  3.64s/it]"
          ]
        },
        {
          "output_type": "stream",
          "name": "stdout",
          "text": [
            " instruction\n",
            "you are aassistantassistantassistantassistantassistantassistantassistantassistantassistantassistantassistantassistantassistantassistantassistantassistantassistantassistantassistantassistantassistantassistantassistantassistantassistantassistantassistantassistantassistantassistantassistantassistantassistantassistantassistantassistantassistantassistantassistantassistantassistantassistantassistantassistantassistantassistantassistantassistantassistantassistantassistantassistantassistantassistantassistantassistantassistantassistantassistantassistantassistantassistantassistantassistantassistantassistantassistantassistantassistantassistantassistantassistantassistantassistantassistantassistantassistantassistantassistantassistantassistantassistantassistantassistantassistantassistantassistantassistantassistantassistantassistantassistantassistantassistantassistantassistantassistantassistantassistantassistantassistantassistantassistantassistantassistantassistantassistantassistantassistantassistantassistantassistantassistantassistantassistantassistantassistantassistantassistantassistantassistantassistantassistantassistantassistantassistantassistantassistantassistantassistantassistantassistantassistantassistantassistantassistantassistantassistantassistantassistantassistantassistantassistantassistantassistantassistantassistantassistantassistantassistantassistantassistantassistantassistantassistantassistantassistantassistantassistantassistantassistantassistantassistantassistantassistantassistantassistantassistantassistantassistantassistantassistantassistantassistantassistantassistantassistantassistantassistantassistantassistantassistantassistantassistantassistantassistantassistantassistantassistantassistantassistantassistantassistantassistant\n"
          ]
        },
        {
          "output_type": "stream",
          "name": "stderr",
          "text": [
            "\r 86%|████████▌ | 129/150 [04:10<01:08,  3.26s/it]"
          ]
        },
        {
          "output_type": "stream",
          "name": "stdout",
          "text": [
            "my heart doth plead that thou dost lie in a closet never pierced with crystal eyes but the defendant doth plead and i say in him thy fair appearance lies\n"
          ]
        },
        {
          "output_type": "stream",
          "name": "stderr",
          "text": [
            "\r 87%|████████▋ | 130/150 [04:13<01:00,  3.03s/it]"
          ]
        },
        {
          "output_type": "stream",
          "name": "stdout",
          "text": [
            "you are my all the world and i must strive to know my shame and praise from your tongue none else to me nor i to none alive that my steeled sense or changes right from wrong\n"
          ]
        },
        {
          "output_type": "stream",
          "name": "stderr",
          "text": [
            "\r 87%|████████▋ | 131/150 [04:17<01:03,  3.32s/it]"
          ]
        },
        {
          "output_type": "stream",
          "name": "stdout",
          "text": [
            "oh tis the first flattery in my scene and my great mind most kingly drinks it up i well know what with his gust is green and to his palate doth prepare the cup if it be poisoned tis the lesser sin that mine eye loves it and doth first begin\n"
          ]
        },
        {
          "output_type": "stream",
          "name": "stderr",
          "text": [
            "\r 88%|████████▊ | 132/150 [04:21<01:05,  3.63s/it]"
          ]
        },
        {
          "output_type": "stream",
          "name": "stdout",
          "text": [
            "but reckoning time whose million accidents creep in twixt vows and change decrees of kings ten sacred beauty blunt the sharpest intense diverts strong minds to the course of altering things alas why fearing of times tyranny might i not then say now i love you best when i was certain or in certainty crowning the present doubting of the rest\n"
          ]
        },
        {
          "output_type": "stream",
          "name": "stderr",
          "text": [
            "\r 89%|████████▊ | 133/150 [04:26<01:09,  4.08s/it]"
          ]
        },
        {
          "output_type": "stream",
          "name": "stdout",
          "text": [
            " instruction\n",
            "you are a full growth to give full growth to give full growth to give full growth to give full growth to give full growth to give full growth to give full growth to give full growth to give full growth to give full growth to give full growth to give full growth to give full growth to give full growth to give full growth to give full growth to give full growth to give full growth to give full growth to give full growth to give full growth to give full growth to give full growth to give full growth to give full growth to give full growth to give full growth to give full growth to give full growth to give full growth to give full growth to give full growth to give full growth to give full growth to give full growth to give full growth to give full growth to give full growth to give full growth to give full growth to give full growth to give full growth to give full growth to give full growth to give full growth to give full growth to give full growth to give full growth\n"
          ]
        },
        {
          "output_type": "stream",
          "name": "stderr",
          "text": [
            "\r 89%|████████▉ | 134/150 [04:31<01:10,  4.40s/it]"
          ]
        },
        {
          "output_type": "stream",
          "name": "stdout",
          "text": [
            " instruction\n",
            " instruction\n",
            " instruction\n",
            " instruction\n",
            " instruction\n",
            " instruction\n",
            " instruction\n",
            " instruction\n",
            " instruction\n",
            " instruction\n",
            " instruction\n",
            " instruction\n",
            " instruction\n",
            " instruction\n",
            " instruction\n",
            " instruction\n",
            " instruction\n",
            " instruction\n",
            " instruction\n",
            " instruction\n",
            " instruction\n",
            " instruction\n",
            " instruction\n",
            " instruction\n",
            " instruction\n",
            " instruction\n",
            " instruction\n",
            " instruction\n",
            " instruction\n",
            " instruction\n",
            " instruction\n",
            " instruction\n",
            " instruction\n",
            " instruction\n",
            " instruction\n",
            " instruction\n",
            " instruction\n",
            " instruction\n",
            " instruction\n",
            " instruction\n",
            " instruction\n",
            " instruction\n",
            " instruction\n",
            " instruction\n",
            " instruction\n",
            " instruction\n",
            " instruction\n",
            " instruction\n",
            " instruction\n",
            " instruction\n",
            " instruction\n",
            " instruction\n",
            " instruction\n",
            " instruction\n",
            " instruction\n",
            " instruction\n",
            " instruction\n",
            " instruction\n",
            " instruction\n",
            " instruction\n",
            " instruction\n",
            " instruction\n",
            " instruction\n",
            " instruction\n",
            " instruction\n",
            " instruction\n",
            " instruction\n"
          ]
        },
        {
          "output_type": "stream",
          "name": "stderr",
          "text": [
            "\r 90%|█████████ | 135/150 [04:33<00:52,  3.48s/it]"
          ]
        },
        {
          "output_type": "stream",
          "name": "stdout",
          "text": [
            " instruction\n"
          ]
        },
        {
          "output_type": "stream",
          "name": "stderr",
          "text": [
            "\r 91%|█████████ | 136/150 [04:38<00:54,  3.89s/it]"
          ]
        },
        {
          "output_type": "stream",
          "name": "stdout",
          "text": [
            " instruction\n",
            "assistantassistantassistantassistantassistantassistantassistantassistantassistantassistantassistantassistantassistantassistantassistantassistantassistantassistantassistantassistantassistantassistantassistantassistantassistantassistantassistantassistantassistantassistantassistantassistantassistantassistantassistantassistantassistantassistantassistantassistantassistantassistantassistantassistantassistantassistantassistantassistantassistantassistantassistantassistantassistantassistantassistantassistantassistantassistantassistantassistantassistantassistantassistantassistantassistantassistantassistantassistantassistantassistantassistantassistantassistantassistantassistantassistantassistantassistantassistantassistantassistantassistantassistantassistantassistantassistantassistantassistantassistantassistantassistantassistantassistantassistantassistantassistantassistantassistantassistant\n"
          ]
        },
        {
          "output_type": "stream",
          "name": "stderr",
          "text": [
            "\r 91%|█████████▏| 137/150 [04:40<00:44,  3.42s/it]"
          ]
        },
        {
          "output_type": "stream",
          "name": "stdout",
          "text": [
            "cried one of the women he took no notice of her he looked at me but as if instead of me he saw what he spoke of\n"
          ]
        },
        {
          "output_type": "stream",
          "name": "stderr",
          "text": [
            "\r 92%|█████████▏| 138/150 [04:42<00:34,  2.91s/it]"
          ]
        },
        {
          "output_type": "stream",
          "name": "stdout",
          "text": [
            "there was a unanimous groan at this and much reproach after which in his preoccupied way he explained\n"
          ]
        },
        {
          "output_type": "stream",
          "name": "stderr",
          "text": [
            "\r 93%|█████████▎| 139/150 [04:42<00:24,  2.20s/it]"
          ]
        },
        {
          "output_type": "stream",
          "name": "stdout",
          "text": [
            "the story was written\n"
          ]
        },
        {
          "output_type": "stream",
          "name": "stderr",
          "text": [
            "\r 93%|█████████▎| 140/150 [04:43<00:18,  1.85s/it]"
          ]
        },
        {
          "output_type": "stream",
          "name": "stdout",
          "text": [
            " instruction\n"
          ]
        },
        {
          "output_type": "stream",
          "name": "stderr",
          "text": [
            "\r 94%|█████████▍| 141/150 [04:45<00:15,  1.68s/it]"
          ]
        },
        {
          "output_type": "stream",
          "name": "stdout",
          "text": [
            "the others resented the postponement but it was just his group that was the charm to me\n"
          ]
        },
        {
          "output_type": "stream",
          "name": "stderr",
          "text": [
            "\r 95%|█████████▍| 142/150 [04:46<00:12,  1.55s/it]"
          ]
        },
        {
          "output_type": "stream",
          "name": "stdout",
          "text": [
            "to this his answer was oh thank god no and is the record yours\n"
          ]
        },
        {
          "output_type": "stream",
          "name": "stderr",
          "text": [
            "\r 95%|█████████▌| 143/150 [04:50<00:17,  2.46s/it]"
          ]
        },
        {
          "output_type": "stream",
          "name": "stdout",
          "text": [
            " instruction\n",
            "he\n",
            "he\n",
            "he\n",
            "he\n",
            "he\n",
            "he\n",
            "he\n",
            "he\n",
            "he\n",
            "he\n",
            "he\n",
            "he\n",
            "he\n",
            "he\n",
            "he\n",
            "he\n",
            "he\n",
            "he\n",
            "he\n",
            "he\n",
            "he\n",
            "he\n",
            "he\n",
            "he\n",
            "he\n",
            "he\n",
            "he\n",
            "he\n",
            "he\n",
            "he\n",
            "he\n",
            "he\n",
            "he\n",
            "he\n",
            "he\n",
            "he\n",
            "he\n",
            "he\n",
            "he\n",
            "he\n",
            "he\n",
            "he\n",
            "he\n",
            "he\n",
            "he\n",
            "he\n",
            "he\n",
            "he\n",
            "he\n",
            "he\n",
            "he\n",
            "he\n",
            "he\n",
            "he\n",
            "he\n",
            "he\n",
            "he\n",
            "he\n",
            "he\n",
            "he\n",
            "he\n",
            "he\n",
            "he\n",
            "he\n",
            "he\n",
            "he\n",
            "he\n",
            "he\n",
            "he\n",
            "he\n",
            "he\n",
            "he\n",
            "he\n",
            "he\n",
            "he\n",
            "he\n",
            "he\n",
            "he\n",
            "he\n",
            "he\n",
            "he\n",
            "he\n",
            "he\n",
            "he\n",
            "he\n",
            "he\n",
            "he\n",
            "he\n",
            "he\n",
            "he\n",
            "he\n",
            "he\n",
            "he\n",
            "he\n",
            "he\n",
            "he\n",
            "he\n",
            "he\n",
            "he\n"
          ]
        },
        {
          "output_type": "stream",
          "name": "stderr",
          "text": [
            "\r 96%|█████████▌| 144/150 [04:55<00:18,  3.15s/it]"
          ]
        },
        {
          "output_type": "stream",
          "name": "stdout",
          "text": [
            " instruction\n",
            " instruction\n",
            "you are a few 20 years\n",
            " instruction\n",
            " instruction\n",
            " instruction\n",
            " instruction\n",
            " instruction\n",
            " instruction\n",
            " instruction\n",
            " instruction\n",
            " instruction\n",
            " instruction\n",
            " instruction\n",
            " instruction\n",
            " instruction\n",
            " instruction\n",
            " instruction\n",
            " instruction\n",
            " instruction\n",
            " instruction\n",
            " instruction\n",
            " instruction\n",
            " instruction\n",
            " instruction\n",
            " instruction\n",
            " instruction\n",
            " instruction\n",
            " instruction\n",
            " instruction\n",
            " instruction\n",
            " instruction\n",
            " instruction\n",
            " instruction\n",
            " instruction\n",
            " instruction\n",
            " instruction\n",
            " instruction\n",
            " instruction\n",
            " instruction\n",
            " instruction\n",
            " instruction\n",
            " instruction\n",
            " instruction\n",
            " instruction\n",
            " instruction\n",
            " instruction\n",
            " instruction\n",
            " instruction\n",
            " instruction\n",
            " instruction\n",
            " instruction\n",
            " instruction\n",
            " instruction\n",
            " instruction\n",
            " instruction\n",
            " instruction\n",
            " instruction\n",
            " instruction\n",
            " instruction\n",
            " instruction\n",
            " instruction\n",
            " instruction\n",
            " instruction\n",
            " instruction\n",
            "\n"
          ]
        },
        {
          "output_type": "stream",
          "name": "stderr",
          "text": [
            "\r 97%|█████████▋| 145/150 [04:56<00:12,  2.48s/it]"
          ]
        },
        {
          "output_type": "stream",
          "name": "stdout",
          "text": [
            "she sent me the pages in question before she died\n"
          ]
        },
        {
          "output_type": "stream",
          "name": "stderr",
          "text": [
            "\r 97%|█████████▋| 146/150 [04:57<00:08,  2.06s/it]"
          ]
        },
        {
          "output_type": "stream",
          "name": "stdout",
          "text": [
            " instruction\n"
          ]
        },
        {
          "output_type": "stream",
          "name": "stderr",
          "text": [
            "\r 98%|█████████▊| 147/150 [04:59<00:05,  1.90s/it]"
          ]
        },
        {
          "output_type": "stream",
          "name": "stdout",
          "text": [
            "it wasnt simply that she said so but that i knew she hadnt i was sure i could see\n"
          ]
        },
        {
          "output_type": "stream",
          "name": "stderr",
          "text": [
            "\r 99%|█████████▊| 148/150 [05:00<00:03,  1.79s/it]"
          ]
        },
        {
          "output_type": "stream",
          "name": "stdout",
          "text": [
            "youre lazy judge why when you hear because the thing had been such a scare he continued to fix me\n"
          ]
        },
        {
          "output_type": "stream",
          "name": "stderr",
          "text": [
            "\r 99%|█████████▉| 149/150 [05:02<00:01,  1.72s/it]"
          ]
        },
        {
          "output_type": "stream",
          "name": "stdout",
          "text": [
            " instruction\n"
          ]
        },
        {
          "output_type": "stream",
          "name": "stderr",
          "text": [
            "100%|██████████| 150/150 [05:07<00:00,  2.05s/it]"
          ]
        },
        {
          "output_type": "stream",
          "name": "stdout",
          "text": [
            " instruction\n",
            "he quitted the fire and the fire and the fire and the fire and the fire and the fire and the fire and the fire and the fire and the fire and the fire and the fire and the fire and the fire and the fire and the fire and the fire and the fire and the fire and the fire and the fire and the fire and the fire and the fire and the fire and the fire and the fire and the fire and the fire and the fire and the fire and the fire and the fire and the fire and the fire and the fire and the fire and the fire and the fire and the fire and the fire and the fire and the fire and the fire and the fire and the fire and the fire and the fire and the fire and the fire and the fire and the fire and the fire and the fire and the fire and the fire and the fire and the fire and the fire and the fire and the fire and the fire and the fire and the fire and the fire\n"
          ]
        },
        {
          "output_type": "stream",
          "name": "stderr",
          "text": [
            "\n"
          ]
        }
      ]
    },
    {
      "cell_type": "code",
      "source": [
        "avg_wer = sum(wer_values)/len(wer_values)\n",
        "avg_wer"
      ],
      "metadata": {
        "colab": {
          "base_uri": "https://localhost:8080/"
        },
        "id": "h04suEHg83SS",
        "outputId": "552e522e-bf89-42dd-fd3c-de42519094e8"
      },
      "execution_count": 105,
      "outputs": [
        {
          "output_type": "execute_result",
          "data": {
            "text/plain": [
              "1.1133239526953995"
            ]
          },
          "metadata": {},
          "execution_count": 105
        }
      ]
    }
  ]
}