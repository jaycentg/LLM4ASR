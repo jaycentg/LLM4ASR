{
  "cells": [
    {
      "cell_type": "markdown",
      "metadata": {
        "id": "xOh1YC21K9x5"
      },
      "source": [
        "# Get the Pre-Trained Model"
      ]
    },
    {
      "cell_type": "code",
      "execution_count": null,
      "metadata": {
        "colab": {
          "base_uri": "https://localhost:8080/"
        },
        "id": "hmjlnKF9IEJw",
        "outputId": "1f93e17f-d613-4386-a603-be1818cc084b"
      },
      "outputs": [
        {
          "name": "stdout",
          "output_type": "stream",
          "text": [
            "Cloning into 'code'...\n",
            "remote: Enumerating objects: 242, done.\u001b[K\n",
            "remote: Counting objects: 100% (66/66), done.\u001b[K\n",
            "remote: Compressing objects: 100% (29/29), done.\u001b[K\n",
            "remote: Total 242 (delta 44), reused 37 (delta 37), pack-reused 176 (from 1)\u001b[K\n",
            "Receiving objects: 100% (242/242), 10.74 MiB | 11.58 MiB/s, done.\n",
            "Resolving deltas: 100% (93/93), done.\n",
            "Git LFS initialized.\n",
            "--2024-10-28 12:41:18--  https://huggingface.co/Srijith-rkr/Whispering-LLaMA/resolve/main/alpaca_a.pth\n",
            "Resolving huggingface.co (huggingface.co)... 3.165.160.61, 3.165.160.11, 3.165.160.12, ...\n",
            "Connecting to huggingface.co (huggingface.co)|3.165.160.61|:443... connected.\n",
            "HTTP request sent, awaiting response... 302 Found\n",
            "Location: https://cdn-lfs.hf.co/repos/57/fe/57fe57c6d17e96a78ef8cd228804abfdc148fd4a54af09cb7af16d14c45a6f79/e60dccf49a4aaaa4ffd87151ca2a52fbbfd9e962e0beda55306bdf3c00fe8807?response-content-disposition=inline%3B+filename*%3DUTF-8%27%27alpaca_a.pth%3B+filename%3D%22alpaca_a.pth%22%3B&Expires=1730378478&Policy=eyJTdGF0ZW1lbnQiOlt7IkNvbmRpdGlvbiI6eyJEYXRlTGVzc1RoYW4iOnsiQVdTOkVwb2NoVGltZSI6MTczMDM3ODQ3OH19LCJSZXNvdXJjZSI6Imh0dHBzOi8vY2RuLWxmcy5oZi5jby9yZXBvcy81Ny9mZS81N2ZlNTdjNmQxN2U5NmE3OGVmOGNkMjI4ODA0YWJmZGMxNDhmZDRhNTRhZjA5Y2I3YWYxNmQxNGM0NWE2Zjc5L2U2MGRjY2Y0OWE0YWFhYTRmZmQ4NzE1MWNhMmE1MmZiYmZkOWU5NjJlMGJlZGE1NTMwNmJkZjNjMDBmZTg4MDc%7EcmVzcG9uc2UtY29udGVudC1kaXNwb3NpdGlvbj0qIn1dfQ__&Signature=JWBBRetwPXrTzd-1J0iCRviAKTmoypBP360ebqCpHI7BOqPHdxjtjNzHmh1ZoZngkFULOgJBBP-q9L1RGwfYEtPPexi7du2xOr4ojYY-do0VDqIelnn2Yzoa-kDqFx1fOxiM1cWG%7Ex4c7lLA4RLEdBtVmFc6bWqbZ0BVMfSCh5vNYXT0z4qY4thCVSuDbdVKxOghEO7A0638R0F9nZdmByZWVJAWMlFRIbBhXJMBevS0piViHzszKCsk4o3BZooz8DbRu4qOebp0zE0zNNkPj9%7ErNnRbhfbkWEJhjSHXOignHP-UWBLUZAhPgnt6MSrxDNK1Yc2RgFhdDwfUl4RIwg__&Key-Pair-Id=K3RPWS32NSSJCE [following]\n",
            "--2024-10-28 12:41:18--  https://cdn-lfs.hf.co/repos/57/fe/57fe57c6d17e96a78ef8cd228804abfdc148fd4a54af09cb7af16d14c45a6f79/e60dccf49a4aaaa4ffd87151ca2a52fbbfd9e962e0beda55306bdf3c00fe8807?response-content-disposition=inline%3B+filename*%3DUTF-8%27%27alpaca_a.pth%3B+filename%3D%22alpaca_a.pth%22%3B&Expires=1730378478&Policy=eyJTdGF0ZW1lbnQiOlt7IkNvbmRpdGlvbiI6eyJEYXRlTGVzc1RoYW4iOnsiQVdTOkVwb2NoVGltZSI6MTczMDM3ODQ3OH19LCJSZXNvdXJjZSI6Imh0dHBzOi8vY2RuLWxmcy5oZi5jby9yZXBvcy81Ny9mZS81N2ZlNTdjNmQxN2U5NmE3OGVmOGNkMjI4ODA0YWJmZGMxNDhmZDRhNTRhZjA5Y2I3YWYxNmQxNGM0NWE2Zjc5L2U2MGRjY2Y0OWE0YWFhYTRmZmQ4NzE1MWNhMmE1MmZiYmZkOWU5NjJlMGJlZGE1NTMwNmJkZjNjMDBmZTg4MDc%7EcmVzcG9uc2UtY29udGVudC1kaXNwb3NpdGlvbj0qIn1dfQ__&Signature=JWBBRetwPXrTzd-1J0iCRviAKTmoypBP360ebqCpHI7BOqPHdxjtjNzHmh1ZoZngkFULOgJBBP-q9L1RGwfYEtPPexi7du2xOr4ojYY-do0VDqIelnn2Yzoa-kDqFx1fOxiM1cWG%7Ex4c7lLA4RLEdBtVmFc6bWqbZ0BVMfSCh5vNYXT0z4qY4thCVSuDbdVKxOghEO7A0638R0F9nZdmByZWVJAWMlFRIbBhXJMBevS0piViHzszKCsk4o3BZooz8DbRu4qOebp0zE0zNNkPj9%7ErNnRbhfbkWEJhjSHXOignHP-UWBLUZAhPgnt6MSrxDNK1Yc2RgFhdDwfUl4RIwg__&Key-Pair-Id=K3RPWS32NSSJCE\n",
            "Resolving cdn-lfs.hf.co (cdn-lfs.hf.co)... 18.238.217.81, 18.238.217.120, 18.238.217.113, ...\n",
            "Connecting to cdn-lfs.hf.co (cdn-lfs.hf.co)|18.238.217.81|:443... connected.\n",
            "HTTP request sent, awaiting response... 200 OK\n",
            "Length: 9412400041 (8.8G) [binary/octet-stream]\n",
            "Saving to: ‘weights/alpaca_a.pth’\n",
            "\n",
            "alpaca_a.pth        100%[===================>]   8.77G   101MB/s    in 50s     \n",
            "\n",
            "2024-10-28 12:42:08 (179 MB/s) - ‘weights/alpaca_a.pth’ saved [9412400041/9412400041]\n",
            "\n",
            "--2024-10-28 12:42:08--  https://huggingface.co/Srijith-rkr/Whispering-LLaMA/resolve/main/tokenizer.model\n",
            "Resolving huggingface.co (huggingface.co)... 3.165.160.12, 3.165.160.61, 3.165.160.59, ...\n",
            "Connecting to huggingface.co (huggingface.co)|3.165.160.12|:443... connected.\n",
            "HTTP request sent, awaiting response... 302 Found\n",
            "Location: https://cdn-lfs.hf.co/repos/57/fe/57fe57c6d17e96a78ef8cd228804abfdc148fd4a54af09cb7af16d14c45a6f79/9e556afd44213b6bd1be2b850ebbbd98f5481437a8021afaf58ee7fb1818d347?response-content-disposition=inline%3B+filename*%3DUTF-8%27%27tokenizer.model%3B+filename%3D%22tokenizer.model%22%3B&Expires=1730378529&Policy=eyJTdGF0ZW1lbnQiOlt7IkNvbmRpdGlvbiI6eyJEYXRlTGVzc1RoYW4iOnsiQVdTOkVwb2NoVGltZSI6MTczMDM3ODUyOX19LCJSZXNvdXJjZSI6Imh0dHBzOi8vY2RuLWxmcy5oZi5jby9yZXBvcy81Ny9mZS81N2ZlNTdjNmQxN2U5NmE3OGVmOGNkMjI4ODA0YWJmZGMxNDhmZDRhNTRhZjA5Y2I3YWYxNmQxNGM0NWE2Zjc5LzllNTU2YWZkNDQyMTNiNmJkMWJlMmI4NTBlYmJiZDk4ZjU0ODE0MzdhODAyMWFmYWY1OGVlN2ZiMTgxOGQzNDc%7EcmVzcG9uc2UtY29udGVudC1kaXNwb3NpdGlvbj0qIn1dfQ__&Signature=Lwy8d4acO7lecITg%7ErSS7MQk7RfxbfgBUmMQtORZ13IJIlHCSoCGedRCuHuvIOyPuu00qhYmNqgi5iTYAyf1TA8k6SzKCY%7ELTHtBnwx2%7EENjVEkq1upJvPOlE8oW42FTReJAhPUi2fDN2SwJyOTjf60e2E4A%7E%7EWN%7Eog2OnCiPSoL5nrfbPBNRHLcxa0un0CKI8x1uKI7YcJbKzFbhiDvw2er9disr7sY0KZdu7z%7ErAQDxmSLJdg9AULYoq8s-CzYgWxh837ReNjtWQG3IlbP%7Ejw1vdUPXdIH1gXRdicfUhH1lLjURULmHKSNGlTO5nMRmRZFFtvZDadYrA88hpMiMQ__&Key-Pair-Id=K3RPWS32NSSJCE [following]\n",
            "--2024-10-28 12:42:09--  https://cdn-lfs.hf.co/repos/57/fe/57fe57c6d17e96a78ef8cd228804abfdc148fd4a54af09cb7af16d14c45a6f79/9e556afd44213b6bd1be2b850ebbbd98f5481437a8021afaf58ee7fb1818d347?response-content-disposition=inline%3B+filename*%3DUTF-8%27%27tokenizer.model%3B+filename%3D%22tokenizer.model%22%3B&Expires=1730378529&Policy=eyJTdGF0ZW1lbnQiOlt7IkNvbmRpdGlvbiI6eyJEYXRlTGVzc1RoYW4iOnsiQVdTOkVwb2NoVGltZSI6MTczMDM3ODUyOX19LCJSZXNvdXJjZSI6Imh0dHBzOi8vY2RuLWxmcy5oZi5jby9yZXBvcy81Ny9mZS81N2ZlNTdjNmQxN2U5NmE3OGVmOGNkMjI4ODA0YWJmZGMxNDhmZDRhNTRhZjA5Y2I3YWYxNmQxNGM0NWE2Zjc5LzllNTU2YWZkNDQyMTNiNmJkMWJlMmI4NTBlYmJiZDk4ZjU0ODE0MzdhODAyMWFmYWY1OGVlN2ZiMTgxOGQzNDc%7EcmVzcG9uc2UtY29udGVudC1kaXNwb3NpdGlvbj0qIn1dfQ__&Signature=Lwy8d4acO7lecITg%7ErSS7MQk7RfxbfgBUmMQtORZ13IJIlHCSoCGedRCuHuvIOyPuu00qhYmNqgi5iTYAyf1TA8k6SzKCY%7ELTHtBnwx2%7EENjVEkq1upJvPOlE8oW42FTReJAhPUi2fDN2SwJyOTjf60e2E4A%7E%7EWN%7Eog2OnCiPSoL5nrfbPBNRHLcxa0un0CKI8x1uKI7YcJbKzFbhiDvw2er9disr7sY0KZdu7z%7ErAQDxmSLJdg9AULYoq8s-CzYgWxh837ReNjtWQG3IlbP%7Ejw1vdUPXdIH1gXRdicfUhH1lLjURULmHKSNGlTO5nMRmRZFFtvZDadYrA88hpMiMQ__&Key-Pair-Id=K3RPWS32NSSJCE\n",
            "Resolving cdn-lfs.hf.co (cdn-lfs.hf.co)... 18.238.217.63, 18.238.217.81, 18.238.217.120, ...\n",
            "Connecting to cdn-lfs.hf.co (cdn-lfs.hf.co)|18.238.217.63|:443... connected.\n",
            "HTTP request sent, awaiting response... 200 OK\n",
            "Length: 499723 (488K) [application/octet-stream]\n",
            "Saving to: ‘weights/tokenizer.model’\n",
            "\n",
            "tokenizer.model     100%[===================>] 488.01K  --.-KB/s    in 0.03s   \n",
            "\n",
            "2024-10-28 12:42:09 (13.9 MB/s) - ‘weights/tokenizer.model’ saved [499723/499723]\n",
            "\n"
          ]
        }
      ],
      "source": [
        "# clone the repo\n",
        "!git clone https://github.com/Srijith-rkr/Whispering-LLaMA.git code\n",
        "\n",
        "# Clone the weights and rename the folder as weights\n",
        "!git lfs install\n",
        "!mkdir weights\n",
        "!wget -P weights/ https://huggingface.co/Srijith-rkr/Whispering-LLaMA/resolve/main/alpaca_a.pth\n",
        "!wget -P weights/ https://huggingface.co/Srijith-rkr/Whispering-LLaMA/resolve/main/tokenizer.model\n",
        "# !git clone https://huggingface.co/Srijith-rkr/Whispering-LLaMA\n",
        "\n",
        "# You can also download the weights using the UI in HuggingFace from the repo 'https://huggingface.co/Srijith-rkr/Whispering-LLaMA' if you have issues with git lfs\n",
        "\n",
        "# Refer to the READ ME file to build your environment"
      ]
    },
    {
      "cell_type": "code",
      "execution_count": null,
      "metadata": {
        "id": "srZPE7Ih7Pd_"
      },
      "outputs": [],
      "source": [
        "import torch"
      ]
    },
    {
      "cell_type": "code",
      "execution_count": null,
      "metadata": {
        "colab": {
          "base_uri": "https://localhost:8080/"
        },
        "id": "I8axewOWKkTo",
        "outputId": "692e1b1b-bca7-495d-a548-7a481273de64"
      },
      "outputs": [
        {
          "name": "stderr",
          "output_type": "stream",
          "text": [
            "<ipython-input-3-ebd62394ea56>:8: FutureWarning: You are using `torch.load` with `weights_only=False` (the current default value), which uses the default pickle module implicitly. It is possible to construct malicious pickle data which will execute arbitrary code during unpickling (See https://github.com/pytorch/pytorch/blob/main/SECURITY.md#untrusted-models for more details). In a future release, the default value for `weights_only` will be flipped to `True`. This limits the functions that could be executed during unpickling. Arbitrary objects will no longer be allowed to be loaded via this mode unless they are explicitly allowlisted by the user via `torch.serialization.add_safe_globals`. We recommend you start setting `weights_only=True` for any use case where you don't have full control of the loaded file. Please open an issue on GitHub for any issues related to this experimental feature.\n",
            "  alpaca_checkpoint = torch.load('weights/alpaca_a.pth')\n"
          ]
        }
      ],
      "source": [
        "# To merge the Alpaca weigts from the HuggingFace repo we just cloned\n",
        "# a = torch.load('weights/alpaca_a.pth')\n",
        "# b = torch.load('weights/alpaca_b.pth')\n",
        "# c = torch.load('weights/alpaca_c.pth')\n",
        "\n",
        "# merging\n",
        "# alpaca_checkpoint = a|b|c\n",
        "alpaca_checkpoint = torch.load('weights/alpaca_a.pth')\n",
        "\n",
        "# saving\n",
        "# torch.save(alpaca_checkpoint,'weights/alpaca.pth')"
      ]
    },
    {
      "cell_type": "markdown",
      "metadata": {
        "id": "gdkcRs56K6Zn"
      },
      "source": [
        "# Train Code"
      ]
    },
    {
      "cell_type": "markdown",
      "metadata": {
        "id": "ymlm-41WAdhV"
      },
      "source": [
        "## Install Package"
      ]
    },
    {
      "cell_type": "code",
      "execution_count": null,
      "metadata": {
        "colab": {
          "base_uri": "https://localhost:8080/"
        },
        "id": "7oU-blcdP0q_",
        "outputId": "69a7bda3-96c0-4f20-c2d6-b2fed81d1db7"
      },
      "outputs": [
        {
          "name": "stdout",
          "output_type": "stream",
          "text": [
            "  Installing build dependencies ... \u001b[?25l\u001b[?25hdone\n",
            "  Getting requirements to build wheel ... \u001b[?25l\u001b[?25hdone\n",
            "  Preparing metadata (pyproject.toml) ... \u001b[?25l\u001b[?25hdone\n"
          ]
        }
      ],
      "source": [
        "!pip install -r code/requirementes.txt --q"
      ]
    },
    {
      "cell_type": "code",
      "execution_count": null,
      "metadata": {
        "id": "98c3zYt_QRWk"
      },
      "outputs": [],
      "source": [
        "!pip install evaluate jiwer --q"
      ]
    },
    {
      "cell_type": "code",
      "execution_count": null,
      "metadata": {
        "id": "NbtRd0MJAcsG"
      },
      "outputs": [],
      "source": [
        "!pip install --q datasets[audio]"
      ]
    },
    {
      "cell_type": "code",
      "execution_count": null,
      "metadata": {
        "colab": {
          "base_uri": "https://localhost:8080/"
        },
        "id": "4bJN6jI-An7c",
        "outputId": "996609f7-fba1-457e-a18a-8352a1ca8756"
      },
      "outputs": [
        {
          "name": "stdout",
          "output_type": "stream",
          "text": [
            "  Installing build dependencies ... \u001b[?25l\u001b[?25hdone\n",
            "  Getting requirements to build wheel ... \u001b[?25l\u001b[?25hdone\n",
            "  Preparing metadata (pyproject.toml) ... \u001b[?25l\u001b[?25hdone\n"
          ]
        }
      ],
      "source": [
        "!pip install --q git+https://github.com/huggingface/transformers.git"
      ]
    },
    {
      "cell_type": "markdown",
      "metadata": {
        "id": "PuF0YLAAAttx"
      },
      "source": [
        "## Getting the Dataset"
      ]
    },
    {
      "cell_type": "code",
      "execution_count": null,
      "metadata": {},
      "outputs": [],
      "source": [
        "from google.colab import userdata\n",
        "import os\n",
        "\n",
        "HF_TOKEN = userdata.get('HF_TOKEN')\n",
        "os.environ['HUGGINGFACEHUB_API_TOKEN'] = HF_TOKEN"
      ]
    },
    {
      "cell_type": "code",
      "execution_count": null,
      "metadata": {
        "colab": {
          "base_uri": "https://localhost:8080/"
        },
        "id": "3JjSF4CHAxXi",
        "outputId": "3400f5cf-1bcb-432c-fc38-785a3cb1663f"
      },
      "outputs": [
        {
          "name": "stdout",
          "output_type": "stream",
          "text": [
            "The token has not been saved to the git credentials helper. Pass `add_to_git_credential=True` in this function directly or `--add-to-git-credential` if using via `huggingface-cli` if you want to set the git credential as well.\n",
            "Token is valid (permission: write).\n",
            "Your token has been saved to /root/.cache/huggingface/token\n",
            "Login successful\n"
          ]
        }
      ],
      "source": [
        "!huggingface-cli login --token $HUGGINGFACEHUB_API_TOKEN"
      ]
    },
    {
      "cell_type": "code",
      "execution_count": null,
      "metadata": {
        "colab": {
          "base_uri": "https://localhost:8080/",
          "height": 269,
          "referenced_widgets": [
            "be81a932816642f1b5a9992c062babf0",
            "37baceec847e4775ae1bdd1173d70527",
            "84afc9d35f4c407780ddcde865069827",
            "0efbe61f3af44f61b249ef823e719900",
            "8e86e380d0a746c481a090b663db9d51",
            "7bf39a86d8574632b7b1e0760193c570",
            "020c83cc6edb4195aadd6ce893c2dcd2",
            "761ae5c84e814df995daa24f308f123e",
            "19467f57779044958cc8ec14cc4b1e31",
            "5f172bcb8d9841d9969476955e273bf5",
            "dbe64427ee5b4a01a1388d455fe9eff0",
            "606c5ce04bf446faaf9647db118ab666",
            "bc9e7e08ba7848d39a7414ae8bc35c85",
            "b61f324413fb4d468c27c9b431146ade",
            "d23d7f3b051447bdb16c18c7714aa356",
            "5f087d1df80c4a20b50d3a00e513ca2e",
            "0b9a79022d694c299f5bcc6cd93cbfcc",
            "434e6838256445f4983001b109f0d950",
            "5d4ca44cdd33451ca97d1e23072e040d",
            "a427a99d5db04ecbbbfaf2240a96e8bd",
            "df17efe4330949b4b77574d7c49bfd77",
            "87d6c11a9b18481fafc56a2454150275",
            "c30c4f09ffd4472f84a121e04ae9c170",
            "075c1a9e80a944a78ed98bc7ebec12ba",
            "3c5d64f691344cff9388cc8016b1b274",
            "93a5ecbd0d5143bdb0d007a5d25f4a4c",
            "9c30d752c99347a8b31826c3e50e1d53",
            "9e1e113f36504df2b2b0bb2105353e2a",
            "db30c722d417457f87216a65c063f142",
            "3bc95eeb28594c0e9abe3df301cc4276",
            "d7e1c89b46cb4b80868ba3ff9281fc31",
            "786366c9eedc42e491971dbb8a4d99b7",
            "83a81ea9e8ba430e96debc9177511f39",
            "8b69921711e04bea8e6245ab0fad32cf",
            "c848ec7a982947bab79c7ac9ce73f328",
            "1ac11019669a44a693279a06780da951",
            "5d80eb9f27d1495fbeda89e5121b41a5",
            "eeb0bafd66f74c4a93b4e825f60048c9",
            "dc1a924706544195820d315077b60d54",
            "f5d8c4e4a44e45bf9aa776807285ba06",
            "5602558c85134c1299946f37da902277",
            "68ba7c4b75f542349f5c03ff54b58144",
            "ddf9ebe11e424305a7a33a22e76fabde",
            "c3038ad5567f4b7786fe873fdf7c28ef"
          ]
        },
        "id": "1_J1UXuWAzkO",
        "outputId": "61242194-c3ce-462f-8b54-c510f8a1f89f"
      },
      "outputs": [
        {
          "name": "stderr",
          "output_type": "stream",
          "text": [
            "/usr/local/lib/python3.10/dist-packages/huggingface_hub/utils/_token.py:89: UserWarning: \n",
            "The secret `HF_TOKEN` does not exist in your Colab secrets.\n",
            "To authenticate with the Hugging Face Hub, create a token in your settings tab (https://huggingface.co/settings/tokens), set it as secret in your Google Colab and restart your session.\n",
            "You will be able to reuse this secret in all of your notebooks.\n",
            "Please note that authentication is recommended but still optional to access public models or datasets.\n",
            "  warnings.warn(\n"
          ]
        },
        {
          "data": {
            "application/vnd.jupyter.widget-view+json": {
              "model_id": "be81a932816642f1b5a9992c062babf0",
              "version_major": 2,
              "version_minor": 0
            },
            "text/plain": [
              "README.md:   0%|          | 0.00/2.73k [00:00<?, ?B/s]"
            ]
          },
          "metadata": {},
          "output_type": "display_data"
        },
        {
          "data": {
            "application/vnd.jupyter.widget-view+json": {
              "model_id": "606c5ce04bf446faaf9647db118ab666",
              "version_major": 2,
              "version_minor": 0
            },
            "text/plain": [
              "(…)ispeech_dev_clean-00000-of-00002.parquet:   0%|          | 0.00/322M [00:00<?, ?B/s]"
            ]
          },
          "metadata": {},
          "output_type": "display_data"
        },
        {
          "data": {
            "application/vnd.jupyter.widget-view+json": {
              "model_id": "c30c4f09ffd4472f84a121e04ae9c170",
              "version_major": 2,
              "version_minor": 0
            },
            "text/plain": [
              "(…)ispeech_dev_clean-00001-of-00002.parquet:   0%|          | 0.00/290M [00:00<?, ?B/s]"
            ]
          },
          "metadata": {},
          "output_type": "display_data"
        },
        {
          "data": {
            "application/vnd.jupyter.widget-view+json": {
              "model_id": "8b69921711e04bea8e6245ab0fad32cf",
              "version_major": 2,
              "version_minor": 0
            },
            "text/plain": [
              "Generating librispeech_dev_clean split:   0%|          | 0/2703 [00:00<?, ? examples/s]"
            ]
          },
          "metadata": {},
          "output_type": "display_data"
        }
      ],
      "source": [
        "from datasets import load_dataset\n",
        "\n",
        "dataset = load_dataset(\"lmms-lab/librispeech\", \"librispeech_dev_clean\", revision='848ff3c79e7be380f9b8332ae0a8c569edac666e', split='librispeech_dev_clean[10:15]')\n",
        "torch.save(dataset, \"dataset_train.pt\")\n",
        "\n",
        "dataset = load_dataset(\"lmms-lab/librispeech\", \"librispeech_dev_clean\", revision='848ff3c79e7be380f9b8332ae0a8c569edac666e', split='librispeech_dev_clean[20:25]')\n",
        "torch.save(dataset, \"dataset_test.pt\")"
      ]
    },
    {
      "cell_type": "markdown",
      "metadata": {
        "id": "ZFrYkTOzAoV1"
      },
      "source": [
        "## Train and Inference Model"
      ]
    },
    {
      "cell_type": "code",
      "execution_count": null,
      "metadata": {
        "colab": {
          "base_uri": "https://localhost:8080/"
        },
        "id": "ld0im-ZgykfW",
        "outputId": "004a361d-4062-4db7-a81f-7966e6c1aa1e"
      },
      "outputs": [
        {
          "name": "stdout",
          "output_type": "stream",
          "text": [
            "/content/code/training/WL-S.py:51: FutureWarning: You are using `torch.load` with `weights_only=False` (the current default value), which uses the default pickle module implicitly. It is possible to construct malicious pickle data which will execute arbitrary code during unpickling (See https://github.com/pytorch/pytorch/blob/main/SECURITY.md#untrusted-models for more details). In a future release, the default value for `weights_only` will be flipped to `True`. This limits the functions that could be executed during unpickling. Arbitrary objects will no longer be allowed to be loaded via this mode unless they are explicitly allowlisted by the user via `torch.serialization.add_safe_globals`. We recommend you start setting `weights_only=True` for any use case where you don't have full control of the loaded file. Please open an issue on GitHub for any issues related to this experimental feature.\n",
            "  train_data = torch.load(train_path,map_location=torch.device('cpu'))\n",
            "/content/code/training/WL-S.py:52: FutureWarning: You are using `torch.load` with `weights_only=False` (the current default value), which uses the default pickle module implicitly. It is possible to construct malicious pickle data which will execute arbitrary code during unpickling (See https://github.com/pytorch/pytorch/blob/main/SECURITY.md#untrusted-models for more details). In a future release, the default value for `weights_only` will be flipped to `True`. This limits the functions that could be executed during unpickling. Arbitrary objects will no longer be allowed to be loaded via this mode unless they are explicitly allowlisted by the user via `torch.serialization.add_safe_globals`. We recommend you start setting `weights_only=True` for any use case where you don't have full control of the loaded file. Please open an issue on GitHub for any issues related to this experimental feature.\n",
            "  val_data   = torch.load(val_path,map_location=torch.device('cpu'))\n",
            "loaded test data\n",
            "\u001b[34m\u001b[1mwandb\u001b[0m: Using wandb-core as the SDK backend. Please refer to https://wandb.me/wandb-core for more information.\n",
            "\u001b[34m\u001b[1mwandb\u001b[0m: (1) Create a W&B account\n",
            "\u001b[34m\u001b[1mwandb\u001b[0m: (2) Use an existing W&B account\n",
            "\u001b[34m\u001b[1mwandb\u001b[0m: (3) Don't visualize my results\n",
            "\u001b[34m\u001b[1mwandb\u001b[0m: Enter your choice: 3\n",
            "\u001b[34m\u001b[1mwandb\u001b[0m: You chose \"Don't visualize my results\"\n",
            "\u001b[34m\u001b[1mwandb\u001b[0m: Tracking run with wandb version 0.18.5\n",
            "\u001b[34m\u001b[1mwandb\u001b[0m: W&B syncing is set to \u001b[1m`offline`\u001b[0m in this directory.  \n",
            "\u001b[34m\u001b[1mwandb\u001b[0m: Run \u001b[1m`wandb online`\u001b[0m or set \u001b[1mWANDB_MODE=online\u001b[0m to enable cloud syncing.\n",
            "Seed set to 1337\n",
            "/content/code/training/WL-S.py:122: FutureWarning: You are using `torch.load` with `weights_only=False` (the current default value), which uses the default pickle module implicitly. It is possible to construct malicious pickle data which will execute arbitrary code during unpickling (See https://github.com/pytorch/pytorch/blob/main/SECURITY.md#untrusted-models for more details). In a future release, the default value for `weights_only` will be flipped to `True`. This limits the functions that could be executed during unpickling. Arbitrary objects will no longer be allowed to be loaded via this mode unless they are explicitly allowlisted by the user via `torch.serialization.add_safe_globals`. We recommend you start setting `weights_only=True` for any use case where you don't have full control of the loaded file. Please open an issue on GitHub for any issues related to this experimental feature.\n",
            "  checkpoint = torch.load(pretrained_path)\n",
            "loaded LLaMA checkpoint\n",
            "100%|█████████████████████████████████████| 2.87G/2.87G [02:37<00:00, 19.6MiB/s]\n",
            "^C\n"
          ]
        }
      ],
      "source": [
        "# Train model\n",
        "!python code/training/WL-S.py --lr 1e-3 --d 1 --pretrained_path 'weights/alpaca_a.pth' --tokenizer_path 'weights/tokenizer.model' --data 'dataset'"
      ]
    },
    {
      "cell_type": "code",
      "execution_count": null,
      "metadata": {
        "colab": {
          "base_uri": "https://localhost:8080/"
        },
        "id": "vZm155S3KnpY",
        "outputId": "6c0c4ba4-f693-4da4-d7ef-5839fa92b02c"
      },
      "outputs": [
        {
          "name": "stdout",
          "output_type": "stream",
          "text": [
            "The cache for model files in Transformers v4.22.0 has been updated. Migrating your old cache. This is a one-time only operation. You can interrupt this and resume the migration later on by calling `transformers.utils.move_cache()`.\n",
            "\r0it [00:00, ?it/s]\r0it [00:00, ?it/s]\n",
            "2024-10-28 12:49:21.373337: E external/local_xla/xla/stream_executor/cuda/cuda_fft.cc:485] Unable to register cuFFT factory: Attempting to register factory for plugin cuFFT when one has already been registered\n",
            "2024-10-28 12:49:21.641435: E external/local_xla/xla/stream_executor/cuda/cuda_dnn.cc:8454] Unable to register cuDNN factory: Attempting to register factory for plugin cuDNN when one has already been registered\n",
            "2024-10-28 12:49:21.712880: E external/local_xla/xla/stream_executor/cuda/cuda_blas.cc:1452] Unable to register cuBLAS factory: Attempting to register factory for plugin cuBLAS when one has already been registered\n",
            "2024-10-28 12:49:22.132548: I tensorflow/core/platform/cpu_feature_guard.cc:210] This TensorFlow binary is optimized to use available CPU instructions in performance-critical operations.\n",
            "To enable the following instructions: AVX2 FMA, in other operations, rebuild TensorFlow with the appropriate compiler flags.\n",
            "2024-10-28 12:49:23.963859: W tensorflow/compiler/tf2tensorrt/utils/py_utils.cc:38] TF-TRT Warning: Could not find TensorRT\n",
            "Downloading builder script: 100% 4.49k/4.49k [00:00<00:00, 12.8MB/s]\n",
            "/content/code/Inference/WL-S.py:53: FutureWarning: You are using `torch.load` with `weights_only=False` (the current default value), which uses the default pickle module implicitly. It is possible to construct malicious pickle data which will execute arbitrary code during unpickling (See https://github.com/pytorch/pytorch/blob/main/SECURITY.md#untrusted-models for more details). In a future release, the default value for `weights_only` will be flipped to `True`. This limits the functions that could be executed during unpickling. Arbitrary objects will no longer be allowed to be loaded via this mode unless they are explicitly allowlisted by the user via `torch.serialization.add_safe_globals`. We recommend you start setting `weights_only=True` for any use case where you don't have full control of the loaded file. Please open an issue on GitHub for any issues related to this experimental feature.\n",
            "  data   = torch.load(data_path,map_location=torch.device('cpu'))\n",
            "Loading model ...\n",
            "/content/code/Inference/WL-S.py:66: FutureWarning: You are using `torch.load` with `weights_only=False` (the current default value), which uses the default pickle module implicitly. It is possible to construct malicious pickle data which will execute arbitrary code during unpickling (See https://github.com/pytorch/pytorch/blob/main/SECURITY.md#untrusted-models for more details). In a future release, the default value for `weights_only` will be flipped to `True`. This limits the functions that could be executed during unpickling. Arbitrary objects will no longer be allowed to be loaded via this mode unless they are explicitly allowlisted by the user via `torch.serialization.add_safe_globals`. We recommend you start setting `weights_only=True` for any use case where you don't have full control of the loaded file. Please open an issue on GitHub for any issues related to this experimental feature.\n",
            "  checkpoint = torch.load(pretrained_path)\n",
            "loaded LLaMA checkpoint\n",
            "Traceback (most recent call last):\n",
            "  File \"/content/code/Inference/WL-S.py\", line 72, in <module>\n",
            "    model = LLaMA(config)\n",
            "  File \"/content/code/lit_llama/WL_S.py\", line 236, in __init__\n",
            "    h=nn.ModuleList(Block(config, i) for i in range(config.n_layer)),\n",
            "  File \"/usr/local/lib/python3.10/dist-packages/torch/nn/modules/container.py\", line 310, in __init__\n",
            "    self += modules\n",
            "  File \"/usr/local/lib/python3.10/dist-packages/torch/nn/modules/container.py\", line 359, in __iadd__\n",
            "    return self.extend(modules)\n",
            "  File \"/usr/local/lib/python3.10/dist-packages/torch/nn/modules/container.py\", line 442, in extend\n",
            "    for i, module in enumerate(modules):\n",
            "  File \"/content/code/lit_llama/WL_S.py\", line 236, in <genexpr>\n",
            "    h=nn.ModuleList(Block(config, i) for i in range(config.n_layer)),\n",
            "  File \"/content/code/lit_llama/WL_S.py\", line 200, in __init__\n",
            "    self.mlp = MLP(config)\n",
            "  File \"/content/code/lit_llama/model.py\", line 243, in __init__\n",
            "    self.c_proj = nn.Linear(n_hidden, config.n_embd, bias=False)\n",
            "  File \"/usr/local/lib/python3.10/dist-packages/torch/nn/modules/linear.py\", line 106, in __init__\n",
            "    torch.empty((out_features, in_features), **factory_kwargs)\n",
            "  File \"/usr/local/lib/python3.10/dist-packages/lightning/fabric/utilities/init.py\", line 53, in __torch_function__\n",
            "    return func(*args, **kwargs)\n",
            "  File \"/usr/local/lib/python3.10/dist-packages/torch/utils/_device.py\", line 106, in __torch_function__\n",
            "    return func(*args, **kwargs)\n",
            "torch.OutOfMemoryError: CUDA out of memory. Tried to allocate 172.00 MiB. GPU 0 has a total capacity of 14.75 GiB of which 27.06 MiB is free. Process 36757 has 14.72 GiB memory in use. Of the allocated memory 14.58 GiB is allocated by PyTorch, and 21.12 MiB is reserved by PyTorch but unallocated. If reserved but unallocated memory is large try setting PYTORCH_CUDA_ALLOC_CONF=expandable_segments:True to avoid fragmentation.  See documentation for Memory Management  (https://pytorch.org/docs/stable/notes/cuda.html#environment-variables)\n"
          ]
        }
      ],
      "source": [
        "# To inference the model\n",
        "!python code/Inference/WL-S.py --pretrained_path 'weights/alpaca_a.pth' --tokenizer_path 'weights/tokenizer.model' --data_path 'dataset_test.pt' --save_dir 'weights' --root 'code/Inference'"
      ]
    }
  ],
  "metadata": {
    "accelerator": "GPU",
    "colab": {
      "gpuType": "T4",
      "provenance": [],
      "toc_visible": true
    },
    "kernelspec": {
      "display_name": "Python 3",
      "name": "python3"
    },
    "language_info": {
      "name": "python"
    },
    "widgets": {
      "application/vnd.jupyter.widget-state+json": {
        "020c83cc6edb4195aadd6ce893c2dcd2": {
          "model_module": "@jupyter-widgets/controls",
          "model_module_version": "1.5.0",
          "model_name": "DescriptionStyleModel",
          "state": {
            "_model_module": "@jupyter-widgets/controls",
            "_model_module_version": "1.5.0",
            "_model_name": "DescriptionStyleModel",
            "_view_count": null,
            "_view_module": "@jupyter-widgets/base",
            "_view_module_version": "1.2.0",
            "_view_name": "StyleView",
            "description_width": ""
          }
        },
        "075c1a9e80a944a78ed98bc7ebec12ba": {
          "model_module": "@jupyter-widgets/controls",
          "model_module_version": "1.5.0",
          "model_name": "HTMLModel",
          "state": {
            "_dom_classes": [],
            "_model_module": "@jupyter-widgets/controls",
            "_model_module_version": "1.5.0",
            "_model_name": "HTMLModel",
            "_view_count": null,
            "_view_module": "@jupyter-widgets/controls",
            "_view_module_version": "1.5.0",
            "_view_name": "HTMLView",
            "description": "",
            "description_tooltip": null,
            "layout": "IPY_MODEL_9e1e113f36504df2b2b0bb2105353e2a",
            "placeholder": "​",
            "style": "IPY_MODEL_db30c722d417457f87216a65c063f142",
            "value": "(…)ispeech_dev_clean-00001-of-00002.parquet: 100%"
          }
        },
        "0b9a79022d694c299f5bcc6cd93cbfcc": {
          "model_module": "@jupyter-widgets/base",
          "model_module_version": "1.2.0",
          "model_name": "LayoutModel",
          "state": {
            "_model_module": "@jupyter-widgets/base",
            "_model_module_version": "1.2.0",
            "_model_name": "LayoutModel",
            "_view_count": null,
            "_view_module": "@jupyter-widgets/base",
            "_view_module_version": "1.2.0",
            "_view_name": "LayoutView",
            "align_content": null,
            "align_items": null,
            "align_self": null,
            "border": null,
            "bottom": null,
            "display": null,
            "flex": null,
            "flex_flow": null,
            "grid_area": null,
            "grid_auto_columns": null,
            "grid_auto_flow": null,
            "grid_auto_rows": null,
            "grid_column": null,
            "grid_gap": null,
            "grid_row": null,
            "grid_template_areas": null,
            "grid_template_columns": null,
            "grid_template_rows": null,
            "height": null,
            "justify_content": null,
            "justify_items": null,
            "left": null,
            "margin": null,
            "max_height": null,
            "max_width": null,
            "min_height": null,
            "min_width": null,
            "object_fit": null,
            "object_position": null,
            "order": null,
            "overflow": null,
            "overflow_x": null,
            "overflow_y": null,
            "padding": null,
            "right": null,
            "top": null,
            "visibility": null,
            "width": null
          }
        },
        "0efbe61f3af44f61b249ef823e719900": {
          "model_module": "@jupyter-widgets/controls",
          "model_module_version": "1.5.0",
          "model_name": "HTMLModel",
          "state": {
            "_dom_classes": [],
            "_model_module": "@jupyter-widgets/controls",
            "_model_module_version": "1.5.0",
            "_model_name": "HTMLModel",
            "_view_count": null,
            "_view_module": "@jupyter-widgets/controls",
            "_view_module_version": "1.5.0",
            "_view_name": "HTMLView",
            "description": "",
            "description_tooltip": null,
            "layout": "IPY_MODEL_5f172bcb8d9841d9969476955e273bf5",
            "placeholder": "​",
            "style": "IPY_MODEL_dbe64427ee5b4a01a1388d455fe9eff0",
            "value": " 2.73k/2.73k [00:00&lt;00:00, 166kB/s]"
          }
        },
        "19467f57779044958cc8ec14cc4b1e31": {
          "model_module": "@jupyter-widgets/controls",
          "model_module_version": "1.5.0",
          "model_name": "ProgressStyleModel",
          "state": {
            "_model_module": "@jupyter-widgets/controls",
            "_model_module_version": "1.5.0",
            "_model_name": "ProgressStyleModel",
            "_view_count": null,
            "_view_module": "@jupyter-widgets/base",
            "_view_module_version": "1.2.0",
            "_view_name": "StyleView",
            "bar_color": null,
            "description_width": ""
          }
        },
        "1ac11019669a44a693279a06780da951": {
          "model_module": "@jupyter-widgets/controls",
          "model_module_version": "1.5.0",
          "model_name": "FloatProgressModel",
          "state": {
            "_dom_classes": [],
            "_model_module": "@jupyter-widgets/controls",
            "_model_module_version": "1.5.0",
            "_model_name": "FloatProgressModel",
            "_view_count": null,
            "_view_module": "@jupyter-widgets/controls",
            "_view_module_version": "1.5.0",
            "_view_name": "ProgressView",
            "bar_style": "success",
            "description": "",
            "description_tooltip": null,
            "layout": "IPY_MODEL_5602558c85134c1299946f37da902277",
            "max": 2703,
            "min": 0,
            "orientation": "horizontal",
            "style": "IPY_MODEL_68ba7c4b75f542349f5c03ff54b58144",
            "value": 2703
          }
        },
        "37baceec847e4775ae1bdd1173d70527": {
          "model_module": "@jupyter-widgets/controls",
          "model_module_version": "1.5.0",
          "model_name": "HTMLModel",
          "state": {
            "_dom_classes": [],
            "_model_module": "@jupyter-widgets/controls",
            "_model_module_version": "1.5.0",
            "_model_name": "HTMLModel",
            "_view_count": null,
            "_view_module": "@jupyter-widgets/controls",
            "_view_module_version": "1.5.0",
            "_view_name": "HTMLView",
            "description": "",
            "description_tooltip": null,
            "layout": "IPY_MODEL_7bf39a86d8574632b7b1e0760193c570",
            "placeholder": "​",
            "style": "IPY_MODEL_020c83cc6edb4195aadd6ce893c2dcd2",
            "value": "README.md: 100%"
          }
        },
        "3bc95eeb28594c0e9abe3df301cc4276": {
          "model_module": "@jupyter-widgets/base",
          "model_module_version": "1.2.0",
          "model_name": "LayoutModel",
          "state": {
            "_model_module": "@jupyter-widgets/base",
            "_model_module_version": "1.2.0",
            "_model_name": "LayoutModel",
            "_view_count": null,
            "_view_module": "@jupyter-widgets/base",
            "_view_module_version": "1.2.0",
            "_view_name": "LayoutView",
            "align_content": null,
            "align_items": null,
            "align_self": null,
            "border": null,
            "bottom": null,
            "display": null,
            "flex": null,
            "flex_flow": null,
            "grid_area": null,
            "grid_auto_columns": null,
            "grid_auto_flow": null,
            "grid_auto_rows": null,
            "grid_column": null,
            "grid_gap": null,
            "grid_row": null,
            "grid_template_areas": null,
            "grid_template_columns": null,
            "grid_template_rows": null,
            "height": null,
            "justify_content": null,
            "justify_items": null,
            "left": null,
            "margin": null,
            "max_height": null,
            "max_width": null,
            "min_height": null,
            "min_width": null,
            "object_fit": null,
            "object_position": null,
            "order": null,
            "overflow": null,
            "overflow_x": null,
            "overflow_y": null,
            "padding": null,
            "right": null,
            "top": null,
            "visibility": null,
            "width": null
          }
        },
        "3c5d64f691344cff9388cc8016b1b274": {
          "model_module": "@jupyter-widgets/controls",
          "model_module_version": "1.5.0",
          "model_name": "FloatProgressModel",
          "state": {
            "_dom_classes": [],
            "_model_module": "@jupyter-widgets/controls",
            "_model_module_version": "1.5.0",
            "_model_name": "FloatProgressModel",
            "_view_count": null,
            "_view_module": "@jupyter-widgets/controls",
            "_view_module_version": "1.5.0",
            "_view_name": "ProgressView",
            "bar_style": "success",
            "description": "",
            "description_tooltip": null,
            "layout": "IPY_MODEL_3bc95eeb28594c0e9abe3df301cc4276",
            "max": 290107401,
            "min": 0,
            "orientation": "horizontal",
            "style": "IPY_MODEL_d7e1c89b46cb4b80868ba3ff9281fc31",
            "value": 290107401
          }
        },
        "434e6838256445f4983001b109f0d950": {
          "model_module": "@jupyter-widgets/controls",
          "model_module_version": "1.5.0",
          "model_name": "DescriptionStyleModel",
          "state": {
            "_model_module": "@jupyter-widgets/controls",
            "_model_module_version": "1.5.0",
            "_model_name": "DescriptionStyleModel",
            "_view_count": null,
            "_view_module": "@jupyter-widgets/base",
            "_view_module_version": "1.2.0",
            "_view_name": "StyleView",
            "description_width": ""
          }
        },
        "5602558c85134c1299946f37da902277": {
          "model_module": "@jupyter-widgets/base",
          "model_module_version": "1.2.0",
          "model_name": "LayoutModel",
          "state": {
            "_model_module": "@jupyter-widgets/base",
            "_model_module_version": "1.2.0",
            "_model_name": "LayoutModel",
            "_view_count": null,
            "_view_module": "@jupyter-widgets/base",
            "_view_module_version": "1.2.0",
            "_view_name": "LayoutView",
            "align_content": null,
            "align_items": null,
            "align_self": null,
            "border": null,
            "bottom": null,
            "display": null,
            "flex": null,
            "flex_flow": null,
            "grid_area": null,
            "grid_auto_columns": null,
            "grid_auto_flow": null,
            "grid_auto_rows": null,
            "grid_column": null,
            "grid_gap": null,
            "grid_row": null,
            "grid_template_areas": null,
            "grid_template_columns": null,
            "grid_template_rows": null,
            "height": null,
            "justify_content": null,
            "justify_items": null,
            "left": null,
            "margin": null,
            "max_height": null,
            "max_width": null,
            "min_height": null,
            "min_width": null,
            "object_fit": null,
            "object_position": null,
            "order": null,
            "overflow": null,
            "overflow_x": null,
            "overflow_y": null,
            "padding": null,
            "right": null,
            "top": null,
            "visibility": null,
            "width": null
          }
        },
        "5d4ca44cdd33451ca97d1e23072e040d": {
          "model_module": "@jupyter-widgets/base",
          "model_module_version": "1.2.0",
          "model_name": "LayoutModel",
          "state": {
            "_model_module": "@jupyter-widgets/base",
            "_model_module_version": "1.2.0",
            "_model_name": "LayoutModel",
            "_view_count": null,
            "_view_module": "@jupyter-widgets/base",
            "_view_module_version": "1.2.0",
            "_view_name": "LayoutView",
            "align_content": null,
            "align_items": null,
            "align_self": null,
            "border": null,
            "bottom": null,
            "display": null,
            "flex": null,
            "flex_flow": null,
            "grid_area": null,
            "grid_auto_columns": null,
            "grid_auto_flow": null,
            "grid_auto_rows": null,
            "grid_column": null,
            "grid_gap": null,
            "grid_row": null,
            "grid_template_areas": null,
            "grid_template_columns": null,
            "grid_template_rows": null,
            "height": null,
            "justify_content": null,
            "justify_items": null,
            "left": null,
            "margin": null,
            "max_height": null,
            "max_width": null,
            "min_height": null,
            "min_width": null,
            "object_fit": null,
            "object_position": null,
            "order": null,
            "overflow": null,
            "overflow_x": null,
            "overflow_y": null,
            "padding": null,
            "right": null,
            "top": null,
            "visibility": null,
            "width": null
          }
        },
        "5d80eb9f27d1495fbeda89e5121b41a5": {
          "model_module": "@jupyter-widgets/controls",
          "model_module_version": "1.5.0",
          "model_name": "HTMLModel",
          "state": {
            "_dom_classes": [],
            "_model_module": "@jupyter-widgets/controls",
            "_model_module_version": "1.5.0",
            "_model_name": "HTMLModel",
            "_view_count": null,
            "_view_module": "@jupyter-widgets/controls",
            "_view_module_version": "1.5.0",
            "_view_name": "HTMLView",
            "description": "",
            "description_tooltip": null,
            "layout": "IPY_MODEL_ddf9ebe11e424305a7a33a22e76fabde",
            "placeholder": "​",
            "style": "IPY_MODEL_c3038ad5567f4b7786fe873fdf7c28ef",
            "value": " 2703/2703 [00:02&lt;00:00, 1177.83 examples/s]"
          }
        },
        "5f087d1df80c4a20b50d3a00e513ca2e": {
          "model_module": "@jupyter-widgets/base",
          "model_module_version": "1.2.0",
          "model_name": "LayoutModel",
          "state": {
            "_model_module": "@jupyter-widgets/base",
            "_model_module_version": "1.2.0",
            "_model_name": "LayoutModel",
            "_view_count": null,
            "_view_module": "@jupyter-widgets/base",
            "_view_module_version": "1.2.0",
            "_view_name": "LayoutView",
            "align_content": null,
            "align_items": null,
            "align_self": null,
            "border": null,
            "bottom": null,
            "display": null,
            "flex": null,
            "flex_flow": null,
            "grid_area": null,
            "grid_auto_columns": null,
            "grid_auto_flow": null,
            "grid_auto_rows": null,
            "grid_column": null,
            "grid_gap": null,
            "grid_row": null,
            "grid_template_areas": null,
            "grid_template_columns": null,
            "grid_template_rows": null,
            "height": null,
            "justify_content": null,
            "justify_items": null,
            "left": null,
            "margin": null,
            "max_height": null,
            "max_width": null,
            "min_height": null,
            "min_width": null,
            "object_fit": null,
            "object_position": null,
            "order": null,
            "overflow": null,
            "overflow_x": null,
            "overflow_y": null,
            "padding": null,
            "right": null,
            "top": null,
            "visibility": null,
            "width": null
          }
        },
        "5f172bcb8d9841d9969476955e273bf5": {
          "model_module": "@jupyter-widgets/base",
          "model_module_version": "1.2.0",
          "model_name": "LayoutModel",
          "state": {
            "_model_module": "@jupyter-widgets/base",
            "_model_module_version": "1.2.0",
            "_model_name": "LayoutModel",
            "_view_count": null,
            "_view_module": "@jupyter-widgets/base",
            "_view_module_version": "1.2.0",
            "_view_name": "LayoutView",
            "align_content": null,
            "align_items": null,
            "align_self": null,
            "border": null,
            "bottom": null,
            "display": null,
            "flex": null,
            "flex_flow": null,
            "grid_area": null,
            "grid_auto_columns": null,
            "grid_auto_flow": null,
            "grid_auto_rows": null,
            "grid_column": null,
            "grid_gap": null,
            "grid_row": null,
            "grid_template_areas": null,
            "grid_template_columns": null,
            "grid_template_rows": null,
            "height": null,
            "justify_content": null,
            "justify_items": null,
            "left": null,
            "margin": null,
            "max_height": null,
            "max_width": null,
            "min_height": null,
            "min_width": null,
            "object_fit": null,
            "object_position": null,
            "order": null,
            "overflow": null,
            "overflow_x": null,
            "overflow_y": null,
            "padding": null,
            "right": null,
            "top": null,
            "visibility": null,
            "width": null
          }
        },
        "606c5ce04bf446faaf9647db118ab666": {
          "model_module": "@jupyter-widgets/controls",
          "model_module_version": "1.5.0",
          "model_name": "HBoxModel",
          "state": {
            "_dom_classes": [],
            "_model_module": "@jupyter-widgets/controls",
            "_model_module_version": "1.5.0",
            "_model_name": "HBoxModel",
            "_view_count": null,
            "_view_module": "@jupyter-widgets/controls",
            "_view_module_version": "1.5.0",
            "_view_name": "HBoxView",
            "box_style": "",
            "children": [
              "IPY_MODEL_bc9e7e08ba7848d39a7414ae8bc35c85",
              "IPY_MODEL_b61f324413fb4d468c27c9b431146ade",
              "IPY_MODEL_d23d7f3b051447bdb16c18c7714aa356"
            ],
            "layout": "IPY_MODEL_5f087d1df80c4a20b50d3a00e513ca2e"
          }
        },
        "68ba7c4b75f542349f5c03ff54b58144": {
          "model_module": "@jupyter-widgets/controls",
          "model_module_version": "1.5.0",
          "model_name": "ProgressStyleModel",
          "state": {
            "_model_module": "@jupyter-widgets/controls",
            "_model_module_version": "1.5.0",
            "_model_name": "ProgressStyleModel",
            "_view_count": null,
            "_view_module": "@jupyter-widgets/base",
            "_view_module_version": "1.2.0",
            "_view_name": "StyleView",
            "bar_color": null,
            "description_width": ""
          }
        },
        "761ae5c84e814df995daa24f308f123e": {
          "model_module": "@jupyter-widgets/base",
          "model_module_version": "1.2.0",
          "model_name": "LayoutModel",
          "state": {
            "_model_module": "@jupyter-widgets/base",
            "_model_module_version": "1.2.0",
            "_model_name": "LayoutModel",
            "_view_count": null,
            "_view_module": "@jupyter-widgets/base",
            "_view_module_version": "1.2.0",
            "_view_name": "LayoutView",
            "align_content": null,
            "align_items": null,
            "align_self": null,
            "border": null,
            "bottom": null,
            "display": null,
            "flex": null,
            "flex_flow": null,
            "grid_area": null,
            "grid_auto_columns": null,
            "grid_auto_flow": null,
            "grid_auto_rows": null,
            "grid_column": null,
            "grid_gap": null,
            "grid_row": null,
            "grid_template_areas": null,
            "grid_template_columns": null,
            "grid_template_rows": null,
            "height": null,
            "justify_content": null,
            "justify_items": null,
            "left": null,
            "margin": null,
            "max_height": null,
            "max_width": null,
            "min_height": null,
            "min_width": null,
            "object_fit": null,
            "object_position": null,
            "order": null,
            "overflow": null,
            "overflow_x": null,
            "overflow_y": null,
            "padding": null,
            "right": null,
            "top": null,
            "visibility": null,
            "width": null
          }
        },
        "786366c9eedc42e491971dbb8a4d99b7": {
          "model_module": "@jupyter-widgets/base",
          "model_module_version": "1.2.0",
          "model_name": "LayoutModel",
          "state": {
            "_model_module": "@jupyter-widgets/base",
            "_model_module_version": "1.2.0",
            "_model_name": "LayoutModel",
            "_view_count": null,
            "_view_module": "@jupyter-widgets/base",
            "_view_module_version": "1.2.0",
            "_view_name": "LayoutView",
            "align_content": null,
            "align_items": null,
            "align_self": null,
            "border": null,
            "bottom": null,
            "display": null,
            "flex": null,
            "flex_flow": null,
            "grid_area": null,
            "grid_auto_columns": null,
            "grid_auto_flow": null,
            "grid_auto_rows": null,
            "grid_column": null,
            "grid_gap": null,
            "grid_row": null,
            "grid_template_areas": null,
            "grid_template_columns": null,
            "grid_template_rows": null,
            "height": null,
            "justify_content": null,
            "justify_items": null,
            "left": null,
            "margin": null,
            "max_height": null,
            "max_width": null,
            "min_height": null,
            "min_width": null,
            "object_fit": null,
            "object_position": null,
            "order": null,
            "overflow": null,
            "overflow_x": null,
            "overflow_y": null,
            "padding": null,
            "right": null,
            "top": null,
            "visibility": null,
            "width": null
          }
        },
        "7bf39a86d8574632b7b1e0760193c570": {
          "model_module": "@jupyter-widgets/base",
          "model_module_version": "1.2.0",
          "model_name": "LayoutModel",
          "state": {
            "_model_module": "@jupyter-widgets/base",
            "_model_module_version": "1.2.0",
            "_model_name": "LayoutModel",
            "_view_count": null,
            "_view_module": "@jupyter-widgets/base",
            "_view_module_version": "1.2.0",
            "_view_name": "LayoutView",
            "align_content": null,
            "align_items": null,
            "align_self": null,
            "border": null,
            "bottom": null,
            "display": null,
            "flex": null,
            "flex_flow": null,
            "grid_area": null,
            "grid_auto_columns": null,
            "grid_auto_flow": null,
            "grid_auto_rows": null,
            "grid_column": null,
            "grid_gap": null,
            "grid_row": null,
            "grid_template_areas": null,
            "grid_template_columns": null,
            "grid_template_rows": null,
            "height": null,
            "justify_content": null,
            "justify_items": null,
            "left": null,
            "margin": null,
            "max_height": null,
            "max_width": null,
            "min_height": null,
            "min_width": null,
            "object_fit": null,
            "object_position": null,
            "order": null,
            "overflow": null,
            "overflow_x": null,
            "overflow_y": null,
            "padding": null,
            "right": null,
            "top": null,
            "visibility": null,
            "width": null
          }
        },
        "83a81ea9e8ba430e96debc9177511f39": {
          "model_module": "@jupyter-widgets/controls",
          "model_module_version": "1.5.0",
          "model_name": "DescriptionStyleModel",
          "state": {
            "_model_module": "@jupyter-widgets/controls",
            "_model_module_version": "1.5.0",
            "_model_name": "DescriptionStyleModel",
            "_view_count": null,
            "_view_module": "@jupyter-widgets/base",
            "_view_module_version": "1.2.0",
            "_view_name": "StyleView",
            "description_width": ""
          }
        },
        "84afc9d35f4c407780ddcde865069827": {
          "model_module": "@jupyter-widgets/controls",
          "model_module_version": "1.5.0",
          "model_name": "FloatProgressModel",
          "state": {
            "_dom_classes": [],
            "_model_module": "@jupyter-widgets/controls",
            "_model_module_version": "1.5.0",
            "_model_name": "FloatProgressModel",
            "_view_count": null,
            "_view_module": "@jupyter-widgets/controls",
            "_view_module_version": "1.5.0",
            "_view_name": "ProgressView",
            "bar_style": "success",
            "description": "",
            "description_tooltip": null,
            "layout": "IPY_MODEL_761ae5c84e814df995daa24f308f123e",
            "max": 2730,
            "min": 0,
            "orientation": "horizontal",
            "style": "IPY_MODEL_19467f57779044958cc8ec14cc4b1e31",
            "value": 2730
          }
        },
        "87d6c11a9b18481fafc56a2454150275": {
          "model_module": "@jupyter-widgets/controls",
          "model_module_version": "1.5.0",
          "model_name": "DescriptionStyleModel",
          "state": {
            "_model_module": "@jupyter-widgets/controls",
            "_model_module_version": "1.5.0",
            "_model_name": "DescriptionStyleModel",
            "_view_count": null,
            "_view_module": "@jupyter-widgets/base",
            "_view_module_version": "1.2.0",
            "_view_name": "StyleView",
            "description_width": ""
          }
        },
        "8b69921711e04bea8e6245ab0fad32cf": {
          "model_module": "@jupyter-widgets/controls",
          "model_module_version": "1.5.0",
          "model_name": "HBoxModel",
          "state": {
            "_dom_classes": [],
            "_model_module": "@jupyter-widgets/controls",
            "_model_module_version": "1.5.0",
            "_model_name": "HBoxModel",
            "_view_count": null,
            "_view_module": "@jupyter-widgets/controls",
            "_view_module_version": "1.5.0",
            "_view_name": "HBoxView",
            "box_style": "",
            "children": [
              "IPY_MODEL_c848ec7a982947bab79c7ac9ce73f328",
              "IPY_MODEL_1ac11019669a44a693279a06780da951",
              "IPY_MODEL_5d80eb9f27d1495fbeda89e5121b41a5"
            ],
            "layout": "IPY_MODEL_eeb0bafd66f74c4a93b4e825f60048c9"
          }
        },
        "8e86e380d0a746c481a090b663db9d51": {
          "model_module": "@jupyter-widgets/base",
          "model_module_version": "1.2.0",
          "model_name": "LayoutModel",
          "state": {
            "_model_module": "@jupyter-widgets/base",
            "_model_module_version": "1.2.0",
            "_model_name": "LayoutModel",
            "_view_count": null,
            "_view_module": "@jupyter-widgets/base",
            "_view_module_version": "1.2.0",
            "_view_name": "LayoutView",
            "align_content": null,
            "align_items": null,
            "align_self": null,
            "border": null,
            "bottom": null,
            "display": null,
            "flex": null,
            "flex_flow": null,
            "grid_area": null,
            "grid_auto_columns": null,
            "grid_auto_flow": null,
            "grid_auto_rows": null,
            "grid_column": null,
            "grid_gap": null,
            "grid_row": null,
            "grid_template_areas": null,
            "grid_template_columns": null,
            "grid_template_rows": null,
            "height": null,
            "justify_content": null,
            "justify_items": null,
            "left": null,
            "margin": null,
            "max_height": null,
            "max_width": null,
            "min_height": null,
            "min_width": null,
            "object_fit": null,
            "object_position": null,
            "order": null,
            "overflow": null,
            "overflow_x": null,
            "overflow_y": null,
            "padding": null,
            "right": null,
            "top": null,
            "visibility": null,
            "width": null
          }
        },
        "93a5ecbd0d5143bdb0d007a5d25f4a4c": {
          "model_module": "@jupyter-widgets/controls",
          "model_module_version": "1.5.0",
          "model_name": "HTMLModel",
          "state": {
            "_dom_classes": [],
            "_model_module": "@jupyter-widgets/controls",
            "_model_module_version": "1.5.0",
            "_model_name": "HTMLModel",
            "_view_count": null,
            "_view_module": "@jupyter-widgets/controls",
            "_view_module_version": "1.5.0",
            "_view_name": "HTMLView",
            "description": "",
            "description_tooltip": null,
            "layout": "IPY_MODEL_786366c9eedc42e491971dbb8a4d99b7",
            "placeholder": "​",
            "style": "IPY_MODEL_83a81ea9e8ba430e96debc9177511f39",
            "value": " 290M/290M [00:06&lt;00:00, 43.0MB/s]"
          }
        },
        "9c30d752c99347a8b31826c3e50e1d53": {
          "model_module": "@jupyter-widgets/base",
          "model_module_version": "1.2.0",
          "model_name": "LayoutModel",
          "state": {
            "_model_module": "@jupyter-widgets/base",
            "_model_module_version": "1.2.0",
            "_model_name": "LayoutModel",
            "_view_count": null,
            "_view_module": "@jupyter-widgets/base",
            "_view_module_version": "1.2.0",
            "_view_name": "LayoutView",
            "align_content": null,
            "align_items": null,
            "align_self": null,
            "border": null,
            "bottom": null,
            "display": null,
            "flex": null,
            "flex_flow": null,
            "grid_area": null,
            "grid_auto_columns": null,
            "grid_auto_flow": null,
            "grid_auto_rows": null,
            "grid_column": null,
            "grid_gap": null,
            "grid_row": null,
            "grid_template_areas": null,
            "grid_template_columns": null,
            "grid_template_rows": null,
            "height": null,
            "justify_content": null,
            "justify_items": null,
            "left": null,
            "margin": null,
            "max_height": null,
            "max_width": null,
            "min_height": null,
            "min_width": null,
            "object_fit": null,
            "object_position": null,
            "order": null,
            "overflow": null,
            "overflow_x": null,
            "overflow_y": null,
            "padding": null,
            "right": null,
            "top": null,
            "visibility": null,
            "width": null
          }
        },
        "9e1e113f36504df2b2b0bb2105353e2a": {
          "model_module": "@jupyter-widgets/base",
          "model_module_version": "1.2.0",
          "model_name": "LayoutModel",
          "state": {
            "_model_module": "@jupyter-widgets/base",
            "_model_module_version": "1.2.0",
            "_model_name": "LayoutModel",
            "_view_count": null,
            "_view_module": "@jupyter-widgets/base",
            "_view_module_version": "1.2.0",
            "_view_name": "LayoutView",
            "align_content": null,
            "align_items": null,
            "align_self": null,
            "border": null,
            "bottom": null,
            "display": null,
            "flex": null,
            "flex_flow": null,
            "grid_area": null,
            "grid_auto_columns": null,
            "grid_auto_flow": null,
            "grid_auto_rows": null,
            "grid_column": null,
            "grid_gap": null,
            "grid_row": null,
            "grid_template_areas": null,
            "grid_template_columns": null,
            "grid_template_rows": null,
            "height": null,
            "justify_content": null,
            "justify_items": null,
            "left": null,
            "margin": null,
            "max_height": null,
            "max_width": null,
            "min_height": null,
            "min_width": null,
            "object_fit": null,
            "object_position": null,
            "order": null,
            "overflow": null,
            "overflow_x": null,
            "overflow_y": null,
            "padding": null,
            "right": null,
            "top": null,
            "visibility": null,
            "width": null
          }
        },
        "a427a99d5db04ecbbbfaf2240a96e8bd": {
          "model_module": "@jupyter-widgets/controls",
          "model_module_version": "1.5.0",
          "model_name": "ProgressStyleModel",
          "state": {
            "_model_module": "@jupyter-widgets/controls",
            "_model_module_version": "1.5.0",
            "_model_name": "ProgressStyleModel",
            "_view_count": null,
            "_view_module": "@jupyter-widgets/base",
            "_view_module_version": "1.2.0",
            "_view_name": "StyleView",
            "bar_color": null,
            "description_width": ""
          }
        },
        "b61f324413fb4d468c27c9b431146ade": {
          "model_module": "@jupyter-widgets/controls",
          "model_module_version": "1.5.0",
          "model_name": "FloatProgressModel",
          "state": {
            "_dom_classes": [],
            "_model_module": "@jupyter-widgets/controls",
            "_model_module_version": "1.5.0",
            "_model_name": "FloatProgressModel",
            "_view_count": null,
            "_view_module": "@jupyter-widgets/controls",
            "_view_module_version": "1.5.0",
            "_view_name": "ProgressView",
            "bar_style": "success",
            "description": "",
            "description_tooltip": null,
            "layout": "IPY_MODEL_5d4ca44cdd33451ca97d1e23072e040d",
            "max": 321778083,
            "min": 0,
            "orientation": "horizontal",
            "style": "IPY_MODEL_a427a99d5db04ecbbbfaf2240a96e8bd",
            "value": 321778083
          }
        },
        "bc9e7e08ba7848d39a7414ae8bc35c85": {
          "model_module": "@jupyter-widgets/controls",
          "model_module_version": "1.5.0",
          "model_name": "HTMLModel",
          "state": {
            "_dom_classes": [],
            "_model_module": "@jupyter-widgets/controls",
            "_model_module_version": "1.5.0",
            "_model_name": "HTMLModel",
            "_view_count": null,
            "_view_module": "@jupyter-widgets/controls",
            "_view_module_version": "1.5.0",
            "_view_name": "HTMLView",
            "description": "",
            "description_tooltip": null,
            "layout": "IPY_MODEL_0b9a79022d694c299f5bcc6cd93cbfcc",
            "placeholder": "​",
            "style": "IPY_MODEL_434e6838256445f4983001b109f0d950",
            "value": "(…)ispeech_dev_clean-00000-of-00002.parquet: 100%"
          }
        },
        "be81a932816642f1b5a9992c062babf0": {
          "model_module": "@jupyter-widgets/controls",
          "model_module_version": "1.5.0",
          "model_name": "HBoxModel",
          "state": {
            "_dom_classes": [],
            "_model_module": "@jupyter-widgets/controls",
            "_model_module_version": "1.5.0",
            "_model_name": "HBoxModel",
            "_view_count": null,
            "_view_module": "@jupyter-widgets/controls",
            "_view_module_version": "1.5.0",
            "_view_name": "HBoxView",
            "box_style": "",
            "children": [
              "IPY_MODEL_37baceec847e4775ae1bdd1173d70527",
              "IPY_MODEL_84afc9d35f4c407780ddcde865069827",
              "IPY_MODEL_0efbe61f3af44f61b249ef823e719900"
            ],
            "layout": "IPY_MODEL_8e86e380d0a746c481a090b663db9d51"
          }
        },
        "c3038ad5567f4b7786fe873fdf7c28ef": {
          "model_module": "@jupyter-widgets/controls",
          "model_module_version": "1.5.0",
          "model_name": "DescriptionStyleModel",
          "state": {
            "_model_module": "@jupyter-widgets/controls",
            "_model_module_version": "1.5.0",
            "_model_name": "DescriptionStyleModel",
            "_view_count": null,
            "_view_module": "@jupyter-widgets/base",
            "_view_module_version": "1.2.0",
            "_view_name": "StyleView",
            "description_width": ""
          }
        },
        "c30c4f09ffd4472f84a121e04ae9c170": {
          "model_module": "@jupyter-widgets/controls",
          "model_module_version": "1.5.0",
          "model_name": "HBoxModel",
          "state": {
            "_dom_classes": [],
            "_model_module": "@jupyter-widgets/controls",
            "_model_module_version": "1.5.0",
            "_model_name": "HBoxModel",
            "_view_count": null,
            "_view_module": "@jupyter-widgets/controls",
            "_view_module_version": "1.5.0",
            "_view_name": "HBoxView",
            "box_style": "",
            "children": [
              "IPY_MODEL_075c1a9e80a944a78ed98bc7ebec12ba",
              "IPY_MODEL_3c5d64f691344cff9388cc8016b1b274",
              "IPY_MODEL_93a5ecbd0d5143bdb0d007a5d25f4a4c"
            ],
            "layout": "IPY_MODEL_9c30d752c99347a8b31826c3e50e1d53"
          }
        },
        "c848ec7a982947bab79c7ac9ce73f328": {
          "model_module": "@jupyter-widgets/controls",
          "model_module_version": "1.5.0",
          "model_name": "HTMLModel",
          "state": {
            "_dom_classes": [],
            "_model_module": "@jupyter-widgets/controls",
            "_model_module_version": "1.5.0",
            "_model_name": "HTMLModel",
            "_view_count": null,
            "_view_module": "@jupyter-widgets/controls",
            "_view_module_version": "1.5.0",
            "_view_name": "HTMLView",
            "description": "",
            "description_tooltip": null,
            "layout": "IPY_MODEL_dc1a924706544195820d315077b60d54",
            "placeholder": "​",
            "style": "IPY_MODEL_f5d8c4e4a44e45bf9aa776807285ba06",
            "value": "Generating librispeech_dev_clean split: 100%"
          }
        },
        "d23d7f3b051447bdb16c18c7714aa356": {
          "model_module": "@jupyter-widgets/controls",
          "model_module_version": "1.5.0",
          "model_name": "HTMLModel",
          "state": {
            "_dom_classes": [],
            "_model_module": "@jupyter-widgets/controls",
            "_model_module_version": "1.5.0",
            "_model_name": "HTMLModel",
            "_view_count": null,
            "_view_module": "@jupyter-widgets/controls",
            "_view_module_version": "1.5.0",
            "_view_name": "HTMLView",
            "description": "",
            "description_tooltip": null,
            "layout": "IPY_MODEL_df17efe4330949b4b77574d7c49bfd77",
            "placeholder": "​",
            "style": "IPY_MODEL_87d6c11a9b18481fafc56a2454150275",
            "value": " 322M/322M [00:07&lt;00:00, 42.8MB/s]"
          }
        },
        "d7e1c89b46cb4b80868ba3ff9281fc31": {
          "model_module": "@jupyter-widgets/controls",
          "model_module_version": "1.5.0",
          "model_name": "ProgressStyleModel",
          "state": {
            "_model_module": "@jupyter-widgets/controls",
            "_model_module_version": "1.5.0",
            "_model_name": "ProgressStyleModel",
            "_view_count": null,
            "_view_module": "@jupyter-widgets/base",
            "_view_module_version": "1.2.0",
            "_view_name": "StyleView",
            "bar_color": null,
            "description_width": ""
          }
        },
        "db30c722d417457f87216a65c063f142": {
          "model_module": "@jupyter-widgets/controls",
          "model_module_version": "1.5.0",
          "model_name": "DescriptionStyleModel",
          "state": {
            "_model_module": "@jupyter-widgets/controls",
            "_model_module_version": "1.5.0",
            "_model_name": "DescriptionStyleModel",
            "_view_count": null,
            "_view_module": "@jupyter-widgets/base",
            "_view_module_version": "1.2.0",
            "_view_name": "StyleView",
            "description_width": ""
          }
        },
        "dbe64427ee5b4a01a1388d455fe9eff0": {
          "model_module": "@jupyter-widgets/controls",
          "model_module_version": "1.5.0",
          "model_name": "DescriptionStyleModel",
          "state": {
            "_model_module": "@jupyter-widgets/controls",
            "_model_module_version": "1.5.0",
            "_model_name": "DescriptionStyleModel",
            "_view_count": null,
            "_view_module": "@jupyter-widgets/base",
            "_view_module_version": "1.2.0",
            "_view_name": "StyleView",
            "description_width": ""
          }
        },
        "dc1a924706544195820d315077b60d54": {
          "model_module": "@jupyter-widgets/base",
          "model_module_version": "1.2.0",
          "model_name": "LayoutModel",
          "state": {
            "_model_module": "@jupyter-widgets/base",
            "_model_module_version": "1.2.0",
            "_model_name": "LayoutModel",
            "_view_count": null,
            "_view_module": "@jupyter-widgets/base",
            "_view_module_version": "1.2.0",
            "_view_name": "LayoutView",
            "align_content": null,
            "align_items": null,
            "align_self": null,
            "border": null,
            "bottom": null,
            "display": null,
            "flex": null,
            "flex_flow": null,
            "grid_area": null,
            "grid_auto_columns": null,
            "grid_auto_flow": null,
            "grid_auto_rows": null,
            "grid_column": null,
            "grid_gap": null,
            "grid_row": null,
            "grid_template_areas": null,
            "grid_template_columns": null,
            "grid_template_rows": null,
            "height": null,
            "justify_content": null,
            "justify_items": null,
            "left": null,
            "margin": null,
            "max_height": null,
            "max_width": null,
            "min_height": null,
            "min_width": null,
            "object_fit": null,
            "object_position": null,
            "order": null,
            "overflow": null,
            "overflow_x": null,
            "overflow_y": null,
            "padding": null,
            "right": null,
            "top": null,
            "visibility": null,
            "width": null
          }
        },
        "ddf9ebe11e424305a7a33a22e76fabde": {
          "model_module": "@jupyter-widgets/base",
          "model_module_version": "1.2.0",
          "model_name": "LayoutModel",
          "state": {
            "_model_module": "@jupyter-widgets/base",
            "_model_module_version": "1.2.0",
            "_model_name": "LayoutModel",
            "_view_count": null,
            "_view_module": "@jupyter-widgets/base",
            "_view_module_version": "1.2.0",
            "_view_name": "LayoutView",
            "align_content": null,
            "align_items": null,
            "align_self": null,
            "border": null,
            "bottom": null,
            "display": null,
            "flex": null,
            "flex_flow": null,
            "grid_area": null,
            "grid_auto_columns": null,
            "grid_auto_flow": null,
            "grid_auto_rows": null,
            "grid_column": null,
            "grid_gap": null,
            "grid_row": null,
            "grid_template_areas": null,
            "grid_template_columns": null,
            "grid_template_rows": null,
            "height": null,
            "justify_content": null,
            "justify_items": null,
            "left": null,
            "margin": null,
            "max_height": null,
            "max_width": null,
            "min_height": null,
            "min_width": null,
            "object_fit": null,
            "object_position": null,
            "order": null,
            "overflow": null,
            "overflow_x": null,
            "overflow_y": null,
            "padding": null,
            "right": null,
            "top": null,
            "visibility": null,
            "width": null
          }
        },
        "df17efe4330949b4b77574d7c49bfd77": {
          "model_module": "@jupyter-widgets/base",
          "model_module_version": "1.2.0",
          "model_name": "LayoutModel",
          "state": {
            "_model_module": "@jupyter-widgets/base",
            "_model_module_version": "1.2.0",
            "_model_name": "LayoutModel",
            "_view_count": null,
            "_view_module": "@jupyter-widgets/base",
            "_view_module_version": "1.2.0",
            "_view_name": "LayoutView",
            "align_content": null,
            "align_items": null,
            "align_self": null,
            "border": null,
            "bottom": null,
            "display": null,
            "flex": null,
            "flex_flow": null,
            "grid_area": null,
            "grid_auto_columns": null,
            "grid_auto_flow": null,
            "grid_auto_rows": null,
            "grid_column": null,
            "grid_gap": null,
            "grid_row": null,
            "grid_template_areas": null,
            "grid_template_columns": null,
            "grid_template_rows": null,
            "height": null,
            "justify_content": null,
            "justify_items": null,
            "left": null,
            "margin": null,
            "max_height": null,
            "max_width": null,
            "min_height": null,
            "min_width": null,
            "object_fit": null,
            "object_position": null,
            "order": null,
            "overflow": null,
            "overflow_x": null,
            "overflow_y": null,
            "padding": null,
            "right": null,
            "top": null,
            "visibility": null,
            "width": null
          }
        },
        "eeb0bafd66f74c4a93b4e825f60048c9": {
          "model_module": "@jupyter-widgets/base",
          "model_module_version": "1.2.0",
          "model_name": "LayoutModel",
          "state": {
            "_model_module": "@jupyter-widgets/base",
            "_model_module_version": "1.2.0",
            "_model_name": "LayoutModel",
            "_view_count": null,
            "_view_module": "@jupyter-widgets/base",
            "_view_module_version": "1.2.0",
            "_view_name": "LayoutView",
            "align_content": null,
            "align_items": null,
            "align_self": null,
            "border": null,
            "bottom": null,
            "display": null,
            "flex": null,
            "flex_flow": null,
            "grid_area": null,
            "grid_auto_columns": null,
            "grid_auto_flow": null,
            "grid_auto_rows": null,
            "grid_column": null,
            "grid_gap": null,
            "grid_row": null,
            "grid_template_areas": null,
            "grid_template_columns": null,
            "grid_template_rows": null,
            "height": null,
            "justify_content": null,
            "justify_items": null,
            "left": null,
            "margin": null,
            "max_height": null,
            "max_width": null,
            "min_height": null,
            "min_width": null,
            "object_fit": null,
            "object_position": null,
            "order": null,
            "overflow": null,
            "overflow_x": null,
            "overflow_y": null,
            "padding": null,
            "right": null,
            "top": null,
            "visibility": null,
            "width": null
          }
        },
        "f5d8c4e4a44e45bf9aa776807285ba06": {
          "model_module": "@jupyter-widgets/controls",
          "model_module_version": "1.5.0",
          "model_name": "DescriptionStyleModel",
          "state": {
            "_model_module": "@jupyter-widgets/controls",
            "_model_module_version": "1.5.0",
            "_model_name": "DescriptionStyleModel",
            "_view_count": null,
            "_view_module": "@jupyter-widgets/base",
            "_view_module_version": "1.2.0",
            "_view_name": "StyleView",
            "description_width": ""
          }
        }
      }
    }
  },
  "nbformat": 4,
  "nbformat_minor": 0
}
